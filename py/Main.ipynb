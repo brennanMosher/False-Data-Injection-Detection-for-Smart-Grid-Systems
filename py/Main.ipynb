{
 "cells": [
  {
   "cell_type": "code",
   "execution_count": 1,
   "outputs": [],
   "source": [
    "# Main function for the training testing of models"
   ],
   "metadata": {
    "collapsed": false,
    "pycharm": {
     "name": "#%%\n"
    }
   }
  },
  {
   "cell_type": "code",
   "execution_count": 2,
   "outputs": [],
   "source": [
    "from classifier_functions import *\n"
   ],
   "metadata": {
    "collapsed": false,
    "pycharm": {
     "name": "#%%\n"
    }
   }
  },
  {
   "cell_type": "code",
   "execution_count": 3,
   "outputs": [],
   "source": [
    "DATA_LOC = \"../dataset/Original/data_injection_and_normal_events_dataset.csv\""
   ],
   "metadata": {
    "collapsed": false,
    "pycharm": {
     "name": "#%%\n"
    }
   }
  },
  {
   "cell_type": "code",
   "execution_count": 4,
   "outputs": [
    {
     "data": {
      "text/plain": "   R1-PA1:VH     R1-PM1:V  R1-PA2:VH     R1-PM2:V   R1-PA3:VH     R1-PM3:V  \\\n0  90.578898  130456.2238 -29.415653  129804.3188 -149.410204  130506.3704   \n1  90.573168  130506.3704 -29.421383  129854.4653 -149.410204  130556.5169   \n2  90.504413  130807.2496 -29.472949  130180.4178 -149.467500  130857.3961   \n3  90.429929  130932.6159 -29.553163  130330.8575 -149.536255  131007.8358   \n4  90.378363  130982.7625 -29.610459  130355.9307 -149.599280  131057.9823   \n\n   R1-PA4:IH   R1-PM4:I  R1-PA5:IH   R1-PM5:I  ...  control_panel_log4  \\\n0  88.986075  471.50825 -33.644082  486.15705  ...                   0   \n1  88.951698  471.50825 -33.644082  485.79083  ...                   0   \n2  88.367281  473.70557 -33.781592  484.69217  ...                   0   \n3  87.782864  476.26911 -33.970668  485.05839  ...                   0   \n4  87.433360  477.73399 -34.068071  485.24150  ...                   0   \n\n   relay1_log  relay2_log  relay3_log  relay4_log  snort_log1  snort_log2  \\\n0           0           0           0           0           0           0   \n1           0           0           0           0           0           0   \n2           0           0           0           0           0           0   \n3           0           0           0           0           0           0   \n4           0           0           0           0           0           0   \n\n   snort_log3  snort_log4  marker  \n0           0           0       1  \n1           0           0       1  \n2           0           0       1  \n3           0           0       1  \n4           0           0       1  \n\n[5 rows x 129 columns]",
      "text/html": "<div>\n<style scoped>\n    .dataframe tbody tr th:only-of-type {\n        vertical-align: middle;\n    }\n\n    .dataframe tbody tr th {\n        vertical-align: top;\n    }\n\n    .dataframe thead th {\n        text-align: right;\n    }\n</style>\n<table border=\"1\" class=\"dataframe\">\n  <thead>\n    <tr style=\"text-align: right;\">\n      <th></th>\n      <th>R1-PA1:VH</th>\n      <th>R1-PM1:V</th>\n      <th>R1-PA2:VH</th>\n      <th>R1-PM2:V</th>\n      <th>R1-PA3:VH</th>\n      <th>R1-PM3:V</th>\n      <th>R1-PA4:IH</th>\n      <th>R1-PM4:I</th>\n      <th>R1-PA5:IH</th>\n      <th>R1-PM5:I</th>\n      <th>...</th>\n      <th>control_panel_log4</th>\n      <th>relay1_log</th>\n      <th>relay2_log</th>\n      <th>relay3_log</th>\n      <th>relay4_log</th>\n      <th>snort_log1</th>\n      <th>snort_log2</th>\n      <th>snort_log3</th>\n      <th>snort_log4</th>\n      <th>marker</th>\n    </tr>\n  </thead>\n  <tbody>\n    <tr>\n      <th>0</th>\n      <td>90.578898</td>\n      <td>130456.2238</td>\n      <td>-29.415653</td>\n      <td>129804.3188</td>\n      <td>-149.410204</td>\n      <td>130506.3704</td>\n      <td>88.986075</td>\n      <td>471.50825</td>\n      <td>-33.644082</td>\n      <td>486.15705</td>\n      <td>...</td>\n      <td>0</td>\n      <td>0</td>\n      <td>0</td>\n      <td>0</td>\n      <td>0</td>\n      <td>0</td>\n      <td>0</td>\n      <td>0</td>\n      <td>0</td>\n      <td>1</td>\n    </tr>\n    <tr>\n      <th>1</th>\n      <td>90.573168</td>\n      <td>130506.3704</td>\n      <td>-29.421383</td>\n      <td>129854.4653</td>\n      <td>-149.410204</td>\n      <td>130556.5169</td>\n      <td>88.951698</td>\n      <td>471.50825</td>\n      <td>-33.644082</td>\n      <td>485.79083</td>\n      <td>...</td>\n      <td>0</td>\n      <td>0</td>\n      <td>0</td>\n      <td>0</td>\n      <td>0</td>\n      <td>0</td>\n      <td>0</td>\n      <td>0</td>\n      <td>0</td>\n      <td>1</td>\n    </tr>\n    <tr>\n      <th>2</th>\n      <td>90.504413</td>\n      <td>130807.2496</td>\n      <td>-29.472949</td>\n      <td>130180.4178</td>\n      <td>-149.467500</td>\n      <td>130857.3961</td>\n      <td>88.367281</td>\n      <td>473.70557</td>\n      <td>-33.781592</td>\n      <td>484.69217</td>\n      <td>...</td>\n      <td>0</td>\n      <td>0</td>\n      <td>0</td>\n      <td>0</td>\n      <td>0</td>\n      <td>0</td>\n      <td>0</td>\n      <td>0</td>\n      <td>0</td>\n      <td>1</td>\n    </tr>\n    <tr>\n      <th>3</th>\n      <td>90.429929</td>\n      <td>130932.6159</td>\n      <td>-29.553163</td>\n      <td>130330.8575</td>\n      <td>-149.536255</td>\n      <td>131007.8358</td>\n      <td>87.782864</td>\n      <td>476.26911</td>\n      <td>-33.970668</td>\n      <td>485.05839</td>\n      <td>...</td>\n      <td>0</td>\n      <td>0</td>\n      <td>0</td>\n      <td>0</td>\n      <td>0</td>\n      <td>0</td>\n      <td>0</td>\n      <td>0</td>\n      <td>0</td>\n      <td>1</td>\n    </tr>\n    <tr>\n      <th>4</th>\n      <td>90.378363</td>\n      <td>130982.7625</td>\n      <td>-29.610459</td>\n      <td>130355.9307</td>\n      <td>-149.599280</td>\n      <td>131057.9823</td>\n      <td>87.433360</td>\n      <td>477.73399</td>\n      <td>-34.068071</td>\n      <td>485.24150</td>\n      <td>...</td>\n      <td>0</td>\n      <td>0</td>\n      <td>0</td>\n      <td>0</td>\n      <td>0</td>\n      <td>0</td>\n      <td>0</td>\n      <td>0</td>\n      <td>0</td>\n      <td>1</td>\n    </tr>\n  </tbody>\n</table>\n<p>5 rows × 129 columns</p>\n</div>"
     },
     "execution_count": 4,
     "metadata": {},
     "output_type": "execute_result"
    }
   ],
   "source": [
    "df = read_dataset(DATA_LOC)\n",
    "df.head()"
   ],
   "metadata": {
    "collapsed": false,
    "pycharm": {
     "name": "#%%\n"
    }
   }
  },
  {
   "cell_type": "code",
   "execution_count": 5,
   "outputs": [
    {
     "data": {
      "text/plain": "   R1-PA1:VH     R1-PM1:V  R1-PA2:VH     R1-PM2:V   R1-PA3:VH     R1-PM3:V  \\\n0  90.578898  130456.2238 -29.415653  129804.3188 -149.410204  130506.3704   \n1  90.573168  130506.3704 -29.421383  129854.4653 -149.410204  130556.5169   \n2  90.504413  130807.2496 -29.472949  130180.4178 -149.467500  130857.3961   \n3  90.429929  130932.6159 -29.553163  130330.8575 -149.536255  131007.8358   \n4  90.378363  130982.7625 -29.610459  130355.9307 -149.599280  131057.9823   \n\n   R1-PA4:IH   R1-PM4:I  R1-PA5:IH   R1-PM5:I  ...  control_panel_log4  \\\n0  88.986075  471.50825 -33.644082  486.15705  ...                   0   \n1  88.951698  471.50825 -33.644082  485.79083  ...                   0   \n2  88.367281  473.70557 -33.781592  484.69217  ...                   0   \n3  87.782864  476.26911 -33.970668  485.05839  ...                   0   \n4  87.433360  477.73399 -34.068071  485.24150  ...                   0   \n\n   relay1_log  relay2_log  relay3_log  relay4_log  snort_log1  snort_log2  \\\n0           0           0           0           0           0           0   \n1           0           0           0           0           0           0   \n2           0           0           0           0           0           0   \n3           0           0           0           0           0           0   \n4           0           0           0           0           0           0   \n\n   snort_log3  snort_log4  marker  \n0           0           0       1  \n1           0           0       1  \n2           0           0       1  \n3           0           0       1  \n4           0           0       1  \n\n[5 rows x 129 columns]",
      "text/html": "<div>\n<style scoped>\n    .dataframe tbody tr th:only-of-type {\n        vertical-align: middle;\n    }\n\n    .dataframe tbody tr th {\n        vertical-align: top;\n    }\n\n    .dataframe thead th {\n        text-align: right;\n    }\n</style>\n<table border=\"1\" class=\"dataframe\">\n  <thead>\n    <tr style=\"text-align: right;\">\n      <th></th>\n      <th>R1-PA1:VH</th>\n      <th>R1-PM1:V</th>\n      <th>R1-PA2:VH</th>\n      <th>R1-PM2:V</th>\n      <th>R1-PA3:VH</th>\n      <th>R1-PM3:V</th>\n      <th>R1-PA4:IH</th>\n      <th>R1-PM4:I</th>\n      <th>R1-PA5:IH</th>\n      <th>R1-PM5:I</th>\n      <th>...</th>\n      <th>control_panel_log4</th>\n      <th>relay1_log</th>\n      <th>relay2_log</th>\n      <th>relay3_log</th>\n      <th>relay4_log</th>\n      <th>snort_log1</th>\n      <th>snort_log2</th>\n      <th>snort_log3</th>\n      <th>snort_log4</th>\n      <th>marker</th>\n    </tr>\n  </thead>\n  <tbody>\n    <tr>\n      <th>0</th>\n      <td>90.578898</td>\n      <td>130456.2238</td>\n      <td>-29.415653</td>\n      <td>129804.3188</td>\n      <td>-149.410204</td>\n      <td>130506.3704</td>\n      <td>88.986075</td>\n      <td>471.50825</td>\n      <td>-33.644082</td>\n      <td>486.15705</td>\n      <td>...</td>\n      <td>0</td>\n      <td>0</td>\n      <td>0</td>\n      <td>0</td>\n      <td>0</td>\n      <td>0</td>\n      <td>0</td>\n      <td>0</td>\n      <td>0</td>\n      <td>1</td>\n    </tr>\n    <tr>\n      <th>1</th>\n      <td>90.573168</td>\n      <td>130506.3704</td>\n      <td>-29.421383</td>\n      <td>129854.4653</td>\n      <td>-149.410204</td>\n      <td>130556.5169</td>\n      <td>88.951698</td>\n      <td>471.50825</td>\n      <td>-33.644082</td>\n      <td>485.79083</td>\n      <td>...</td>\n      <td>0</td>\n      <td>0</td>\n      <td>0</td>\n      <td>0</td>\n      <td>0</td>\n      <td>0</td>\n      <td>0</td>\n      <td>0</td>\n      <td>0</td>\n      <td>1</td>\n    </tr>\n    <tr>\n      <th>2</th>\n      <td>90.504413</td>\n      <td>130807.2496</td>\n      <td>-29.472949</td>\n      <td>130180.4178</td>\n      <td>-149.467500</td>\n      <td>130857.3961</td>\n      <td>88.367281</td>\n      <td>473.70557</td>\n      <td>-33.781592</td>\n      <td>484.69217</td>\n      <td>...</td>\n      <td>0</td>\n      <td>0</td>\n      <td>0</td>\n      <td>0</td>\n      <td>0</td>\n      <td>0</td>\n      <td>0</td>\n      <td>0</td>\n      <td>0</td>\n      <td>1</td>\n    </tr>\n    <tr>\n      <th>3</th>\n      <td>90.429929</td>\n      <td>130932.6159</td>\n      <td>-29.553163</td>\n      <td>130330.8575</td>\n      <td>-149.536255</td>\n      <td>131007.8358</td>\n      <td>87.782864</td>\n      <td>476.26911</td>\n      <td>-33.970668</td>\n      <td>485.05839</td>\n      <td>...</td>\n      <td>0</td>\n      <td>0</td>\n      <td>0</td>\n      <td>0</td>\n      <td>0</td>\n      <td>0</td>\n      <td>0</td>\n      <td>0</td>\n      <td>0</td>\n      <td>1</td>\n    </tr>\n    <tr>\n      <th>4</th>\n      <td>90.378363</td>\n      <td>130982.7625</td>\n      <td>-29.610459</td>\n      <td>130355.9307</td>\n      <td>-149.599280</td>\n      <td>131057.9823</td>\n      <td>87.433360</td>\n      <td>477.73399</td>\n      <td>-34.068071</td>\n      <td>485.24150</td>\n      <td>...</td>\n      <td>0</td>\n      <td>0</td>\n      <td>0</td>\n      <td>0</td>\n      <td>0</td>\n      <td>0</td>\n      <td>0</td>\n      <td>0</td>\n      <td>0</td>\n      <td>1</td>\n    </tr>\n  </tbody>\n</table>\n<p>5 rows × 129 columns</p>\n</div>"
     },
     "execution_count": 5,
     "metadata": {},
     "output_type": "execute_result"
    }
   ],
   "source": [
    "df = dataset_preprocess(df)\n",
    "df.head()"
   ],
   "metadata": {
    "collapsed": false,
    "pycharm": {
     "name": "#%%\n"
    }
   }
  },
  {
   "cell_type": "code",
   "execution_count": 6,
   "outputs": [
    {
     "data": {
      "text/plain": "'\\n#Uncomment this block to have MinMaxScaling\\n\\ndf = scaling(df, \"MinMax\")\\n\\n'"
     },
     "execution_count": 6,
     "metadata": {},
     "output_type": "execute_result"
    }
   ],
   "source": [
    "'''\n",
    "#Uncomment this block to have MinMaxScaling\n",
    "\n",
    "df = scaling(df, \"MinMax\")\n",
    "\n",
    "'''"
   ],
   "metadata": {
    "collapsed": false,
    "pycharm": {
     "name": "#%%\n"
    }
   }
  },
  {
   "cell_type": "code",
   "execution_count": 7,
   "outputs": [],
   "source": [
    "train_df, test_df = training_testing_split(df, testing_split=0.3)"
   ],
   "metadata": {
    "collapsed": false,
    "pycharm": {
     "name": "#%%\n"
    }
   }
  },
  {
   "cell_type": "code",
   "execution_count": 8,
   "outputs": [
    {
     "data": {
      "text/plain": "        R1-PA1:VH     R1-PM1:V   R1-PA2:VH     R1-PM2:V   R1-PA3:VH  \\\n2978   -34.961885  131007.8358 -154.950706  130381.0040   85.072773   \n6240   -32.412222  131208.4219 -152.406774  130581.5902   87.610976   \n7131  -128.394112  132336.7191  111.606449  131684.8140   -8.388102   \n19790   78.088418  137802.6919  -41.900404  137777.6187 -161.860577   \n2751   161.430859  135521.0244   41.459226  135495.9511  -78.552514   \n\n          R1-PM3:V   R1-PA4:IH   R1-PM4:I   R1-PA5:IH   R1-PM5:I  ...  \\\n2978   131057.9823  -39.700246  487.07260 -159.654690  487.43882  ...   \n6240   131258.5685  -36.646381  462.35275 -156.612284  462.35275  ...   \n7131   132386.8656 -126.537729  278.51031  112.826849  280.70763  ...   \n19790  137877.9117    0.000000    0.00000    0.000000    0.00000  ...   \n2751   135596.2442    0.000000    0.00000    0.000000    0.00000  ...   \n\n       control_panel_log4  relay1_log  relay2_log  relay3_log  relay4_log  \\\n2978                    0           0           0           0           0   \n6240                    0           0           0           0           0   \n7131                    0           0           0           0           0   \n19790                   0           1           1           0           0   \n2751                    0           1           1           0           0   \n\n       snort_log1  snort_log2  snort_log3  snort_log4  marker  \n2978            0           0           0           0       1  \n6240            0           0           0           0       1  \n7131            0           0           0           0       1  \n19790           0           0           0           0       0  \n2751            0           0           0           0       1  \n\n[5 rows x 129 columns]",
      "text/html": "<div>\n<style scoped>\n    .dataframe tbody tr th:only-of-type {\n        vertical-align: middle;\n    }\n\n    .dataframe tbody tr th {\n        vertical-align: top;\n    }\n\n    .dataframe thead th {\n        text-align: right;\n    }\n</style>\n<table border=\"1\" class=\"dataframe\">\n  <thead>\n    <tr style=\"text-align: right;\">\n      <th></th>\n      <th>R1-PA1:VH</th>\n      <th>R1-PM1:V</th>\n      <th>R1-PA2:VH</th>\n      <th>R1-PM2:V</th>\n      <th>R1-PA3:VH</th>\n      <th>R1-PM3:V</th>\n      <th>R1-PA4:IH</th>\n      <th>R1-PM4:I</th>\n      <th>R1-PA5:IH</th>\n      <th>R1-PM5:I</th>\n      <th>...</th>\n      <th>control_panel_log4</th>\n      <th>relay1_log</th>\n      <th>relay2_log</th>\n      <th>relay3_log</th>\n      <th>relay4_log</th>\n      <th>snort_log1</th>\n      <th>snort_log2</th>\n      <th>snort_log3</th>\n      <th>snort_log4</th>\n      <th>marker</th>\n    </tr>\n  </thead>\n  <tbody>\n    <tr>\n      <th>2978</th>\n      <td>-34.961885</td>\n      <td>131007.8358</td>\n      <td>-154.950706</td>\n      <td>130381.0040</td>\n      <td>85.072773</td>\n      <td>131057.9823</td>\n      <td>-39.700246</td>\n      <td>487.07260</td>\n      <td>-159.654690</td>\n      <td>487.43882</td>\n      <td>...</td>\n      <td>0</td>\n      <td>0</td>\n      <td>0</td>\n      <td>0</td>\n      <td>0</td>\n      <td>0</td>\n      <td>0</td>\n      <td>0</td>\n      <td>0</td>\n      <td>1</td>\n    </tr>\n    <tr>\n      <th>6240</th>\n      <td>-32.412222</td>\n      <td>131208.4219</td>\n      <td>-152.406774</td>\n      <td>130581.5902</td>\n      <td>87.610976</td>\n      <td>131258.5685</td>\n      <td>-36.646381</td>\n      <td>462.35275</td>\n      <td>-156.612284</td>\n      <td>462.35275</td>\n      <td>...</td>\n      <td>0</td>\n      <td>0</td>\n      <td>0</td>\n      <td>0</td>\n      <td>0</td>\n      <td>0</td>\n      <td>0</td>\n      <td>0</td>\n      <td>0</td>\n      <td>1</td>\n    </tr>\n    <tr>\n      <th>7131</th>\n      <td>-128.394112</td>\n      <td>132336.7191</td>\n      <td>111.606449</td>\n      <td>131684.8140</td>\n      <td>-8.388102</td>\n      <td>132386.8656</td>\n      <td>-126.537729</td>\n      <td>278.51031</td>\n      <td>112.826849</td>\n      <td>280.70763</td>\n      <td>...</td>\n      <td>0</td>\n      <td>0</td>\n      <td>0</td>\n      <td>0</td>\n      <td>0</td>\n      <td>0</td>\n      <td>0</td>\n      <td>0</td>\n      <td>0</td>\n      <td>1</td>\n    </tr>\n    <tr>\n      <th>19790</th>\n      <td>78.088418</td>\n      <td>137802.6919</td>\n      <td>-41.900404</td>\n      <td>137777.6187</td>\n      <td>-161.860577</td>\n      <td>137877.9117</td>\n      <td>0.000000</td>\n      <td>0.00000</td>\n      <td>0.000000</td>\n      <td>0.00000</td>\n      <td>...</td>\n      <td>0</td>\n      <td>1</td>\n      <td>1</td>\n      <td>0</td>\n      <td>0</td>\n      <td>0</td>\n      <td>0</td>\n      <td>0</td>\n      <td>0</td>\n      <td>0</td>\n    </tr>\n    <tr>\n      <th>2751</th>\n      <td>161.430859</td>\n      <td>135521.0244</td>\n      <td>41.459226</td>\n      <td>135495.9511</td>\n      <td>-78.552514</td>\n      <td>135596.2442</td>\n      <td>0.000000</td>\n      <td>0.00000</td>\n      <td>0.000000</td>\n      <td>0.00000</td>\n      <td>...</td>\n      <td>0</td>\n      <td>1</td>\n      <td>1</td>\n      <td>0</td>\n      <td>0</td>\n      <td>0</td>\n      <td>0</td>\n      <td>0</td>\n      <td>0</td>\n      <td>1</td>\n    </tr>\n  </tbody>\n</table>\n<p>5 rows × 129 columns</p>\n</div>"
     },
     "execution_count": 8,
     "metadata": {},
     "output_type": "execute_result"
    }
   ],
   "source": [
    "train_df.head()"
   ],
   "metadata": {
    "collapsed": false,
    "pycharm": {
     "name": "#%%\n"
    }
   }
  },
  {
   "cell_type": "code",
   "execution_count": 9,
   "outputs": [
    {
     "data": {
      "text/plain": "        R1-PA1:VH     R1-PM1:V   R1-PA2:VH     R1-PM2:V   R1-PA3:VH  \\\n31366  133.676783  131534.3744   13.687962  130882.4694 -106.295130   \n28703  -51.818303  131007.8358 -171.807124  130381.0040   68.216355   \n27244   38.313688  132838.1845  -81.657945  132813.1112  158.348346   \n8595     9.150136  131684.8140 -110.844415  131032.9090  129.167605   \n28265 -129.299386  132512.2320  110.729824  131885.4002   -9.281916   \n\n          R1-PM3:V   R1-PA4:IH   R1-PM4:I   R1-PA5:IH   R1-PM5:I  ...  \\\n31366  131584.5210  130.548434  415.11037   10.966412  414.19482  ...   \n28703  131083.0556  -56.447802  486.88949 -176.556945  487.43882  ...   \n27244  132913.4043   45.435553  246.46606  -72.805747  243.71941  ...   \n8595   131734.9606    6.474423  393.50339 -113.502939  394.05272  ...   \n28265  132537.3052 -126.222602  260.38242  110.540747  269.35481  ...   \n\n       control_panel_log4  relay1_log  relay2_log  relay3_log  relay4_log  \\\n31366                   0           0           0           0           0   \n28703                   0           0           0           0           0   \n27244                   0           0           0           0           0   \n8595                    0           0           0           0           0   \n28265                   0           0           0           0           0   \n\n       snort_log1  snort_log2  snort_log3  snort_log4  marker  \n31366           0           0           0           0       0  \n28703           0           0           0           0       0  \n27244           0           0           0           0       0  \n8595            0           0           0           0       1  \n28265           0           0           0           0       0  \n\n[5 rows x 129 columns]",
      "text/html": "<div>\n<style scoped>\n    .dataframe tbody tr th:only-of-type {\n        vertical-align: middle;\n    }\n\n    .dataframe tbody tr th {\n        vertical-align: top;\n    }\n\n    .dataframe thead th {\n        text-align: right;\n    }\n</style>\n<table border=\"1\" class=\"dataframe\">\n  <thead>\n    <tr style=\"text-align: right;\">\n      <th></th>\n      <th>R1-PA1:VH</th>\n      <th>R1-PM1:V</th>\n      <th>R1-PA2:VH</th>\n      <th>R1-PM2:V</th>\n      <th>R1-PA3:VH</th>\n      <th>R1-PM3:V</th>\n      <th>R1-PA4:IH</th>\n      <th>R1-PM4:I</th>\n      <th>R1-PA5:IH</th>\n      <th>R1-PM5:I</th>\n      <th>...</th>\n      <th>control_panel_log4</th>\n      <th>relay1_log</th>\n      <th>relay2_log</th>\n      <th>relay3_log</th>\n      <th>relay4_log</th>\n      <th>snort_log1</th>\n      <th>snort_log2</th>\n      <th>snort_log3</th>\n      <th>snort_log4</th>\n      <th>marker</th>\n    </tr>\n  </thead>\n  <tbody>\n    <tr>\n      <th>31366</th>\n      <td>133.676783</td>\n      <td>131534.3744</td>\n      <td>13.687962</td>\n      <td>130882.4694</td>\n      <td>-106.295130</td>\n      <td>131584.5210</td>\n      <td>130.548434</td>\n      <td>415.11037</td>\n      <td>10.966412</td>\n      <td>414.19482</td>\n      <td>...</td>\n      <td>0</td>\n      <td>0</td>\n      <td>0</td>\n      <td>0</td>\n      <td>0</td>\n      <td>0</td>\n      <td>0</td>\n      <td>0</td>\n      <td>0</td>\n      <td>0</td>\n    </tr>\n    <tr>\n      <th>28703</th>\n      <td>-51.818303</td>\n      <td>131007.8358</td>\n      <td>-171.807124</td>\n      <td>130381.0040</td>\n      <td>68.216355</td>\n      <td>131083.0556</td>\n      <td>-56.447802</td>\n      <td>486.88949</td>\n      <td>-176.556945</td>\n      <td>487.43882</td>\n      <td>...</td>\n      <td>0</td>\n      <td>0</td>\n      <td>0</td>\n      <td>0</td>\n      <td>0</td>\n      <td>0</td>\n      <td>0</td>\n      <td>0</td>\n      <td>0</td>\n      <td>0</td>\n    </tr>\n    <tr>\n      <th>27244</th>\n      <td>38.313688</td>\n      <td>132838.1845</td>\n      <td>-81.657945</td>\n      <td>132813.1112</td>\n      <td>158.348346</td>\n      <td>132913.4043</td>\n      <td>45.435553</td>\n      <td>246.46606</td>\n      <td>-72.805747</td>\n      <td>243.71941</td>\n      <td>...</td>\n      <td>0</td>\n      <td>0</td>\n      <td>0</td>\n      <td>0</td>\n      <td>0</td>\n      <td>0</td>\n      <td>0</td>\n      <td>0</td>\n      <td>0</td>\n      <td>0</td>\n    </tr>\n    <tr>\n      <th>8595</th>\n      <td>9.150136</td>\n      <td>131684.8140</td>\n      <td>-110.844415</td>\n      <td>131032.9090</td>\n      <td>129.167605</td>\n      <td>131734.9606</td>\n      <td>6.474423</td>\n      <td>393.50339</td>\n      <td>-113.502939</td>\n      <td>394.05272</td>\n      <td>...</td>\n      <td>0</td>\n      <td>0</td>\n      <td>0</td>\n      <td>0</td>\n      <td>0</td>\n      <td>0</td>\n      <td>0</td>\n      <td>0</td>\n      <td>0</td>\n      <td>1</td>\n    </tr>\n    <tr>\n      <th>28265</th>\n      <td>-129.299386</td>\n      <td>132512.2320</td>\n      <td>110.729824</td>\n      <td>131885.4002</td>\n      <td>-9.281916</td>\n      <td>132537.3052</td>\n      <td>-126.222602</td>\n      <td>260.38242</td>\n      <td>110.540747</td>\n      <td>269.35481</td>\n      <td>...</td>\n      <td>0</td>\n      <td>0</td>\n      <td>0</td>\n      <td>0</td>\n      <td>0</td>\n      <td>0</td>\n      <td>0</td>\n      <td>0</td>\n      <td>0</td>\n      <td>0</td>\n    </tr>\n  </tbody>\n</table>\n<p>5 rows × 129 columns</p>\n</div>"
     },
     "execution_count": 9,
     "metadata": {},
     "output_type": "execute_result"
    }
   ],
   "source": [
    "test_df.head()"
   ],
   "metadata": {
    "collapsed": false,
    "pycharm": {
     "name": "#%%\n"
    }
   }
  },
  {
   "cell_type": "code",
   "execution_count": 10,
   "outputs": [],
   "source": [
    "train_df, label_train_df = data_label_split(train_df)"
   ],
   "metadata": {
    "collapsed": false,
    "pycharm": {
     "name": "#%%\n"
    }
   }
  },
  {
   "cell_type": "code",
   "execution_count": 11,
   "outputs": [
    {
     "data": {
      "text/plain": "        R1-PA1:VH     R1-PM1:V   R1-PA2:VH     R1-PM2:V   R1-PA3:VH  \\\n2978   -34.961885  131007.8358 -154.950706  130381.0040   85.072773   \n6240   -32.412222  131208.4219 -152.406774  130581.5902   87.610976   \n7131  -128.394112  132336.7191  111.606449  131684.8140   -8.388102   \n19790   78.088418  137802.6919  -41.900404  137777.6187 -161.860577   \n2751   161.430859  135521.0244   41.459226  135495.9511  -78.552514   \n\n          R1-PM3:V   R1-PA4:IH   R1-PM4:I   R1-PA5:IH   R1-PM5:I  ...  \\\n2978   131057.9823  -39.700246  487.07260 -159.654690  487.43882  ...   \n6240   131258.5685  -36.646381  462.35275 -156.612284  462.35275  ...   \n7131   132386.8656 -126.537729  278.51031  112.826849  280.70763  ...   \n19790  137877.9117    0.000000    0.00000    0.000000    0.00000  ...   \n2751   135596.2442    0.000000    0.00000    0.000000    0.00000  ...   \n\n       control_panel_log3  control_panel_log4  relay1_log  relay2_log  \\\n2978                    0                   0           0           0   \n6240                    0                   0           0           0   \n7131                    0                   0           0           0   \n19790                   0                   0           1           1   \n2751                    0                   0           1           1   \n\n       relay3_log  relay4_log  snort_log1  snort_log2  snort_log3  snort_log4  \n2978            0           0           0           0           0           0  \n6240            0           0           0           0           0           0  \n7131            0           0           0           0           0           0  \n19790           0           0           0           0           0           0  \n2751            0           0           0           0           0           0  \n\n[5 rows x 128 columns]",
      "text/html": "<div>\n<style scoped>\n    .dataframe tbody tr th:only-of-type {\n        vertical-align: middle;\n    }\n\n    .dataframe tbody tr th {\n        vertical-align: top;\n    }\n\n    .dataframe thead th {\n        text-align: right;\n    }\n</style>\n<table border=\"1\" class=\"dataframe\">\n  <thead>\n    <tr style=\"text-align: right;\">\n      <th></th>\n      <th>R1-PA1:VH</th>\n      <th>R1-PM1:V</th>\n      <th>R1-PA2:VH</th>\n      <th>R1-PM2:V</th>\n      <th>R1-PA3:VH</th>\n      <th>R1-PM3:V</th>\n      <th>R1-PA4:IH</th>\n      <th>R1-PM4:I</th>\n      <th>R1-PA5:IH</th>\n      <th>R1-PM5:I</th>\n      <th>...</th>\n      <th>control_panel_log3</th>\n      <th>control_panel_log4</th>\n      <th>relay1_log</th>\n      <th>relay2_log</th>\n      <th>relay3_log</th>\n      <th>relay4_log</th>\n      <th>snort_log1</th>\n      <th>snort_log2</th>\n      <th>snort_log3</th>\n      <th>snort_log4</th>\n    </tr>\n  </thead>\n  <tbody>\n    <tr>\n      <th>2978</th>\n      <td>-34.961885</td>\n      <td>131007.8358</td>\n      <td>-154.950706</td>\n      <td>130381.0040</td>\n      <td>85.072773</td>\n      <td>131057.9823</td>\n      <td>-39.700246</td>\n      <td>487.07260</td>\n      <td>-159.654690</td>\n      <td>487.43882</td>\n      <td>...</td>\n      <td>0</td>\n      <td>0</td>\n      <td>0</td>\n      <td>0</td>\n      <td>0</td>\n      <td>0</td>\n      <td>0</td>\n      <td>0</td>\n      <td>0</td>\n      <td>0</td>\n    </tr>\n    <tr>\n      <th>6240</th>\n      <td>-32.412222</td>\n      <td>131208.4219</td>\n      <td>-152.406774</td>\n      <td>130581.5902</td>\n      <td>87.610976</td>\n      <td>131258.5685</td>\n      <td>-36.646381</td>\n      <td>462.35275</td>\n      <td>-156.612284</td>\n      <td>462.35275</td>\n      <td>...</td>\n      <td>0</td>\n      <td>0</td>\n      <td>0</td>\n      <td>0</td>\n      <td>0</td>\n      <td>0</td>\n      <td>0</td>\n      <td>0</td>\n      <td>0</td>\n      <td>0</td>\n    </tr>\n    <tr>\n      <th>7131</th>\n      <td>-128.394112</td>\n      <td>132336.7191</td>\n      <td>111.606449</td>\n      <td>131684.8140</td>\n      <td>-8.388102</td>\n      <td>132386.8656</td>\n      <td>-126.537729</td>\n      <td>278.51031</td>\n      <td>112.826849</td>\n      <td>280.70763</td>\n      <td>...</td>\n      <td>0</td>\n      <td>0</td>\n      <td>0</td>\n      <td>0</td>\n      <td>0</td>\n      <td>0</td>\n      <td>0</td>\n      <td>0</td>\n      <td>0</td>\n      <td>0</td>\n    </tr>\n    <tr>\n      <th>19790</th>\n      <td>78.088418</td>\n      <td>137802.6919</td>\n      <td>-41.900404</td>\n      <td>137777.6187</td>\n      <td>-161.860577</td>\n      <td>137877.9117</td>\n      <td>0.000000</td>\n      <td>0.00000</td>\n      <td>0.000000</td>\n      <td>0.00000</td>\n      <td>...</td>\n      <td>0</td>\n      <td>0</td>\n      <td>1</td>\n      <td>1</td>\n      <td>0</td>\n      <td>0</td>\n      <td>0</td>\n      <td>0</td>\n      <td>0</td>\n      <td>0</td>\n    </tr>\n    <tr>\n      <th>2751</th>\n      <td>161.430859</td>\n      <td>135521.0244</td>\n      <td>41.459226</td>\n      <td>135495.9511</td>\n      <td>-78.552514</td>\n      <td>135596.2442</td>\n      <td>0.000000</td>\n      <td>0.00000</td>\n      <td>0.000000</td>\n      <td>0.00000</td>\n      <td>...</td>\n      <td>0</td>\n      <td>0</td>\n      <td>1</td>\n      <td>1</td>\n      <td>0</td>\n      <td>0</td>\n      <td>0</td>\n      <td>0</td>\n      <td>0</td>\n      <td>0</td>\n    </tr>\n  </tbody>\n</table>\n<p>5 rows × 128 columns</p>\n</div>"
     },
     "execution_count": 11,
     "metadata": {},
     "output_type": "execute_result"
    }
   ],
   "source": [
    "train_df.head()"
   ],
   "metadata": {
    "collapsed": false,
    "pycharm": {
     "name": "#%%\n"
    }
   }
  },
  {
   "cell_type": "code",
   "execution_count": 12,
   "outputs": [
    {
     "data": {
      "text/plain": "2978     1\n6240     1\n7131     1\n19790    0\n2751     1\nName: marker, dtype: int64"
     },
     "execution_count": 12,
     "metadata": {},
     "output_type": "execute_result"
    }
   ],
   "source": [
    "label_train_df.head()"
   ],
   "metadata": {
    "collapsed": false,
    "pycharm": {
     "name": "#%%\n"
    }
   }
  },
  {
   "cell_type": "code",
   "execution_count": 13,
   "outputs": [],
   "source": [
    "test_df, label_test_df = data_label_split(test_df)"
   ],
   "metadata": {
    "collapsed": false,
    "pycharm": {
     "name": "#%%\n"
    }
   }
  },
  {
   "cell_type": "code",
   "execution_count": 14,
   "outputs": [
    {
     "data": {
      "text/plain": "        R1-PA1:VH     R1-PM1:V   R1-PA2:VH     R1-PM2:V   R1-PA3:VH  \\\n31366  133.676783  131534.3744   13.687962  130882.4694 -106.295130   \n28703  -51.818303  131007.8358 -171.807124  130381.0040   68.216355   \n27244   38.313688  132838.1845  -81.657945  132813.1112  158.348346   \n8595     9.150136  131684.8140 -110.844415  131032.9090  129.167605   \n28265 -129.299386  132512.2320  110.729824  131885.4002   -9.281916   \n\n          R1-PM3:V   R1-PA4:IH   R1-PM4:I   R1-PA5:IH   R1-PM5:I  ...  \\\n31366  131584.5210  130.548434  415.11037   10.966412  414.19482  ...   \n28703  131083.0556  -56.447802  486.88949 -176.556945  487.43882  ...   \n27244  132913.4043   45.435553  246.46606  -72.805747  243.71941  ...   \n8595   131734.9606    6.474423  393.50339 -113.502939  394.05272  ...   \n28265  132537.3052 -126.222602  260.38242  110.540747  269.35481  ...   \n\n       control_panel_log3  control_panel_log4  relay1_log  relay2_log  \\\n31366                   0                   0           0           0   \n28703                   0                   0           0           0   \n27244                   0                   0           0           0   \n8595                    0                   0           0           0   \n28265                   0                   0           0           0   \n\n       relay3_log  relay4_log  snort_log1  snort_log2  snort_log3  snort_log4  \n31366           0           0           0           0           0           0  \n28703           0           0           0           0           0           0  \n27244           0           0           0           0           0           0  \n8595            0           0           0           0           0           0  \n28265           0           0           0           0           0           0  \n\n[5 rows x 128 columns]",
      "text/html": "<div>\n<style scoped>\n    .dataframe tbody tr th:only-of-type {\n        vertical-align: middle;\n    }\n\n    .dataframe tbody tr th {\n        vertical-align: top;\n    }\n\n    .dataframe thead th {\n        text-align: right;\n    }\n</style>\n<table border=\"1\" class=\"dataframe\">\n  <thead>\n    <tr style=\"text-align: right;\">\n      <th></th>\n      <th>R1-PA1:VH</th>\n      <th>R1-PM1:V</th>\n      <th>R1-PA2:VH</th>\n      <th>R1-PM2:V</th>\n      <th>R1-PA3:VH</th>\n      <th>R1-PM3:V</th>\n      <th>R1-PA4:IH</th>\n      <th>R1-PM4:I</th>\n      <th>R1-PA5:IH</th>\n      <th>R1-PM5:I</th>\n      <th>...</th>\n      <th>control_panel_log3</th>\n      <th>control_panel_log4</th>\n      <th>relay1_log</th>\n      <th>relay2_log</th>\n      <th>relay3_log</th>\n      <th>relay4_log</th>\n      <th>snort_log1</th>\n      <th>snort_log2</th>\n      <th>snort_log3</th>\n      <th>snort_log4</th>\n    </tr>\n  </thead>\n  <tbody>\n    <tr>\n      <th>31366</th>\n      <td>133.676783</td>\n      <td>131534.3744</td>\n      <td>13.687962</td>\n      <td>130882.4694</td>\n      <td>-106.295130</td>\n      <td>131584.5210</td>\n      <td>130.548434</td>\n      <td>415.11037</td>\n      <td>10.966412</td>\n      <td>414.19482</td>\n      <td>...</td>\n      <td>0</td>\n      <td>0</td>\n      <td>0</td>\n      <td>0</td>\n      <td>0</td>\n      <td>0</td>\n      <td>0</td>\n      <td>0</td>\n      <td>0</td>\n      <td>0</td>\n    </tr>\n    <tr>\n      <th>28703</th>\n      <td>-51.818303</td>\n      <td>131007.8358</td>\n      <td>-171.807124</td>\n      <td>130381.0040</td>\n      <td>68.216355</td>\n      <td>131083.0556</td>\n      <td>-56.447802</td>\n      <td>486.88949</td>\n      <td>-176.556945</td>\n      <td>487.43882</td>\n      <td>...</td>\n      <td>0</td>\n      <td>0</td>\n      <td>0</td>\n      <td>0</td>\n      <td>0</td>\n      <td>0</td>\n      <td>0</td>\n      <td>0</td>\n      <td>0</td>\n      <td>0</td>\n    </tr>\n    <tr>\n      <th>27244</th>\n      <td>38.313688</td>\n      <td>132838.1845</td>\n      <td>-81.657945</td>\n      <td>132813.1112</td>\n      <td>158.348346</td>\n      <td>132913.4043</td>\n      <td>45.435553</td>\n      <td>246.46606</td>\n      <td>-72.805747</td>\n      <td>243.71941</td>\n      <td>...</td>\n      <td>0</td>\n      <td>0</td>\n      <td>0</td>\n      <td>0</td>\n      <td>0</td>\n      <td>0</td>\n      <td>0</td>\n      <td>0</td>\n      <td>0</td>\n      <td>0</td>\n    </tr>\n    <tr>\n      <th>8595</th>\n      <td>9.150136</td>\n      <td>131684.8140</td>\n      <td>-110.844415</td>\n      <td>131032.9090</td>\n      <td>129.167605</td>\n      <td>131734.9606</td>\n      <td>6.474423</td>\n      <td>393.50339</td>\n      <td>-113.502939</td>\n      <td>394.05272</td>\n      <td>...</td>\n      <td>0</td>\n      <td>0</td>\n      <td>0</td>\n      <td>0</td>\n      <td>0</td>\n      <td>0</td>\n      <td>0</td>\n      <td>0</td>\n      <td>0</td>\n      <td>0</td>\n    </tr>\n    <tr>\n      <th>28265</th>\n      <td>-129.299386</td>\n      <td>132512.2320</td>\n      <td>110.729824</td>\n      <td>131885.4002</td>\n      <td>-9.281916</td>\n      <td>132537.3052</td>\n      <td>-126.222602</td>\n      <td>260.38242</td>\n      <td>110.540747</td>\n      <td>269.35481</td>\n      <td>...</td>\n      <td>0</td>\n      <td>0</td>\n      <td>0</td>\n      <td>0</td>\n      <td>0</td>\n      <td>0</td>\n      <td>0</td>\n      <td>0</td>\n      <td>0</td>\n      <td>0</td>\n    </tr>\n  </tbody>\n</table>\n<p>5 rows × 128 columns</p>\n</div>"
     },
     "execution_count": 14,
     "metadata": {},
     "output_type": "execute_result"
    }
   ],
   "source": [
    "test_df.head()"
   ],
   "metadata": {
    "collapsed": false,
    "pycharm": {
     "name": "#%%\n"
    }
   }
  },
  {
   "cell_type": "code",
   "execution_count": 15,
   "outputs": [
    {
     "data": {
      "text/plain": "31366    0\n28703    0\n27244    0\n8595     1\n28265    0\nName: marker, dtype: int64"
     },
     "execution_count": 15,
     "metadata": {},
     "output_type": "execute_result"
    }
   ],
   "source": [
    "label_test_df.head()"
   ],
   "metadata": {
    "collapsed": false,
    "pycharm": {
     "name": "#%%\n"
    }
   }
  },
  {
   "cell_type": "code",
   "execution_count": 16,
   "outputs": [
    {
     "name": "stdout",
     "output_type": "stream",
     "text": [
      "Training time = 16.77s\n",
      "Testing time = 0.3s\n",
      "              precision    recall  f1-score   support\n",
      "\n",
      "           0       0.91      0.98      0.94      6844\n",
      "           1       0.93      0.78      0.85      2845\n",
      "\n",
      "    accuracy                           0.92      9689\n",
      "   macro avg       0.92      0.88      0.89      9689\n",
      "weighted avg       0.92      0.92      0.91      9689\n",
      "\n"
     ]
    }
   ],
   "source": [
    "rf = training(train_df, label_train_df, classifier=\"Random Forest\")\n",
    "testing(test_df, label_test_df, rf)"
   ],
   "metadata": {
    "collapsed": false,
    "pycharm": {
     "name": "#%%\n"
    }
   }
  },
  {
   "cell_type": "code",
   "execution_count": 17,
   "outputs": [
    {
     "name": "stdout",
     "output_type": "stream",
     "text": [
      "Training time = 219.38s\n",
      "Testing time = 10.26s\n",
      "              precision    recall  f1-score   support\n",
      "\n",
      "           0       0.71      0.98      0.82      6844\n",
      "           1       0.42      0.03      0.05      2845\n",
      "\n",
      "    accuracy                           0.70      9689\n",
      "   macro avg       0.56      0.51      0.44      9689\n",
      "weighted avg       0.62      0.70      0.60      9689\n",
      "\n"
     ]
    }
   ],
   "source": [
    "svm = training(train_df, label_train_df, classifier=\"SVM\")\n",
    "testing(test_df, label_test_df, svm)"
   ],
   "metadata": {
    "collapsed": false,
    "pycharm": {
     "name": "#%%\n"
    }
   }
  },
  {
   "cell_type": "code",
   "execution_count": 18,
   "outputs": [
    {
     "name": "stdout",
     "output_type": "stream",
     "text": [
      "Training time = 0.68s\n",
      "Testing time = 0.01s\n",
      "              precision    recall  f1-score   support\n",
      "\n",
      "           0       0.71      1.00      0.83      6844\n",
      "           1       0.40      0.01      0.01      2845\n",
      "\n",
      "    accuracy                           0.71      9689\n",
      "   macro avg       0.56      0.50      0.42      9689\n",
      "weighted avg       0.62      0.71      0.59      9689\n",
      "\n"
     ]
    },
    {
     "name": "stderr",
     "output_type": "stream",
     "text": [
      "C:\\Users\\brenn\\PycharmProjects\\False-Data-Injection-Detection-for-Smart-Grid-Systems\\lib\\site-packages\\sklearn\\linear_model\\_logistic.py:814: ConvergenceWarning: lbfgs failed to converge (status=1):\n",
      "STOP: TOTAL NO. of ITERATIONS REACHED LIMIT.\n",
      "\n",
      "Increase the number of iterations (max_iter) or scale the data as shown in:\n",
      "    https://scikit-learn.org/stable/modules/preprocessing.html\n",
      "Please also refer to the documentation for alternative solver options:\n",
      "    https://scikit-learn.org/stable/modules/linear_model.html#logistic-regression\n",
      "  n_iter_i = _check_optimize_result(\n"
     ]
    }
   ],
   "source": [
    "lr = training(train_df, label_train_df, classifier=\"Logistic Regression\")\n",
    "testing(test_df, label_test_df, lr)"
   ],
   "metadata": {
    "collapsed": false,
    "pycharm": {
     "name": "#%%\n"
    }
   }
  },
  {
   "cell_type": "code",
   "execution_count": 19,
   "outputs": [
    {
     "name": "stdout",
     "output_type": "stream",
     "text": [
      "Training time = 0.07s\n",
      "Testing time = 0.05s\n",
      "              precision    recall  f1-score   support\n",
      "\n",
      "           0       0.71      0.98      0.82      6844\n",
      "           1       0.35      0.03      0.05      2845\n",
      "\n",
      "    accuracy                           0.70      9689\n",
      "   macro avg       0.53      0.50      0.44      9689\n",
      "weighted avg       0.60      0.70      0.60      9689\n",
      "\n"
     ]
    }
   ],
   "source": [
    "nb = training(train_df, label_train_df, classifier=\"Naive Bayes\")\n",
    "testing(test_df, label_test_df, nb)"
   ],
   "metadata": {
    "collapsed": false,
    "pycharm": {
     "name": "#%%\n"
    }
   }
  },
  {
   "cell_type": "code",
   "execution_count": 20,
   "outputs": [
    {
     "name": "stdout",
     "output_type": "stream",
     "text": [
      "Training time = 0.02s\n",
      "Testing time = 9.71s\n",
      "              precision    recall  f1-score   support\n",
      "\n",
      "           0       0.83      0.90      0.87      6844\n",
      "           1       0.71      0.57      0.63      2845\n",
      "\n",
      "    accuracy                           0.80      9689\n",
      "   macro avg       0.77      0.74      0.75      9689\n",
      "weighted avg       0.80      0.80      0.80      9689\n",
      "\n"
     ]
    }
   ],
   "source": [
    "knn = training(train_df, label_train_df, classifier=\"KNN\")\n",
    "testing(test_df, label_test_df, knn)"
   ],
   "metadata": {
    "collapsed": false,
    "pycharm": {
     "name": "#%%\n"
    }
   }
  },
  {
   "cell_type": "code",
   "execution_count": 21,
   "outputs": [
    {
     "name": "stdout",
     "output_type": "stream",
     "text": [
      "Training time = 0.73s\n",
      "Testing time = 0.03s\n",
      "              precision    recall  f1-score   support\n",
      "\n",
      "           0       0.71      1.00      0.83      6844\n",
      "           1       0.84      0.02      0.05      2845\n",
      "\n",
      "    accuracy                           0.71      9689\n",
      "   macro avg       0.78      0.51      0.44      9689\n",
      "weighted avg       0.75      0.71      0.60      9689\n",
      "\n"
     ]
    }
   ],
   "source": [
    "dt = training(train_df, label_train_df, classifier=\"Decision Tree\")\n",
    "testing(test_df, label_test_df, dt)"
   ],
   "metadata": {
    "collapsed": false,
    "pycharm": {
     "name": "#%%\n"
    }
   }
  },
  {
   "cell_type": "code",
   "execution_count": 22,
   "outputs": [
    {
     "name": "stdout",
     "output_type": "stream",
     "text": [
      "Training time = 12.04s\n",
      "Testing time = 0.27s\n",
      "              precision    recall  f1-score   support\n",
      "\n",
      "           0       0.72      0.96      0.82      6844\n",
      "           1       0.52      0.12      0.19      2845\n",
      "\n",
      "    accuracy                           0.71      9689\n",
      "   macro avg       0.62      0.54      0.51      9689\n",
      "weighted avg       0.66      0.71      0.64      9689\n",
      "\n"
     ]
    }
   ],
   "source": [
    "ada = training(train_df, label_train_df, classifier=\"AdaBoost\")\n",
    "testing(test_df, label_test_df, ada)"
   ],
   "metadata": {
    "collapsed": false,
    "pycharm": {
     "name": "#%%\n"
    }
   }
  },
  {
   "cell_type": "code",
   "execution_count": 23,
   "outputs": [
    {
     "name": "stdout",
     "output_type": "stream",
     "text": [
      "Training time = 57.22s\n",
      "Testing time = 0.05s\n",
      "              precision    recall  f1-score   support\n",
      "\n",
      "           0       0.73      0.99      0.84      6844\n",
      "           1       0.80      0.11      0.19      2845\n",
      "\n",
      "    accuracy                           0.73      9689\n",
      "   macro avg       0.76      0.55      0.51      9689\n",
      "weighted avg       0.75      0.73      0.65      9689\n",
      "\n"
     ]
    }
   ],
   "source": [
    "gb = training(train_df, label_train_df, classifier=\"Gradient Boosting\")\n",
    "testing(test_df, label_test_df, gb)"
   ],
   "metadata": {
    "collapsed": false,
    "pycharm": {
     "name": "#%%\n"
    }
   }
  },
  {
   "cell_type": "code",
   "execution_count": 24,
   "outputs": [
    {
     "name": "stdout",
     "output_type": "stream",
     "text": [
      "Training time = 282.59s\n",
      "Testing time = 186.3s\n",
      "              precision    recall  f1-score   support\n",
      "\n",
      "           0       0.71      1.00      0.83      6844\n",
      "           1       0.64      0.01      0.02      2845\n",
      "\n",
      "    accuracy                           0.71      9689\n",
      "   macro avg       0.68      0.50      0.42      9689\n",
      "weighted avg       0.69      0.71      0.59      9689\n",
      "\n"
     ]
    }
   ],
   "source": [
    "bag = training(train_df, label_train_df, classifier=\"Bagging\")\n",
    "testing(test_df, label_test_df, bag)\n",
    "\n"
   ],
   "metadata": {
    "collapsed": false,
    "pycharm": {
     "name": "#%%\n"
    }
   }
  }
 ],
 "metadata": {
  "kernelspec": {
   "display_name": "Python 3",
   "language": "python",
   "name": "python3"
  },
  "language_info": {
   "codemirror_mode": {
    "name": "ipython",
    "version": 2
   },
   "file_extension": ".py",
   "mimetype": "text/x-python",
   "name": "python",
   "nbconvert_exporter": "python",
   "pygments_lexer": "ipython2",
   "version": "2.7.6"
  }
 },
 "nbformat": 4,
 "nbformat_minor": 0
}