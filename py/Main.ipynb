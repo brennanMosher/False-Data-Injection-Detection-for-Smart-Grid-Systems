{
 "cells": [
  {
   "cell_type": "code",
   "execution_count": 3,
   "outputs": [],
   "source": [
    "# Main function for the training testing of models"
   ],
   "metadata": {
    "collapsed": false,
    "pycharm": {
     "name": "#%%\n"
    }
   }
  },
  {
   "cell_type": "code",
   "execution_count": 4,
   "outputs": [],
   "source": [
    "from classifier_functions import *\n"
   ],
   "metadata": {
    "collapsed": false,
    "pycharm": {
     "name": "#%%\n"
    }
   }
  },
  {
   "cell_type": "code",
   "execution_count": 5,
   "outputs": [],
   "source": [
    "DATA_LOC = \"../dataset/Original/data_injection_and_normal_events_dataset.csv\""
   ],
   "metadata": {
    "collapsed": false,
    "pycharm": {
     "name": "#%%\n"
    }
   }
  },
  {
   "cell_type": "code",
   "execution_count": 6,
   "outputs": [
    {
     "data": {
      "text/plain": "   R1-PA1:VH     R1-PM1:V  R1-PA2:VH     R1-PM2:V   R1-PA3:VH     R1-PM3:V  \\\n0  90.578898  130456.2238 -29.415653  129804.3188 -149.410204  130506.3704   \n1  90.573168  130506.3704 -29.421383  129854.4653 -149.410204  130556.5169   \n2  90.504413  130807.2496 -29.472949  130180.4178 -149.467500  130857.3961   \n3  90.429929  130932.6159 -29.553163  130330.8575 -149.536255  131007.8358   \n4  90.378363  130982.7625 -29.610459  130355.9307 -149.599280  131057.9823   \n\n   R1-PA4:IH   R1-PM4:I  R1-PA5:IH   R1-PM5:I  ...  control_panel_log4  \\\n0  88.986075  471.50825 -33.644082  486.15705  ...                   0   \n1  88.951698  471.50825 -33.644082  485.79083  ...                   0   \n2  88.367281  473.70557 -33.781592  484.69217  ...                   0   \n3  87.782864  476.26911 -33.970668  485.05839  ...                   0   \n4  87.433360  477.73399 -34.068071  485.24150  ...                   0   \n\n   relay1_log  relay2_log  relay3_log  relay4_log  snort_log1  snort_log2  \\\n0           0           0           0           0           0           0   \n1           0           0           0           0           0           0   \n2           0           0           0           0           0           0   \n3           0           0           0           0           0           0   \n4           0           0           0           0           0           0   \n\n   snort_log3  snort_log4  marker  \n0           0           0       1  \n1           0           0       1  \n2           0           0       1  \n3           0           0       1  \n4           0           0       1  \n\n[5 rows x 129 columns]",
      "text/html": "<div>\n<style scoped>\n    .dataframe tbody tr th:only-of-type {\n        vertical-align: middle;\n    }\n\n    .dataframe tbody tr th {\n        vertical-align: top;\n    }\n\n    .dataframe thead th {\n        text-align: right;\n    }\n</style>\n<table border=\"1\" class=\"dataframe\">\n  <thead>\n    <tr style=\"text-align: right;\">\n      <th></th>\n      <th>R1-PA1:VH</th>\n      <th>R1-PM1:V</th>\n      <th>R1-PA2:VH</th>\n      <th>R1-PM2:V</th>\n      <th>R1-PA3:VH</th>\n      <th>R1-PM3:V</th>\n      <th>R1-PA4:IH</th>\n      <th>R1-PM4:I</th>\n      <th>R1-PA5:IH</th>\n      <th>R1-PM5:I</th>\n      <th>...</th>\n      <th>control_panel_log4</th>\n      <th>relay1_log</th>\n      <th>relay2_log</th>\n      <th>relay3_log</th>\n      <th>relay4_log</th>\n      <th>snort_log1</th>\n      <th>snort_log2</th>\n      <th>snort_log3</th>\n      <th>snort_log4</th>\n      <th>marker</th>\n    </tr>\n  </thead>\n  <tbody>\n    <tr>\n      <th>0</th>\n      <td>90.578898</td>\n      <td>130456.2238</td>\n      <td>-29.415653</td>\n      <td>129804.3188</td>\n      <td>-149.410204</td>\n      <td>130506.3704</td>\n      <td>88.986075</td>\n      <td>471.50825</td>\n      <td>-33.644082</td>\n      <td>486.15705</td>\n      <td>...</td>\n      <td>0</td>\n      <td>0</td>\n      <td>0</td>\n      <td>0</td>\n      <td>0</td>\n      <td>0</td>\n      <td>0</td>\n      <td>0</td>\n      <td>0</td>\n      <td>1</td>\n    </tr>\n    <tr>\n      <th>1</th>\n      <td>90.573168</td>\n      <td>130506.3704</td>\n      <td>-29.421383</td>\n      <td>129854.4653</td>\n      <td>-149.410204</td>\n      <td>130556.5169</td>\n      <td>88.951698</td>\n      <td>471.50825</td>\n      <td>-33.644082</td>\n      <td>485.79083</td>\n      <td>...</td>\n      <td>0</td>\n      <td>0</td>\n      <td>0</td>\n      <td>0</td>\n      <td>0</td>\n      <td>0</td>\n      <td>0</td>\n      <td>0</td>\n      <td>0</td>\n      <td>1</td>\n    </tr>\n    <tr>\n      <th>2</th>\n      <td>90.504413</td>\n      <td>130807.2496</td>\n      <td>-29.472949</td>\n      <td>130180.4178</td>\n      <td>-149.467500</td>\n      <td>130857.3961</td>\n      <td>88.367281</td>\n      <td>473.70557</td>\n      <td>-33.781592</td>\n      <td>484.69217</td>\n      <td>...</td>\n      <td>0</td>\n      <td>0</td>\n      <td>0</td>\n      <td>0</td>\n      <td>0</td>\n      <td>0</td>\n      <td>0</td>\n      <td>0</td>\n      <td>0</td>\n      <td>1</td>\n    </tr>\n    <tr>\n      <th>3</th>\n      <td>90.429929</td>\n      <td>130932.6159</td>\n      <td>-29.553163</td>\n      <td>130330.8575</td>\n      <td>-149.536255</td>\n      <td>131007.8358</td>\n      <td>87.782864</td>\n      <td>476.26911</td>\n      <td>-33.970668</td>\n      <td>485.05839</td>\n      <td>...</td>\n      <td>0</td>\n      <td>0</td>\n      <td>0</td>\n      <td>0</td>\n      <td>0</td>\n      <td>0</td>\n      <td>0</td>\n      <td>0</td>\n      <td>0</td>\n      <td>1</td>\n    </tr>\n    <tr>\n      <th>4</th>\n      <td>90.378363</td>\n      <td>130982.7625</td>\n      <td>-29.610459</td>\n      <td>130355.9307</td>\n      <td>-149.599280</td>\n      <td>131057.9823</td>\n      <td>87.433360</td>\n      <td>477.73399</td>\n      <td>-34.068071</td>\n      <td>485.24150</td>\n      <td>...</td>\n      <td>0</td>\n      <td>0</td>\n      <td>0</td>\n      <td>0</td>\n      <td>0</td>\n      <td>0</td>\n      <td>0</td>\n      <td>0</td>\n      <td>0</td>\n      <td>1</td>\n    </tr>\n  </tbody>\n</table>\n<p>5 rows × 129 columns</p>\n</div>"
     },
     "execution_count": 6,
     "metadata": {},
     "output_type": "execute_result"
    }
   ],
   "source": [
    "df = read_dataset(DATA_LOC)\n",
    "df.head()"
   ],
   "metadata": {
    "collapsed": false,
    "pycharm": {
     "name": "#%%\n"
    }
   }
  },
  {
   "cell_type": "code",
   "execution_count": 7,
   "outputs": [
    {
     "data": {
      "text/plain": "   R1-PA1:VH     R1-PM1:V  R1-PA2:VH     R1-PM2:V   R1-PA3:VH     R1-PM3:V  \\\n0  90.578898  130456.2238 -29.415653  129804.3188 -149.410204  130506.3704   \n1  90.573168  130506.3704 -29.421383  129854.4653 -149.410204  130556.5169   \n2  90.504413  130807.2496 -29.472949  130180.4178 -149.467500  130857.3961   \n3  90.429929  130932.6159 -29.553163  130330.8575 -149.536255  131007.8358   \n4  90.378363  130982.7625 -29.610459  130355.9307 -149.599280  131057.9823   \n\n   R1-PA4:IH   R1-PM4:I  R1-PA5:IH   R1-PM5:I  ...  control_panel_log4  \\\n0  88.986075  471.50825 -33.644082  486.15705  ...                   0   \n1  88.951698  471.50825 -33.644082  485.79083  ...                   0   \n2  88.367281  473.70557 -33.781592  484.69217  ...                   0   \n3  87.782864  476.26911 -33.970668  485.05839  ...                   0   \n4  87.433360  477.73399 -34.068071  485.24150  ...                   0   \n\n   relay1_log  relay2_log  relay3_log  relay4_log  snort_log1  snort_log2  \\\n0           0           0           0           0           0           0   \n1           0           0           0           0           0           0   \n2           0           0           0           0           0           0   \n3           0           0           0           0           0           0   \n4           0           0           0           0           0           0   \n\n   snort_log3  snort_log4  marker  \n0           0           0       1  \n1           0           0       1  \n2           0           0       1  \n3           0           0       1  \n4           0           0       1  \n\n[5 rows x 129 columns]",
      "text/html": "<div>\n<style scoped>\n    .dataframe tbody tr th:only-of-type {\n        vertical-align: middle;\n    }\n\n    .dataframe tbody tr th {\n        vertical-align: top;\n    }\n\n    .dataframe thead th {\n        text-align: right;\n    }\n</style>\n<table border=\"1\" class=\"dataframe\">\n  <thead>\n    <tr style=\"text-align: right;\">\n      <th></th>\n      <th>R1-PA1:VH</th>\n      <th>R1-PM1:V</th>\n      <th>R1-PA2:VH</th>\n      <th>R1-PM2:V</th>\n      <th>R1-PA3:VH</th>\n      <th>R1-PM3:V</th>\n      <th>R1-PA4:IH</th>\n      <th>R1-PM4:I</th>\n      <th>R1-PA5:IH</th>\n      <th>R1-PM5:I</th>\n      <th>...</th>\n      <th>control_panel_log4</th>\n      <th>relay1_log</th>\n      <th>relay2_log</th>\n      <th>relay3_log</th>\n      <th>relay4_log</th>\n      <th>snort_log1</th>\n      <th>snort_log2</th>\n      <th>snort_log3</th>\n      <th>snort_log4</th>\n      <th>marker</th>\n    </tr>\n  </thead>\n  <tbody>\n    <tr>\n      <th>0</th>\n      <td>90.578898</td>\n      <td>130456.2238</td>\n      <td>-29.415653</td>\n      <td>129804.3188</td>\n      <td>-149.410204</td>\n      <td>130506.3704</td>\n      <td>88.986075</td>\n      <td>471.50825</td>\n      <td>-33.644082</td>\n      <td>486.15705</td>\n      <td>...</td>\n      <td>0</td>\n      <td>0</td>\n      <td>0</td>\n      <td>0</td>\n      <td>0</td>\n      <td>0</td>\n      <td>0</td>\n      <td>0</td>\n      <td>0</td>\n      <td>1</td>\n    </tr>\n    <tr>\n      <th>1</th>\n      <td>90.573168</td>\n      <td>130506.3704</td>\n      <td>-29.421383</td>\n      <td>129854.4653</td>\n      <td>-149.410204</td>\n      <td>130556.5169</td>\n      <td>88.951698</td>\n      <td>471.50825</td>\n      <td>-33.644082</td>\n      <td>485.79083</td>\n      <td>...</td>\n      <td>0</td>\n      <td>0</td>\n      <td>0</td>\n      <td>0</td>\n      <td>0</td>\n      <td>0</td>\n      <td>0</td>\n      <td>0</td>\n      <td>0</td>\n      <td>1</td>\n    </tr>\n    <tr>\n      <th>2</th>\n      <td>90.504413</td>\n      <td>130807.2496</td>\n      <td>-29.472949</td>\n      <td>130180.4178</td>\n      <td>-149.467500</td>\n      <td>130857.3961</td>\n      <td>88.367281</td>\n      <td>473.70557</td>\n      <td>-33.781592</td>\n      <td>484.69217</td>\n      <td>...</td>\n      <td>0</td>\n      <td>0</td>\n      <td>0</td>\n      <td>0</td>\n      <td>0</td>\n      <td>0</td>\n      <td>0</td>\n      <td>0</td>\n      <td>0</td>\n      <td>1</td>\n    </tr>\n    <tr>\n      <th>3</th>\n      <td>90.429929</td>\n      <td>130932.6159</td>\n      <td>-29.553163</td>\n      <td>130330.8575</td>\n      <td>-149.536255</td>\n      <td>131007.8358</td>\n      <td>87.782864</td>\n      <td>476.26911</td>\n      <td>-33.970668</td>\n      <td>485.05839</td>\n      <td>...</td>\n      <td>0</td>\n      <td>0</td>\n      <td>0</td>\n      <td>0</td>\n      <td>0</td>\n      <td>0</td>\n      <td>0</td>\n      <td>0</td>\n      <td>0</td>\n      <td>1</td>\n    </tr>\n    <tr>\n      <th>4</th>\n      <td>90.378363</td>\n      <td>130982.7625</td>\n      <td>-29.610459</td>\n      <td>130355.9307</td>\n      <td>-149.599280</td>\n      <td>131057.9823</td>\n      <td>87.433360</td>\n      <td>477.73399</td>\n      <td>-34.068071</td>\n      <td>485.24150</td>\n      <td>...</td>\n      <td>0</td>\n      <td>0</td>\n      <td>0</td>\n      <td>0</td>\n      <td>0</td>\n      <td>0</td>\n      <td>0</td>\n      <td>0</td>\n      <td>0</td>\n      <td>1</td>\n    </tr>\n  </tbody>\n</table>\n<p>5 rows × 129 columns</p>\n</div>"
     },
     "execution_count": 7,
     "metadata": {},
     "output_type": "execute_result"
    }
   ],
   "source": [
    "df = dataset_preprocess(df)\n",
    "df.head()"
   ],
   "metadata": {
    "collapsed": false,
    "pycharm": {
     "name": "#%%\n"
    }
   }
  },
  {
   "cell_type": "code",
   "execution_count": 8,
   "outputs": [
    {
     "data": {
      "text/plain": "'\\n#Uncomment this block to have MinMaxScaling\\n\\ndf = scaling(df, \"MinMax\")\\n\\n'"
     },
     "execution_count": 8,
     "metadata": {},
     "output_type": "execute_result"
    }
   ],
   "source": [
    "'''\n",
    "#Uncomment this block to have MinMaxScaling\n",
    "\n",
    "df = scaling(df, \"MinMax\")\n",
    "\n",
    "'''"
   ],
   "metadata": {
    "collapsed": false,
    "pycharm": {
     "name": "#%%\n"
    }
   }
  },
  {
   "cell_type": "code",
   "execution_count": 9,
   "outputs": [],
   "source": [
    "train_df, test_df = training_testing_split(df, testing_split=0.3)"
   ],
   "metadata": {
    "collapsed": false,
    "pycharm": {
     "name": "#%%\n"
    }
   }
  },
  {
   "cell_type": "code",
   "execution_count": 10,
   "outputs": [
    {
     "data": {
      "text/plain": "        R1-PA1:VH     R1-PM1:V   R1-PA2:VH     R1-PM2:V   R1-PA3:VH  \\\n10751 -171.096657  129403.1465   68.932552  129352.9999  -51.067728   \n939    -32.612758  130556.5169 -152.578661  130531.4436   87.427630   \n13415  150.854058  132161.2062   30.865236  131509.3012  -89.117855   \n21695   36.228121  132035.8398  -83.754970  131985.6933  156.245591   \n14825  -86.814565  137200.9334  153.208914  136523.9552   33.202904   \n\n          R1-PM3:V   R1-PA4:IH   R1-PM4:I   R1-PA5:IH   R1-PM5:I  ...  \\\n10751  129453.2930 -172.970229  503.36939   63.913442  521.13106  ...   \n939    130631.7367  -32.727349  414.19482 -152.034351  412.18061  ...   \n13415  132211.3527  155.764306  344.79613   28.676538  377.38971  ...   \n21695  132085.9864   45.280855  238.59233  -76.037229  241.88831  ...   \n14825  137251.0800  -69.860744   81.30084  156.234132  143.74135  ...   \n\n       control_panel_log4  relay1_log  relay2_log  relay3_log  relay4_log  \\\n10751                   0           0           0           0           0   \n939                     0           0           0           0           0   \n13415                   0           0           0           0           0   \n21695                   0           0           0           0           0   \n14825                   0           0           0           0           0   \n\n       snort_log1  snort_log2  snort_log3  snort_log4  marker  \n10751           0           0           0           0       0  \n939             0           0           0           0       1  \n13415           0           0           0           0       0  \n21695           0           0           0           0       0  \n14825           0           0           0           0       0  \n\n[5 rows x 129 columns]",
      "text/html": "<div>\n<style scoped>\n    .dataframe tbody tr th:only-of-type {\n        vertical-align: middle;\n    }\n\n    .dataframe tbody tr th {\n        vertical-align: top;\n    }\n\n    .dataframe thead th {\n        text-align: right;\n    }\n</style>\n<table border=\"1\" class=\"dataframe\">\n  <thead>\n    <tr style=\"text-align: right;\">\n      <th></th>\n      <th>R1-PA1:VH</th>\n      <th>R1-PM1:V</th>\n      <th>R1-PA2:VH</th>\n      <th>R1-PM2:V</th>\n      <th>R1-PA3:VH</th>\n      <th>R1-PM3:V</th>\n      <th>R1-PA4:IH</th>\n      <th>R1-PM4:I</th>\n      <th>R1-PA5:IH</th>\n      <th>R1-PM5:I</th>\n      <th>...</th>\n      <th>control_panel_log4</th>\n      <th>relay1_log</th>\n      <th>relay2_log</th>\n      <th>relay3_log</th>\n      <th>relay4_log</th>\n      <th>snort_log1</th>\n      <th>snort_log2</th>\n      <th>snort_log3</th>\n      <th>snort_log4</th>\n      <th>marker</th>\n    </tr>\n  </thead>\n  <tbody>\n    <tr>\n      <th>10751</th>\n      <td>-171.096657</td>\n      <td>129403.1465</td>\n      <td>68.932552</td>\n      <td>129352.9999</td>\n      <td>-51.067728</td>\n      <td>129453.2930</td>\n      <td>-172.970229</td>\n      <td>503.36939</td>\n      <td>63.913442</td>\n      <td>521.13106</td>\n      <td>...</td>\n      <td>0</td>\n      <td>0</td>\n      <td>0</td>\n      <td>0</td>\n      <td>0</td>\n      <td>0</td>\n      <td>0</td>\n      <td>0</td>\n      <td>0</td>\n      <td>0</td>\n    </tr>\n    <tr>\n      <th>939</th>\n      <td>-32.612758</td>\n      <td>130556.5169</td>\n      <td>-152.578661</td>\n      <td>130531.4436</td>\n      <td>87.427630</td>\n      <td>130631.7367</td>\n      <td>-32.727349</td>\n      <td>414.19482</td>\n      <td>-152.034351</td>\n      <td>412.18061</td>\n      <td>...</td>\n      <td>0</td>\n      <td>0</td>\n      <td>0</td>\n      <td>0</td>\n      <td>0</td>\n      <td>0</td>\n      <td>0</td>\n      <td>0</td>\n      <td>0</td>\n      <td>1</td>\n    </tr>\n    <tr>\n      <th>13415</th>\n      <td>150.854058</td>\n      <td>132161.2062</td>\n      <td>30.865236</td>\n      <td>131509.3012</td>\n      <td>-89.117855</td>\n      <td>132211.3527</td>\n      <td>155.764306</td>\n      <td>344.79613</td>\n      <td>28.676538</td>\n      <td>377.38971</td>\n      <td>...</td>\n      <td>0</td>\n      <td>0</td>\n      <td>0</td>\n      <td>0</td>\n      <td>0</td>\n      <td>0</td>\n      <td>0</td>\n      <td>0</td>\n      <td>0</td>\n      <td>0</td>\n    </tr>\n    <tr>\n      <th>21695</th>\n      <td>36.228121</td>\n      <td>132035.8398</td>\n      <td>-83.754970</td>\n      <td>131985.6933</td>\n      <td>156.245591</td>\n      <td>132085.9864</td>\n      <td>45.280855</td>\n      <td>238.59233</td>\n      <td>-76.037229</td>\n      <td>241.88831</td>\n      <td>...</td>\n      <td>0</td>\n      <td>0</td>\n      <td>0</td>\n      <td>0</td>\n      <td>0</td>\n      <td>0</td>\n      <td>0</td>\n      <td>0</td>\n      <td>0</td>\n      <td>0</td>\n    </tr>\n    <tr>\n      <th>14825</th>\n      <td>-86.814565</td>\n      <td>137200.9334</td>\n      <td>153.208914</td>\n      <td>136523.9552</td>\n      <td>33.202904</td>\n      <td>137251.0800</td>\n      <td>-69.860744</td>\n      <td>81.30084</td>\n      <td>156.234132</td>\n      <td>143.74135</td>\n      <td>...</td>\n      <td>0</td>\n      <td>0</td>\n      <td>0</td>\n      <td>0</td>\n      <td>0</td>\n      <td>0</td>\n      <td>0</td>\n      <td>0</td>\n      <td>0</td>\n      <td>0</td>\n    </tr>\n  </tbody>\n</table>\n<p>5 rows × 129 columns</p>\n</div>"
     },
     "execution_count": 10,
     "metadata": {},
     "output_type": "execute_result"
    }
   ],
   "source": [
    "train_df.head()"
   ],
   "metadata": {
    "collapsed": false,
    "pycharm": {
     "name": "#%%\n"
    }
   }
  },
  {
   "cell_type": "code",
   "execution_count": 11,
   "outputs": [
    {
     "data": {
      "text/plain": "        R1-PA1:VH     R1-PM1:V   R1-PA2:VH     R1-PM2:V   R1-PA3:VH  \\\n6604   126.743994  134618.3866    6.755172  134593.3134 -113.239379   \n16418  -75.601781  131835.2537  164.410239  131208.4219   44.427147   \n18176  130.651566  132687.7448   10.668474  132035.8398 -109.326077   \n19415   54.809143  128425.2889  -65.202597  127798.4572  174.809423   \n29382  141.703922  130932.6159   21.726560  130907.5427  -98.262262   \n\n          R1-PM3:V   R1-PA4:IH   R1-PM4:I   R1-PA5:IH   R1-PM5:I  ...  \\\n6604   134693.6064  134.392980  307.44169    5.563420  343.33125  ...   \n16418  131910.4735  -79.480705  436.53424  158.342616  446.23907  ...   \n18176  132737.8914  127.998771  307.07547   12.095139  294.25777  ...   \n19415  128500.5088   44.495902  569.10588  -76.105984  572.58497  ...   \n29382  130982.7625  144.986970  450.08438   25.513811  448.43639  ...   \n\n       control_panel_log4  relay1_log  relay2_log  relay3_log  relay4_log  \\\n6604                    0           0           0           0           0   \n16418                   0           0           0           0           0   \n18176                   0           0           0           0           0   \n19415                   0           0           0           0           0   \n29382                   0           0           0           0           0   \n\n       snort_log1  snort_log2  snort_log3  snort_log4  marker  \n6604            0           0           0           0       1  \n16418           0           0           0           0       0  \n18176           0           0           0           0       0  \n19415           0           0           0           0       0  \n29382           0           0           0           0       0  \n\n[5 rows x 129 columns]",
      "text/html": "<div>\n<style scoped>\n    .dataframe tbody tr th:only-of-type {\n        vertical-align: middle;\n    }\n\n    .dataframe tbody tr th {\n        vertical-align: top;\n    }\n\n    .dataframe thead th {\n        text-align: right;\n    }\n</style>\n<table border=\"1\" class=\"dataframe\">\n  <thead>\n    <tr style=\"text-align: right;\">\n      <th></th>\n      <th>R1-PA1:VH</th>\n      <th>R1-PM1:V</th>\n      <th>R1-PA2:VH</th>\n      <th>R1-PM2:V</th>\n      <th>R1-PA3:VH</th>\n      <th>R1-PM3:V</th>\n      <th>R1-PA4:IH</th>\n      <th>R1-PM4:I</th>\n      <th>R1-PA5:IH</th>\n      <th>R1-PM5:I</th>\n      <th>...</th>\n      <th>control_panel_log4</th>\n      <th>relay1_log</th>\n      <th>relay2_log</th>\n      <th>relay3_log</th>\n      <th>relay4_log</th>\n      <th>snort_log1</th>\n      <th>snort_log2</th>\n      <th>snort_log3</th>\n      <th>snort_log4</th>\n      <th>marker</th>\n    </tr>\n  </thead>\n  <tbody>\n    <tr>\n      <th>6604</th>\n      <td>126.743994</td>\n      <td>134618.3866</td>\n      <td>6.755172</td>\n      <td>134593.3134</td>\n      <td>-113.239379</td>\n      <td>134693.6064</td>\n      <td>134.392980</td>\n      <td>307.44169</td>\n      <td>5.563420</td>\n      <td>343.33125</td>\n      <td>...</td>\n      <td>0</td>\n      <td>0</td>\n      <td>0</td>\n      <td>0</td>\n      <td>0</td>\n      <td>0</td>\n      <td>0</td>\n      <td>0</td>\n      <td>0</td>\n      <td>1</td>\n    </tr>\n    <tr>\n      <th>16418</th>\n      <td>-75.601781</td>\n      <td>131835.2537</td>\n      <td>164.410239</td>\n      <td>131208.4219</td>\n      <td>44.427147</td>\n      <td>131910.4735</td>\n      <td>-79.480705</td>\n      <td>436.53424</td>\n      <td>158.342616</td>\n      <td>446.23907</td>\n      <td>...</td>\n      <td>0</td>\n      <td>0</td>\n      <td>0</td>\n      <td>0</td>\n      <td>0</td>\n      <td>0</td>\n      <td>0</td>\n      <td>0</td>\n      <td>0</td>\n      <td>0</td>\n    </tr>\n    <tr>\n      <th>18176</th>\n      <td>130.651566</td>\n      <td>132687.7448</td>\n      <td>10.668474</td>\n      <td>132035.8398</td>\n      <td>-109.326077</td>\n      <td>132737.8914</td>\n      <td>127.998771</td>\n      <td>307.07547</td>\n      <td>12.095139</td>\n      <td>294.25777</td>\n      <td>...</td>\n      <td>0</td>\n      <td>0</td>\n      <td>0</td>\n      <td>0</td>\n      <td>0</td>\n      <td>0</td>\n      <td>0</td>\n      <td>0</td>\n      <td>0</td>\n      <td>0</td>\n    </tr>\n    <tr>\n      <th>19415</th>\n      <td>54.809143</td>\n      <td>128425.2889</td>\n      <td>-65.202597</td>\n      <td>127798.4572</td>\n      <td>174.809423</td>\n      <td>128500.5088</td>\n      <td>44.495902</td>\n      <td>569.10588</td>\n      <td>-76.105984</td>\n      <td>572.58497</td>\n      <td>...</td>\n      <td>0</td>\n      <td>0</td>\n      <td>0</td>\n      <td>0</td>\n      <td>0</td>\n      <td>0</td>\n      <td>0</td>\n      <td>0</td>\n      <td>0</td>\n      <td>0</td>\n    </tr>\n    <tr>\n      <th>29382</th>\n      <td>141.703922</td>\n      <td>130932.6159</td>\n      <td>21.726560</td>\n      <td>130907.5427</td>\n      <td>-98.262262</td>\n      <td>130982.7625</td>\n      <td>144.986970</td>\n      <td>450.08438</td>\n      <td>25.513811</td>\n      <td>448.43639</td>\n      <td>...</td>\n      <td>0</td>\n      <td>0</td>\n      <td>0</td>\n      <td>0</td>\n      <td>0</td>\n      <td>0</td>\n      <td>0</td>\n      <td>0</td>\n      <td>0</td>\n      <td>0</td>\n    </tr>\n  </tbody>\n</table>\n<p>5 rows × 129 columns</p>\n</div>"
     },
     "execution_count": 11,
     "metadata": {},
     "output_type": "execute_result"
    }
   ],
   "source": [
    "test_df.head()"
   ],
   "metadata": {
    "collapsed": false,
    "pycharm": {
     "name": "#%%\n"
    }
   }
  },
  {
   "cell_type": "code",
   "execution_count": 12,
   "outputs": [],
   "source": [
    "train_df, label_train_df = data_label_split(train_df)"
   ],
   "metadata": {
    "collapsed": false,
    "pycharm": {
     "name": "#%%\n"
    }
   }
  },
  {
   "cell_type": "code",
   "execution_count": 13,
   "outputs": [
    {
     "data": {
      "text/plain": "        R1-PA1:VH     R1-PM1:V   R1-PA2:VH     R1-PM2:V   R1-PA3:VH  \\\n10751 -171.096657  129403.1465   68.932552  129352.9999  -51.067728   \n939    -32.612758  130556.5169 -152.578661  130531.4436   87.427630   \n13415  150.854058  132161.2062   30.865236  131509.3012  -89.117855   \n21695   36.228121  132035.8398  -83.754970  131985.6933  156.245591   \n14825  -86.814565  137200.9334  153.208914  136523.9552   33.202904   \n\n          R1-PM3:V   R1-PA4:IH   R1-PM4:I   R1-PA5:IH   R1-PM5:I  ...  \\\n10751  129453.2930 -172.970229  503.36939   63.913442  521.13106  ...   \n939    130631.7367  -32.727349  414.19482 -152.034351  412.18061  ...   \n13415  132211.3527  155.764306  344.79613   28.676538  377.38971  ...   \n21695  132085.9864   45.280855  238.59233  -76.037229  241.88831  ...   \n14825  137251.0800  -69.860744   81.30084  156.234132  143.74135  ...   \n\n       control_panel_log3  control_panel_log4  relay1_log  relay2_log  \\\n10751                   0                   0           0           0   \n939                     0                   0           0           0   \n13415                   0                   0           0           0   \n21695                   0                   0           0           0   \n14825                   0                   0           0           0   \n\n       relay3_log  relay4_log  snort_log1  snort_log2  snort_log3  snort_log4  \n10751           0           0           0           0           0           0  \n939             0           0           0           0           0           0  \n13415           0           0           0           0           0           0  \n21695           0           0           0           0           0           0  \n14825           0           0           0           0           0           0  \n\n[5 rows x 128 columns]",
      "text/html": "<div>\n<style scoped>\n    .dataframe tbody tr th:only-of-type {\n        vertical-align: middle;\n    }\n\n    .dataframe tbody tr th {\n        vertical-align: top;\n    }\n\n    .dataframe thead th {\n        text-align: right;\n    }\n</style>\n<table border=\"1\" class=\"dataframe\">\n  <thead>\n    <tr style=\"text-align: right;\">\n      <th></th>\n      <th>R1-PA1:VH</th>\n      <th>R1-PM1:V</th>\n      <th>R1-PA2:VH</th>\n      <th>R1-PM2:V</th>\n      <th>R1-PA3:VH</th>\n      <th>R1-PM3:V</th>\n      <th>R1-PA4:IH</th>\n      <th>R1-PM4:I</th>\n      <th>R1-PA5:IH</th>\n      <th>R1-PM5:I</th>\n      <th>...</th>\n      <th>control_panel_log3</th>\n      <th>control_panel_log4</th>\n      <th>relay1_log</th>\n      <th>relay2_log</th>\n      <th>relay3_log</th>\n      <th>relay4_log</th>\n      <th>snort_log1</th>\n      <th>snort_log2</th>\n      <th>snort_log3</th>\n      <th>snort_log4</th>\n    </tr>\n  </thead>\n  <tbody>\n    <tr>\n      <th>10751</th>\n      <td>-171.096657</td>\n      <td>129403.1465</td>\n      <td>68.932552</td>\n      <td>129352.9999</td>\n      <td>-51.067728</td>\n      <td>129453.2930</td>\n      <td>-172.970229</td>\n      <td>503.36939</td>\n      <td>63.913442</td>\n      <td>521.13106</td>\n      <td>...</td>\n      <td>0</td>\n      <td>0</td>\n      <td>0</td>\n      <td>0</td>\n      <td>0</td>\n      <td>0</td>\n      <td>0</td>\n      <td>0</td>\n      <td>0</td>\n      <td>0</td>\n    </tr>\n    <tr>\n      <th>939</th>\n      <td>-32.612758</td>\n      <td>130556.5169</td>\n      <td>-152.578661</td>\n      <td>130531.4436</td>\n      <td>87.427630</td>\n      <td>130631.7367</td>\n      <td>-32.727349</td>\n      <td>414.19482</td>\n      <td>-152.034351</td>\n      <td>412.18061</td>\n      <td>...</td>\n      <td>0</td>\n      <td>0</td>\n      <td>0</td>\n      <td>0</td>\n      <td>0</td>\n      <td>0</td>\n      <td>0</td>\n      <td>0</td>\n      <td>0</td>\n      <td>0</td>\n    </tr>\n    <tr>\n      <th>13415</th>\n      <td>150.854058</td>\n      <td>132161.2062</td>\n      <td>30.865236</td>\n      <td>131509.3012</td>\n      <td>-89.117855</td>\n      <td>132211.3527</td>\n      <td>155.764306</td>\n      <td>344.79613</td>\n      <td>28.676538</td>\n      <td>377.38971</td>\n      <td>...</td>\n      <td>0</td>\n      <td>0</td>\n      <td>0</td>\n      <td>0</td>\n      <td>0</td>\n      <td>0</td>\n      <td>0</td>\n      <td>0</td>\n      <td>0</td>\n      <td>0</td>\n    </tr>\n    <tr>\n      <th>21695</th>\n      <td>36.228121</td>\n      <td>132035.8398</td>\n      <td>-83.754970</td>\n      <td>131985.6933</td>\n      <td>156.245591</td>\n      <td>132085.9864</td>\n      <td>45.280855</td>\n      <td>238.59233</td>\n      <td>-76.037229</td>\n      <td>241.88831</td>\n      <td>...</td>\n      <td>0</td>\n      <td>0</td>\n      <td>0</td>\n      <td>0</td>\n      <td>0</td>\n      <td>0</td>\n      <td>0</td>\n      <td>0</td>\n      <td>0</td>\n      <td>0</td>\n    </tr>\n    <tr>\n      <th>14825</th>\n      <td>-86.814565</td>\n      <td>137200.9334</td>\n      <td>153.208914</td>\n      <td>136523.9552</td>\n      <td>33.202904</td>\n      <td>137251.0800</td>\n      <td>-69.860744</td>\n      <td>81.30084</td>\n      <td>156.234132</td>\n      <td>143.74135</td>\n      <td>...</td>\n      <td>0</td>\n      <td>0</td>\n      <td>0</td>\n      <td>0</td>\n      <td>0</td>\n      <td>0</td>\n      <td>0</td>\n      <td>0</td>\n      <td>0</td>\n      <td>0</td>\n    </tr>\n  </tbody>\n</table>\n<p>5 rows × 128 columns</p>\n</div>"
     },
     "execution_count": 13,
     "metadata": {},
     "output_type": "execute_result"
    }
   ],
   "source": [
    "train_df.head()"
   ],
   "metadata": {
    "collapsed": false,
    "pycharm": {
     "name": "#%%\n"
    }
   }
  },
  {
   "cell_type": "code",
   "execution_count": 14,
   "outputs": [
    {
     "data": {
      "text/plain": "10751    0\n939      1\n13415    0\n21695    0\n14825    0\nName: marker, dtype: int64"
     },
     "execution_count": 14,
     "metadata": {},
     "output_type": "execute_result"
    }
   ],
   "source": [
    "label_train_df.head()"
   ],
   "metadata": {
    "collapsed": false,
    "pycharm": {
     "name": "#%%\n"
    }
   }
  },
  {
   "cell_type": "code",
   "execution_count": 15,
   "outputs": [],
   "source": [
    "test_df, label_test_df = data_label_split(test_df)"
   ],
   "metadata": {
    "collapsed": false,
    "pycharm": {
     "name": "#%%\n"
    }
   }
  },
  {
   "cell_type": "code",
   "execution_count": 16,
   "outputs": [
    {
     "data": {
      "text/plain": "        R1-PA1:VH     R1-PM1:V   R1-PA2:VH     R1-PM2:V   R1-PA3:VH  \\\n6604   126.743994  134618.3866    6.755172  134593.3134 -113.239379   \n16418  -75.601781  131835.2537  164.410239  131208.4219   44.427147   \n18176  130.651566  132687.7448   10.668474  132035.8398 -109.326077   \n19415   54.809143  128425.2889  -65.202597  127798.4572  174.809423   \n29382  141.703922  130932.6159   21.726560  130907.5427  -98.262262   \n\n          R1-PM3:V   R1-PA4:IH   R1-PM4:I   R1-PA5:IH   R1-PM5:I  ...  \\\n6604   134693.6064  134.392980  307.44169    5.563420  343.33125  ...   \n16418  131910.4735  -79.480705  436.53424  158.342616  446.23907  ...   \n18176  132737.8914  127.998771  307.07547   12.095139  294.25777  ...   \n19415  128500.5088   44.495902  569.10588  -76.105984  572.58497  ...   \n29382  130982.7625  144.986970  450.08438   25.513811  448.43639  ...   \n\n       control_panel_log3  control_panel_log4  relay1_log  relay2_log  \\\n6604                    0                   0           0           0   \n16418                   0                   0           0           0   \n18176                   0                   0           0           0   \n19415                   0                   0           0           0   \n29382                   0                   0           0           0   \n\n       relay3_log  relay4_log  snort_log1  snort_log2  snort_log3  snort_log4  \n6604            0           0           0           0           0           0  \n16418           0           0           0           0           0           0  \n18176           0           0           0           0           0           0  \n19415           0           0           0           0           0           0  \n29382           0           0           0           0           0           0  \n\n[5 rows x 128 columns]",
      "text/html": "<div>\n<style scoped>\n    .dataframe tbody tr th:only-of-type {\n        vertical-align: middle;\n    }\n\n    .dataframe tbody tr th {\n        vertical-align: top;\n    }\n\n    .dataframe thead th {\n        text-align: right;\n    }\n</style>\n<table border=\"1\" class=\"dataframe\">\n  <thead>\n    <tr style=\"text-align: right;\">\n      <th></th>\n      <th>R1-PA1:VH</th>\n      <th>R1-PM1:V</th>\n      <th>R1-PA2:VH</th>\n      <th>R1-PM2:V</th>\n      <th>R1-PA3:VH</th>\n      <th>R1-PM3:V</th>\n      <th>R1-PA4:IH</th>\n      <th>R1-PM4:I</th>\n      <th>R1-PA5:IH</th>\n      <th>R1-PM5:I</th>\n      <th>...</th>\n      <th>control_panel_log3</th>\n      <th>control_panel_log4</th>\n      <th>relay1_log</th>\n      <th>relay2_log</th>\n      <th>relay3_log</th>\n      <th>relay4_log</th>\n      <th>snort_log1</th>\n      <th>snort_log2</th>\n      <th>snort_log3</th>\n      <th>snort_log4</th>\n    </tr>\n  </thead>\n  <tbody>\n    <tr>\n      <th>6604</th>\n      <td>126.743994</td>\n      <td>134618.3866</td>\n      <td>6.755172</td>\n      <td>134593.3134</td>\n      <td>-113.239379</td>\n      <td>134693.6064</td>\n      <td>134.392980</td>\n      <td>307.44169</td>\n      <td>5.563420</td>\n      <td>343.33125</td>\n      <td>...</td>\n      <td>0</td>\n      <td>0</td>\n      <td>0</td>\n      <td>0</td>\n      <td>0</td>\n      <td>0</td>\n      <td>0</td>\n      <td>0</td>\n      <td>0</td>\n      <td>0</td>\n    </tr>\n    <tr>\n      <th>16418</th>\n      <td>-75.601781</td>\n      <td>131835.2537</td>\n      <td>164.410239</td>\n      <td>131208.4219</td>\n      <td>44.427147</td>\n      <td>131910.4735</td>\n      <td>-79.480705</td>\n      <td>436.53424</td>\n      <td>158.342616</td>\n      <td>446.23907</td>\n      <td>...</td>\n      <td>0</td>\n      <td>0</td>\n      <td>0</td>\n      <td>0</td>\n      <td>0</td>\n      <td>0</td>\n      <td>0</td>\n      <td>0</td>\n      <td>0</td>\n      <td>0</td>\n    </tr>\n    <tr>\n      <th>18176</th>\n      <td>130.651566</td>\n      <td>132687.7448</td>\n      <td>10.668474</td>\n      <td>132035.8398</td>\n      <td>-109.326077</td>\n      <td>132737.8914</td>\n      <td>127.998771</td>\n      <td>307.07547</td>\n      <td>12.095139</td>\n      <td>294.25777</td>\n      <td>...</td>\n      <td>0</td>\n      <td>0</td>\n      <td>0</td>\n      <td>0</td>\n      <td>0</td>\n      <td>0</td>\n      <td>0</td>\n      <td>0</td>\n      <td>0</td>\n      <td>0</td>\n    </tr>\n    <tr>\n      <th>19415</th>\n      <td>54.809143</td>\n      <td>128425.2889</td>\n      <td>-65.202597</td>\n      <td>127798.4572</td>\n      <td>174.809423</td>\n      <td>128500.5088</td>\n      <td>44.495902</td>\n      <td>569.10588</td>\n      <td>-76.105984</td>\n      <td>572.58497</td>\n      <td>...</td>\n      <td>0</td>\n      <td>0</td>\n      <td>0</td>\n      <td>0</td>\n      <td>0</td>\n      <td>0</td>\n      <td>0</td>\n      <td>0</td>\n      <td>0</td>\n      <td>0</td>\n    </tr>\n    <tr>\n      <th>29382</th>\n      <td>141.703922</td>\n      <td>130932.6159</td>\n      <td>21.726560</td>\n      <td>130907.5427</td>\n      <td>-98.262262</td>\n      <td>130982.7625</td>\n      <td>144.986970</td>\n      <td>450.08438</td>\n      <td>25.513811</td>\n      <td>448.43639</td>\n      <td>...</td>\n      <td>0</td>\n      <td>0</td>\n      <td>0</td>\n      <td>0</td>\n      <td>0</td>\n      <td>0</td>\n      <td>0</td>\n      <td>0</td>\n      <td>0</td>\n      <td>0</td>\n    </tr>\n  </tbody>\n</table>\n<p>5 rows × 128 columns</p>\n</div>"
     },
     "execution_count": 16,
     "metadata": {},
     "output_type": "execute_result"
    }
   ],
   "source": [
    "test_df.head()"
   ],
   "metadata": {
    "collapsed": false,
    "pycharm": {
     "name": "#%%\n"
    }
   }
  },
  {
   "cell_type": "code",
   "execution_count": 17,
   "outputs": [
    {
     "data": {
      "text/plain": "6604     1\n16418    0\n18176    0\n19415    0\n29382    0\nName: marker, dtype: int64"
     },
     "execution_count": 17,
     "metadata": {},
     "output_type": "execute_result"
    }
   ],
   "source": [
    "label_test_df.head()"
   ],
   "metadata": {
    "collapsed": false,
    "pycharm": {
     "name": "#%%\n"
    }
   }
  },
  {
   "cell_type": "code",
   "execution_count": 18,
   "outputs": [
    {
     "data": {
      "text/plain": "<Figure size 432x288 with 1 Axes>",
      "image/png": "[encoded data removed]"
     },
     "metadata": {
      "needs_background": "light"
     },
     "output_type": "display_data"
    },
    {
     "name": "stdout",
     "output_type": "stream",
     "text": [
      "Training time = 33.97s\n",
      "Testing time = 0.49s\n",
      "              precision    recall  f1-score   support\n",
      "\n",
      "           0       0.91      0.98      0.94      6782\n",
      "           1       0.93      0.78      0.85      2907\n",
      "\n",
      "    accuracy                           0.92      9689\n",
      "   macro avg       0.92      0.88      0.90      9689\n",
      "weighted avg       0.92      0.92      0.92      9689\n",
      "\n",
      "Total TPs: 6613 FNs: 169 FPs: 629 TNs: 2278\n",
      "Rates TP: 0.975 FN: 0.025 FP: 0.216 TN: 0.784\n",
      "roc auc score: 0.974\n"
     ]
    }
   ],
   "source": [
    "rf = training(train_df, label_train_df, classifier=\"Random Forest\")\n",
    "testing(test_df, label_test_df, rf)"
   ],
   "metadata": {
    "collapsed": false,
    "pycharm": {
     "name": "#%%\n"
    }
   }
  },
  {
   "cell_type": "code",
   "execution_count": 19,
   "outputs": [
    {
     "name": "stdout",
     "output_type": "stream",
     "text": [
      "Training time = 498.44s\n",
      "Testing time = 15.41s\n",
      "              precision    recall  f1-score   support\n",
      "\n",
      "           0       0.70      0.99      0.82      6782\n",
      "           1       0.43      0.02      0.04      2907\n",
      "\n",
      "    accuracy                           0.70      9689\n",
      "   macro avg       0.57      0.50      0.43      9689\n",
      "weighted avg       0.62      0.70      0.59      9689\n",
      "\n",
      "Total TPs: 6710 FNs: 72 FPs: 2853 TNs: 54\n",
      "Rates TP: 0.989 FN: 0.011 FP: 0.981 TN: 0.019\n",
      "roc auc skipped\n"
     ]
    }
   ],
   "source": [
    "svm = training(train_df, label_train_df, classifier=\"SVM\")\n",
    "testing(test_df, label_test_df, svm)"
   ],
   "metadata": {
    "collapsed": false,
    "pycharm": {
     "name": "#%%\n"
    }
   }
  },
  {
   "cell_type": "code",
   "execution_count": 20,
   "outputs": [
    {
     "name": "stdout",
     "output_type": "stream",
     "text": [
      "Training time = 0.99s\n",
      "Testing time = 0.01s\n",
      "              precision    recall  f1-score   support\n",
      "\n",
      "           0       0.70      0.99      0.82      6782\n",
      "           1       0.45      0.01      0.02      2907\n",
      "\n",
      "    accuracy                           0.70      9689\n",
      "   macro avg       0.58      0.50      0.42      9689\n",
      "weighted avg       0.63      0.70      0.58      9689\n",
      "\n",
      "Total TPs: 6744 FNs: 38 FPs: 2876 TNs: 31\n",
      "Rates TP: 0.994 FN: 0.006 FP: 0.989 TN: 0.011\n",
      "roc auc score: 0.586\n"
     ]
    },
    {
     "name": "stderr",
     "output_type": "stream",
     "text": [
      "C:\\Users\\brenn\\PycharmProjects\\False-Data-Injection-Detection-for-Smart-Grid-Systems\\lib\\site-packages\\sklearn\\linear_model\\_logistic.py:814: ConvergenceWarning: lbfgs failed to converge (status=1):\n",
      "STOP: TOTAL NO. of ITERATIONS REACHED LIMIT.\n",
      "\n",
      "Increase the number of iterations (max_iter) or scale the data as shown in:\n",
      "    https://scikit-learn.org/stable/modules/preprocessing.html\n",
      "Please also refer to the documentation for alternative solver options:\n",
      "    https://scikit-learn.org/stable/modules/linear_model.html#logistic-regression\n",
      "  n_iter_i = _check_optimize_result(\n"
     ]
    }
   ],
   "source": [
    "lr = training(train_df, label_train_df, classifier=\"Logistic Regression\")\n",
    "testing(test_df, label_test_df, lr)"
   ],
   "metadata": {
    "collapsed": false,
    "pycharm": {
     "name": "#%%\n"
    }
   }
  },
  {
   "cell_type": "code",
   "execution_count": 21,
   "outputs": [
    {
     "name": "stdout",
     "output_type": "stream",
     "text": [
      "Training time = 0.16s\n",
      "Testing time = 0.06s\n",
      "              precision    recall  f1-score   support\n",
      "\n",
      "           0       0.70      0.98      0.82      6782\n",
      "           1       0.31      0.02      0.04      2907\n",
      "\n",
      "    accuracy                           0.69      9689\n",
      "   macro avg       0.50      0.50      0.43      9689\n",
      "weighted avg       0.58      0.69      0.58      9689\n",
      "\n",
      "Total TPs: 6639 FNs: 143 FPs: 2844 TNs: 63\n",
      "Rates TP: 0.979 FN: 0.021 FP: 0.978 TN: 0.022\n",
      "roc auc score: 0.548\n"
     ]
    }
   ],
   "source": [
    "nb = training(train_df, label_train_df, classifier=\"Naive Bayes\")\n",
    "testing(test_df, label_test_df, nb)"
   ],
   "metadata": {
    "collapsed": false,
    "pycharm": {
     "name": "#%%\n"
    }
   }
  },
  {
   "cell_type": "code",
   "execution_count": 22,
   "outputs": [
    {
     "name": "stdout",
     "output_type": "stream",
     "text": [
      "Training time = 0.03s\n",
      "Testing time = 14.63s\n",
      "              precision    recall  f1-score   support\n",
      "\n",
      "           0       0.83      0.90      0.86      6782\n",
      "           1       0.71      0.57      0.63      2907\n",
      "\n",
      "    accuracy                           0.80      9689\n",
      "   macro avg       0.77      0.74      0.75      9689\n",
      "weighted avg       0.79      0.80      0.79      9689\n",
      "\n",
      "Total TPs: 6112 FNs: 670 FPs: 1250 TNs: 1657\n",
      "Rates TP: 0.901 FN: 0.099 FP: 0.43 TN: 0.57\n",
      "roc auc score: 0.854\n"
     ]
    }
   ],
   "source": [
    "knn = training(train_df, label_train_df, classifier=\"KNN\")\n",
    "testing(test_df, label_test_df, knn)"
   ],
   "metadata": {
    "collapsed": false,
    "pycharm": {
     "name": "#%%\n"
    }
   }
  },
  {
   "cell_type": "code",
   "execution_count": 23,
   "outputs": [
    {
     "name": "stdout",
     "output_type": "stream",
     "text": [
      "Training time = 12.51s\n",
      "Testing time = 5.28s\n",
      "              precision    recall  f1-score   support\n",
      "\n",
      "           0       0.70      1.00      0.83      6782\n",
      "           1       1.00      0.02      0.03      2907\n",
      "\n",
      "    accuracy                           0.70      9689\n",
      "   macro avg       0.85      0.51      0.43      9689\n",
      "weighted avg       0.79      0.70      0.59      9689\n",
      "\n",
      "Total TPs: 6782 FNs: 0 FPs: 2859 TNs: 48\n",
      "Rates TP: 1.0 FN: 0.0 FP: 0.983 TN: 0.017\n",
      "roc auc score: 0.584\n"
     ]
    }
   ],
   "source": [
    "dt = training(train_df, label_train_df, classifier=\"Decision Tree\")\n",
    "testing(test_df, label_test_df, dt)"
   ],
   "metadata": {
    "collapsed": false,
    "pycharm": {
     "name": "#%%\n"
    }
   }
  },
  {
   "cell_type": "code",
   "execution_count": 24,
   "outputs": [
    {
     "name": "stdout",
     "output_type": "stream",
     "text": [
      "Training time = 19.97s\n",
      "Testing time = 0.44s\n",
      "              precision    recall  f1-score   support\n",
      "\n",
      "           0       0.71      0.96      0.82      6782\n",
      "           1       0.53      0.10      0.16      2907\n",
      "\n",
      "    accuracy                           0.70      9689\n",
      "   macro avg       0.62      0.53      0.49      9689\n",
      "weighted avg       0.66      0.70      0.62      9689\n",
      "\n",
      "Total TPs: 6531 FNs: 251 FPs: 2626 TNs: 281\n",
      "Rates TP: 0.963 FN: 0.037 FP: 0.903 TN: 0.097\n",
      "roc auc score: 0.673\n"
     ]
    }
   ],
   "source": [
    "ada = training(train_df, label_train_df, classifier=\"AdaBoost\")\n",
    "testing(test_df, label_test_df, ada)"
   ],
   "metadata": {
    "collapsed": false,
    "pycharm": {
     "name": "#%%\n"
    }
   }
  },
  {
   "cell_type": "code",
   "execution_count": 25,
   "outputs": [
    {
     "name": "stdout",
     "output_type": "stream",
     "text": [
      "Training time = 95.72s\n",
      "Testing time = 0.04s\n",
      "              precision    recall  f1-score   support\n",
      "\n",
      "           0       0.72      0.99      0.83      6782\n",
      "           1       0.80      0.10      0.19      2907\n",
      "\n",
      "    accuracy                           0.72      9689\n",
      "   macro avg       0.76      0.55      0.51      9689\n",
      "weighted avg       0.75      0.72      0.64      9689\n",
      "\n",
      "Total TPs: 6708 FNs: 74 FPs: 2602 TNs: 305\n",
      "Rates TP: 0.989 FN: 0.011 FP: 0.895 TN: 0.105\n",
      "roc auc score: 0.751\n"
     ]
    }
   ],
   "source": [
    "gb = training(train_df, label_train_df, classifier=\"Gradient Boosting\")\n",
    "testing(test_df, label_test_df, gb)"
   ],
   "metadata": {
    "collapsed": false,
    "pycharm": {
     "name": "#%%\n"
    }
   }
  },
  {
   "cell_type": "code",
   "execution_count": 26,
   "outputs": [
    {
     "name": "stdout",
     "output_type": "stream",
     "text": [
      "Training time = 443.39s\n",
      "Testing time = 274.12s\n",
      "              precision    recall  f1-score   support\n",
      "\n",
      "           0       0.70      1.00      0.82      6782\n",
      "           1       0.36      0.01      0.01      2907\n",
      "\n",
      "    accuracy                           0.70      9689\n",
      "   macro avg       0.53      0.50      0.42      9689\n",
      "weighted avg       0.60      0.70      0.58      9689\n",
      "\n",
      "Total TPs: 6755 FNs: 27 FPs: 2892 TNs: 15\n",
      "Rates TP: 0.996 FN: 0.004 FP: 0.995 TN: 0.005\n",
      "roc auc score: 0.505\n"
     ]
    }
   ],
   "source": [
    "bag = training(train_df, label_train_df, classifier=\"Bagging\")\n",
    "testing(test_df, label_test_df, bag)\n",
    "\n"
   ],
   "metadata": {
    "collapsed": false,
    "pycharm": {
     "name": "#%%\n"
    }
   }
  }
 ],
 "metadata": {
  "kernelspec": {
   "display_name": "Python 3",
   "language": "python",
   "name": "python3"
  },
  "language_info": {
   "codemirror_mode": {
    "name": "ipython",
    "version": 2
   },
   "file_extension": ".py",
   "mimetype": "text/x-python",
   "name": "python",
   "nbconvert_exporter": "python",
   "pygments_lexer": "ipython2",
   "version": "2.7.6"
  }
 },
 "nbformat": 4,
 "nbformat_minor": 0
}