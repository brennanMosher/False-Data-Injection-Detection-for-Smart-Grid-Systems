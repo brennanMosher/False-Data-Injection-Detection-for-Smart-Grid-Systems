{
 "cells": [
  {
   "cell_type": "code",
   "execution_count": 118,
   "outputs": [],
   "source": [
    "# Main function for the training testing of models"
   ],
   "metadata": {
    "collapsed": false,
    "pycharm": {
     "name": "#%%\n"
    }
   }
  },
  {
   "cell_type": "code",
   "execution_count": 119,
   "outputs": [],
   "source": [
    "from classifier_functions import *\n"
   ],
   "metadata": {
    "collapsed": false,
    "pycharm": {
     "name": "#%%\n"
    }
   }
  },
  {
   "cell_type": "code",
   "execution_count": 120,
   "outputs": [],
   "source": [
    "DATA_LOC = \"../dataset/Original/data_injection_and_normal_events_dataset.csv\""
   ],
   "metadata": {
    "collapsed": false,
    "pycharm": {
     "name": "#%%\n"
    }
   }
  },
  {
   "cell_type": "code",
   "execution_count": 121,
   "outputs": [
    {
     "data": {
      "text/plain": "   R1-PA1:VH     R1-PM1:V  R1-PA2:VH     R1-PM2:V   R1-PA3:VH     R1-PM3:V  \\\n0  90.578898  130456.2238 -29.415653  129804.3188 -149.410204  130506.3704   \n1  90.573168  130506.3704 -29.421383  129854.4653 -149.410204  130556.5169   \n2  90.504413  130807.2496 -29.472949  130180.4178 -149.467500  130857.3961   \n3  90.429929  130932.6159 -29.553163  130330.8575 -149.536255  131007.8358   \n4  90.378363  130982.7625 -29.610459  130355.9307 -149.599280  131057.9823   \n\n   R1-PA4:IH   R1-PM4:I  R1-PA5:IH   R1-PM5:I  ...  control_panel_log4  \\\n0  88.986075  471.50825 -33.644082  486.15705  ...                   0   \n1  88.951698  471.50825 -33.644082  485.79083  ...                   0   \n2  88.367281  473.70557 -33.781592  484.69217  ...                   0   \n3  87.782864  476.26911 -33.970668  485.05839  ...                   0   \n4  87.433360  477.73399 -34.068071  485.24150  ...                   0   \n\n   relay1_log  relay2_log  relay3_log  relay4_log  snort_log1  snort_log2  \\\n0           0           0           0           0           0           0   \n1           0           0           0           0           0           0   \n2           0           0           0           0           0           0   \n3           0           0           0           0           0           0   \n4           0           0           0           0           0           0   \n\n   snort_log3  snort_log4  marker  \n0           0           0       1  \n1           0           0       1  \n2           0           0       1  \n3           0           0       1  \n4           0           0       1  \n\n[5 rows x 129 columns]",
      "text/html": "<div>\n<style scoped>\n    .dataframe tbody tr th:only-of-type {\n        vertical-align: middle;\n    }\n\n    .dataframe tbody tr th {\n        vertical-align: top;\n    }\n\n    .dataframe thead th {\n        text-align: right;\n    }\n</style>\n<table border=\"1\" class=\"dataframe\">\n  <thead>\n    <tr style=\"text-align: right;\">\n      <th></th>\n      <th>R1-PA1:VH</th>\n      <th>R1-PM1:V</th>\n      <th>R1-PA2:VH</th>\n      <th>R1-PM2:V</th>\n      <th>R1-PA3:VH</th>\n      <th>R1-PM3:V</th>\n      <th>R1-PA4:IH</th>\n      <th>R1-PM4:I</th>\n      <th>R1-PA5:IH</th>\n      <th>R1-PM5:I</th>\n      <th>...</th>\n      <th>control_panel_log4</th>\n      <th>relay1_log</th>\n      <th>relay2_log</th>\n      <th>relay3_log</th>\n      <th>relay4_log</th>\n      <th>snort_log1</th>\n      <th>snort_log2</th>\n      <th>snort_log3</th>\n      <th>snort_log4</th>\n      <th>marker</th>\n    </tr>\n  </thead>\n  <tbody>\n    <tr>\n      <th>0</th>\n      <td>90.578898</td>\n      <td>130456.2238</td>\n      <td>-29.415653</td>\n      <td>129804.3188</td>\n      <td>-149.410204</td>\n      <td>130506.3704</td>\n      <td>88.986075</td>\n      <td>471.50825</td>\n      <td>-33.644082</td>\n      <td>486.15705</td>\n      <td>...</td>\n      <td>0</td>\n      <td>0</td>\n      <td>0</td>\n      <td>0</td>\n      <td>0</td>\n      <td>0</td>\n      <td>0</td>\n      <td>0</td>\n      <td>0</td>\n      <td>1</td>\n    </tr>\n    <tr>\n      <th>1</th>\n      <td>90.573168</td>\n      <td>130506.3704</td>\n      <td>-29.421383</td>\n      <td>129854.4653</td>\n      <td>-149.410204</td>\n      <td>130556.5169</td>\n      <td>88.951698</td>\n      <td>471.50825</td>\n      <td>-33.644082</td>\n      <td>485.79083</td>\n      <td>...</td>\n      <td>0</td>\n      <td>0</td>\n      <td>0</td>\n      <td>0</td>\n      <td>0</td>\n      <td>0</td>\n      <td>0</td>\n      <td>0</td>\n      <td>0</td>\n      <td>1</td>\n    </tr>\n    <tr>\n      <th>2</th>\n      <td>90.504413</td>\n      <td>130807.2496</td>\n      <td>-29.472949</td>\n      <td>130180.4178</td>\n      <td>-149.467500</td>\n      <td>130857.3961</td>\n      <td>88.367281</td>\n      <td>473.70557</td>\n      <td>-33.781592</td>\n      <td>484.69217</td>\n      <td>...</td>\n      <td>0</td>\n      <td>0</td>\n      <td>0</td>\n      <td>0</td>\n      <td>0</td>\n      <td>0</td>\n      <td>0</td>\n      <td>0</td>\n      <td>0</td>\n      <td>1</td>\n    </tr>\n    <tr>\n      <th>3</th>\n      <td>90.429929</td>\n      <td>130932.6159</td>\n      <td>-29.553163</td>\n      <td>130330.8575</td>\n      <td>-149.536255</td>\n      <td>131007.8358</td>\n      <td>87.782864</td>\n      <td>476.26911</td>\n      <td>-33.970668</td>\n      <td>485.05839</td>\n      <td>...</td>\n      <td>0</td>\n      <td>0</td>\n      <td>0</td>\n      <td>0</td>\n      <td>0</td>\n      <td>0</td>\n      <td>0</td>\n      <td>0</td>\n      <td>0</td>\n      <td>1</td>\n    </tr>\n    <tr>\n      <th>4</th>\n      <td>90.378363</td>\n      <td>130982.7625</td>\n      <td>-29.610459</td>\n      <td>130355.9307</td>\n      <td>-149.599280</td>\n      <td>131057.9823</td>\n      <td>87.433360</td>\n      <td>477.73399</td>\n      <td>-34.068071</td>\n      <td>485.24150</td>\n      <td>...</td>\n      <td>0</td>\n      <td>0</td>\n      <td>0</td>\n      <td>0</td>\n      <td>0</td>\n      <td>0</td>\n      <td>0</td>\n      <td>0</td>\n      <td>0</td>\n      <td>1</td>\n    </tr>\n  </tbody>\n</table>\n<p>5 rows × 129 columns</p>\n</div>"
     },
     "execution_count": 121,
     "metadata": {},
     "output_type": "execute_result"
    }
   ],
   "source": [
    "df = read_dataset(DATA_LOC)\n",
    "df.head()"
   ],
   "metadata": {
    "collapsed": false,
    "pycharm": {
     "name": "#%%\n"
    }
   }
  },
  {
   "cell_type": "code",
   "execution_count": 122,
   "outputs": [
    {
     "data": {
      "text/plain": "   R1-PA1:VH     R1-PM1:V  R1-PA2:VH     R1-PM2:V   R1-PA3:VH     R1-PM3:V  \\\n0  90.578898  130456.2238 -29.415653  129804.3188 -149.410204  130506.3704   \n1  90.573168  130506.3704 -29.421383  129854.4653 -149.410204  130556.5169   \n2  90.504413  130807.2496 -29.472949  130180.4178 -149.467500  130857.3961   \n3  90.429929  130932.6159 -29.553163  130330.8575 -149.536255  131007.8358   \n4  90.378363  130982.7625 -29.610459  130355.9307 -149.599280  131057.9823   \n\n   R1-PA4:IH   R1-PM4:I  R1-PA5:IH   R1-PM5:I  ...  control_panel_log4  \\\n0  88.986075  471.50825 -33.644082  486.15705  ...                   0   \n1  88.951698  471.50825 -33.644082  485.79083  ...                   0   \n2  88.367281  473.70557 -33.781592  484.69217  ...                   0   \n3  87.782864  476.26911 -33.970668  485.05839  ...                   0   \n4  87.433360  477.73399 -34.068071  485.24150  ...                   0   \n\n   relay1_log  relay2_log  relay3_log  relay4_log  snort_log1  snort_log2  \\\n0           0           0           0           0           0           0   \n1           0           0           0           0           0           0   \n2           0           0           0           0           0           0   \n3           0           0           0           0           0           0   \n4           0           0           0           0           0           0   \n\n   snort_log3  snort_log4  marker  \n0           0           0       1  \n1           0           0       1  \n2           0           0       1  \n3           0           0       1  \n4           0           0       1  \n\n[5 rows x 129 columns]",
      "text/html": "<div>\n<style scoped>\n    .dataframe tbody tr th:only-of-type {\n        vertical-align: middle;\n    }\n\n    .dataframe tbody tr th {\n        vertical-align: top;\n    }\n\n    .dataframe thead th {\n        text-align: right;\n    }\n</style>\n<table border=\"1\" class=\"dataframe\">\n  <thead>\n    <tr style=\"text-align: right;\">\n      <th></th>\n      <th>R1-PA1:VH</th>\n      <th>R1-PM1:V</th>\n      <th>R1-PA2:VH</th>\n      <th>R1-PM2:V</th>\n      <th>R1-PA3:VH</th>\n      <th>R1-PM3:V</th>\n      <th>R1-PA4:IH</th>\n      <th>R1-PM4:I</th>\n      <th>R1-PA5:IH</th>\n      <th>R1-PM5:I</th>\n      <th>...</th>\n      <th>control_panel_log4</th>\n      <th>relay1_log</th>\n      <th>relay2_log</th>\n      <th>relay3_log</th>\n      <th>relay4_log</th>\n      <th>snort_log1</th>\n      <th>snort_log2</th>\n      <th>snort_log3</th>\n      <th>snort_log4</th>\n      <th>marker</th>\n    </tr>\n  </thead>\n  <tbody>\n    <tr>\n      <th>0</th>\n      <td>90.578898</td>\n      <td>130456.2238</td>\n      <td>-29.415653</td>\n      <td>129804.3188</td>\n      <td>-149.410204</td>\n      <td>130506.3704</td>\n      <td>88.986075</td>\n      <td>471.50825</td>\n      <td>-33.644082</td>\n      <td>486.15705</td>\n      <td>...</td>\n      <td>0</td>\n      <td>0</td>\n      <td>0</td>\n      <td>0</td>\n      <td>0</td>\n      <td>0</td>\n      <td>0</td>\n      <td>0</td>\n      <td>0</td>\n      <td>1</td>\n    </tr>\n    <tr>\n      <th>1</th>\n      <td>90.573168</td>\n      <td>130506.3704</td>\n      <td>-29.421383</td>\n      <td>129854.4653</td>\n      <td>-149.410204</td>\n      <td>130556.5169</td>\n      <td>88.951698</td>\n      <td>471.50825</td>\n      <td>-33.644082</td>\n      <td>485.79083</td>\n      <td>...</td>\n      <td>0</td>\n      <td>0</td>\n      <td>0</td>\n      <td>0</td>\n      <td>0</td>\n      <td>0</td>\n      <td>0</td>\n      <td>0</td>\n      <td>0</td>\n      <td>1</td>\n    </tr>\n    <tr>\n      <th>2</th>\n      <td>90.504413</td>\n      <td>130807.2496</td>\n      <td>-29.472949</td>\n      <td>130180.4178</td>\n      <td>-149.467500</td>\n      <td>130857.3961</td>\n      <td>88.367281</td>\n      <td>473.70557</td>\n      <td>-33.781592</td>\n      <td>484.69217</td>\n      <td>...</td>\n      <td>0</td>\n      <td>0</td>\n      <td>0</td>\n      <td>0</td>\n      <td>0</td>\n      <td>0</td>\n      <td>0</td>\n      <td>0</td>\n      <td>0</td>\n      <td>1</td>\n    </tr>\n    <tr>\n      <th>3</th>\n      <td>90.429929</td>\n      <td>130932.6159</td>\n      <td>-29.553163</td>\n      <td>130330.8575</td>\n      <td>-149.536255</td>\n      <td>131007.8358</td>\n      <td>87.782864</td>\n      <td>476.26911</td>\n      <td>-33.970668</td>\n      <td>485.05839</td>\n      <td>...</td>\n      <td>0</td>\n      <td>0</td>\n      <td>0</td>\n      <td>0</td>\n      <td>0</td>\n      <td>0</td>\n      <td>0</td>\n      <td>0</td>\n      <td>0</td>\n      <td>1</td>\n    </tr>\n    <tr>\n      <th>4</th>\n      <td>90.378363</td>\n      <td>130982.7625</td>\n      <td>-29.610459</td>\n      <td>130355.9307</td>\n      <td>-149.599280</td>\n      <td>131057.9823</td>\n      <td>87.433360</td>\n      <td>477.73399</td>\n      <td>-34.068071</td>\n      <td>485.24150</td>\n      <td>...</td>\n      <td>0</td>\n      <td>0</td>\n      <td>0</td>\n      <td>0</td>\n      <td>0</td>\n      <td>0</td>\n      <td>0</td>\n      <td>0</td>\n      <td>0</td>\n      <td>1</td>\n    </tr>\n  </tbody>\n</table>\n<p>5 rows × 129 columns</p>\n</div>"
     },
     "execution_count": 122,
     "metadata": {},
     "output_type": "execute_result"
    }
   ],
   "source": [
    "df = dataset_preprocess(df)\n",
    "df.head()"
   ],
   "metadata": {
    "collapsed": false,
    "pycharm": {
     "name": "#%%\n"
    }
   }
  },
  {
   "cell_type": "code",
   "execution_count": null,
   "outputs": [],
   "source": [
    "'''\n",
    "#Uncomment this block to have MinMaxScaling\n",
    "\n",
    "df = scaling(df, \"MinMax\")\n",
    "\n",
    "'''"
   ],
   "metadata": {
    "collapsed": false,
    "pycharm": {
     "name": "#%%\n"
    }
   }
  },
  {
   "cell_type": "code",
   "execution_count": 123,
   "outputs": [],
   "source": [
    "train_df, test_df = training_testing_split(df, testing_split=0.3)"
   ],
   "metadata": {
    "collapsed": false,
    "pycharm": {
     "name": "#%%\n"
    }
   }
  },
  {
   "cell_type": "code",
   "execution_count": 124,
   "outputs": [
    {
     "data": {
      "text/plain": "        R1-PA1:VH     R1-PM1:V   R1-PA2:VH     R1-PM2:V   R1-PA3:VH  \\\n8088   115.640072  133590.3826   -4.360209  132963.5508 -124.331842   \n8415   -60.240783  132386.8656  179.765508  131760.0339   59.776687   \n32172 -173.067632  131183.3486   66.961578  131158.2754  -53.038703   \n32154  102.553716  130882.4694  -17.412187  130832.3229 -137.423927   \n29935 -128.480056  127923.8235  111.526235  127296.9918   -8.451127   \n\n          R1-PM3:V   R1-PA4:IH    R1-PM4:I   R1-PA5:IH    R1-PM5:I  ...  \\\n8088   133690.6756  108.890629   440.19644  -11.184136   440.92888  ...   \n8415   132437.0121  -59.278213   261.84730 -179.106607   262.03041  ...   \n32172  131258.5685 -174.912556   439.46400   63.185786   448.07017  ...   \n32154  130957.6892   99.631631   483.59351  -22.064605   490.18547  ...   \n29935  127973.9701 -145.491173  1035.12083   94.199991  1038.78303  ...   \n\n       control_panel_log4  relay1_log  relay2_log  relay3_log  relay4_log  \\\n8088                    0           0           0           0           0   \n8415                    0           0           0           0           0   \n32172                   0           0           0           0           0   \n32154                   0           0           0           0           0   \n29935                   0           0           0           1           1   \n\n       snort_log1  snort_log2  snort_log3  snort_log4  marker  \n8088            0           0           0           0       1  \n8415            0           0           0           0       1  \n32172           0           0           0           0       0  \n32154           0           0           0           0       0  \n29935           0           0           0           0       0  \n\n[5 rows x 129 columns]",
      "text/html": "<div>\n<style scoped>\n    .dataframe tbody tr th:only-of-type {\n        vertical-align: middle;\n    }\n\n    .dataframe tbody tr th {\n        vertical-align: top;\n    }\n\n    .dataframe thead th {\n        text-align: right;\n    }\n</style>\n<table border=\"1\" class=\"dataframe\">\n  <thead>\n    <tr style=\"text-align: right;\">\n      <th></th>\n      <th>R1-PA1:VH</th>\n      <th>R1-PM1:V</th>\n      <th>R1-PA2:VH</th>\n      <th>R1-PM2:V</th>\n      <th>R1-PA3:VH</th>\n      <th>R1-PM3:V</th>\n      <th>R1-PA4:IH</th>\n      <th>R1-PM4:I</th>\n      <th>R1-PA5:IH</th>\n      <th>R1-PM5:I</th>\n      <th>...</th>\n      <th>control_panel_log4</th>\n      <th>relay1_log</th>\n      <th>relay2_log</th>\n      <th>relay3_log</th>\n      <th>relay4_log</th>\n      <th>snort_log1</th>\n      <th>snort_log2</th>\n      <th>snort_log3</th>\n      <th>snort_log4</th>\n      <th>marker</th>\n    </tr>\n  </thead>\n  <tbody>\n    <tr>\n      <th>8088</th>\n      <td>115.640072</td>\n      <td>133590.3826</td>\n      <td>-4.360209</td>\n      <td>132963.5508</td>\n      <td>-124.331842</td>\n      <td>133690.6756</td>\n      <td>108.890629</td>\n      <td>440.19644</td>\n      <td>-11.184136</td>\n      <td>440.92888</td>\n      <td>...</td>\n      <td>0</td>\n      <td>0</td>\n      <td>0</td>\n      <td>0</td>\n      <td>0</td>\n      <td>0</td>\n      <td>0</td>\n      <td>0</td>\n      <td>0</td>\n      <td>1</td>\n    </tr>\n    <tr>\n      <th>8415</th>\n      <td>-60.240783</td>\n      <td>132386.8656</td>\n      <td>179.765508</td>\n      <td>131760.0339</td>\n      <td>59.776687</td>\n      <td>132437.0121</td>\n      <td>-59.278213</td>\n      <td>261.84730</td>\n      <td>-179.106607</td>\n      <td>262.03041</td>\n      <td>...</td>\n      <td>0</td>\n      <td>0</td>\n      <td>0</td>\n      <td>0</td>\n      <td>0</td>\n      <td>0</td>\n      <td>0</td>\n      <td>0</td>\n      <td>0</td>\n      <td>1</td>\n    </tr>\n    <tr>\n      <th>32172</th>\n      <td>-173.067632</td>\n      <td>131183.3486</td>\n      <td>66.961578</td>\n      <td>131158.2754</td>\n      <td>-53.038703</td>\n      <td>131258.5685</td>\n      <td>-174.912556</td>\n      <td>439.46400</td>\n      <td>63.185786</td>\n      <td>448.07017</td>\n      <td>...</td>\n      <td>0</td>\n      <td>0</td>\n      <td>0</td>\n      <td>0</td>\n      <td>0</td>\n      <td>0</td>\n      <td>0</td>\n      <td>0</td>\n      <td>0</td>\n      <td>0</td>\n    </tr>\n    <tr>\n      <th>32154</th>\n      <td>102.553716</td>\n      <td>130882.4694</td>\n      <td>-17.412187</td>\n      <td>130832.3229</td>\n      <td>-137.423927</td>\n      <td>130957.6892</td>\n      <td>99.631631</td>\n      <td>483.59351</td>\n      <td>-22.064605</td>\n      <td>490.18547</td>\n      <td>...</td>\n      <td>0</td>\n      <td>0</td>\n      <td>0</td>\n      <td>0</td>\n      <td>0</td>\n      <td>0</td>\n      <td>0</td>\n      <td>0</td>\n      <td>0</td>\n      <td>0</td>\n    </tr>\n    <tr>\n      <th>29935</th>\n      <td>-128.480056</td>\n      <td>127923.8235</td>\n      <td>111.526235</td>\n      <td>127296.9918</td>\n      <td>-8.451127</td>\n      <td>127973.9701</td>\n      <td>-145.491173</td>\n      <td>1035.12083</td>\n      <td>94.199991</td>\n      <td>1038.78303</td>\n      <td>...</td>\n      <td>0</td>\n      <td>0</td>\n      <td>0</td>\n      <td>1</td>\n      <td>1</td>\n      <td>0</td>\n      <td>0</td>\n      <td>0</td>\n      <td>0</td>\n      <td>0</td>\n    </tr>\n  </tbody>\n</table>\n<p>5 rows × 129 columns</p>\n</div>"
     },
     "execution_count": 124,
     "metadata": {},
     "output_type": "execute_result"
    }
   ],
   "source": [
    "train_df.head()"
   ],
   "metadata": {
    "collapsed": false,
    "pycharm": {
     "name": "#%%\n"
    }
   }
  },
  {
   "cell_type": "code",
   "execution_count": 125,
   "outputs": [
    {
     "data": {
      "text/plain": "        R1-PA1:VH     R1-PM1:V   R1-PA2:VH     R1-PM2:V  R1-PA3:VH  \\\n26251  -86.390576  132035.8398  153.655822  131985.6933  33.638352   \n30245 -124.492270  132211.3527  115.525480  131559.4477  -4.474800   \n5228   -30.584487  132286.5725 -150.561849  131634.6675  89.438712   \n28     159.580205  134668.5332   39.579924  134016.6282 -80.414627   \n28431  -88.831377  131083.0556  151.174914  130456.2238  31.197552   \n\n          R1-PM3:V   R1-PA4:IH   R1-PM4:I   R1-PA5:IH   R1-PM5:I  ...  \\\n26251  132085.9864  -86.178582  318.06207  153.644362  320.44250  ...   \n30245  132261.4993 -124.755830  303.04705  115.479644  302.13150  ...   \n5228   132336.7191  -24.986689  265.50950 -149.318531  279.42586  ...   \n28     134718.6797  158.056137  296.63820   38.113153  296.45509  ...   \n28431  131158.2754  -93.157208  474.80423  146.734491  476.45222  ...   \n\n       control_panel_log4  relay1_log  relay2_log  relay3_log  relay4_log  \\\n26251                   0           0           0           0           0   \n30245                   0           0           0           0           0   \n5228                    0           0           0           0           0   \n28                      0           0           0           0           0   \n28431                   0           0           0           0           0   \n\n       snort_log1  snort_log2  snort_log3  snort_log4  marker  \n26251           0           0           0           0       0  \n30245           0           0           0           0       0  \n5228            0           0           0           0       1  \n28              0           0           0           0       1  \n28431           0           0           0           0       0  \n\n[5 rows x 129 columns]",
      "text/html": "<div>\n<style scoped>\n    .dataframe tbody tr th:only-of-type {\n        vertical-align: middle;\n    }\n\n    .dataframe tbody tr th {\n        vertical-align: top;\n    }\n\n    .dataframe thead th {\n        text-align: right;\n    }\n</style>\n<table border=\"1\" class=\"dataframe\">\n  <thead>\n    <tr style=\"text-align: right;\">\n      <th></th>\n      <th>R1-PA1:VH</th>\n      <th>R1-PM1:V</th>\n      <th>R1-PA2:VH</th>\n      <th>R1-PM2:V</th>\n      <th>R1-PA3:VH</th>\n      <th>R1-PM3:V</th>\n      <th>R1-PA4:IH</th>\n      <th>R1-PM4:I</th>\n      <th>R1-PA5:IH</th>\n      <th>R1-PM5:I</th>\n      <th>...</th>\n      <th>control_panel_log4</th>\n      <th>relay1_log</th>\n      <th>relay2_log</th>\n      <th>relay3_log</th>\n      <th>relay4_log</th>\n      <th>snort_log1</th>\n      <th>snort_log2</th>\n      <th>snort_log3</th>\n      <th>snort_log4</th>\n      <th>marker</th>\n    </tr>\n  </thead>\n  <tbody>\n    <tr>\n      <th>26251</th>\n      <td>-86.390576</td>\n      <td>132035.8398</td>\n      <td>153.655822</td>\n      <td>131985.6933</td>\n      <td>33.638352</td>\n      <td>132085.9864</td>\n      <td>-86.178582</td>\n      <td>318.06207</td>\n      <td>153.644362</td>\n      <td>320.44250</td>\n      <td>...</td>\n      <td>0</td>\n      <td>0</td>\n      <td>0</td>\n      <td>0</td>\n      <td>0</td>\n      <td>0</td>\n      <td>0</td>\n      <td>0</td>\n      <td>0</td>\n      <td>0</td>\n    </tr>\n    <tr>\n      <th>30245</th>\n      <td>-124.492270</td>\n      <td>132211.3527</td>\n      <td>115.525480</td>\n      <td>131559.4477</td>\n      <td>-4.474800</td>\n      <td>132261.4993</td>\n      <td>-124.755830</td>\n      <td>303.04705</td>\n      <td>115.479644</td>\n      <td>302.13150</td>\n      <td>...</td>\n      <td>0</td>\n      <td>0</td>\n      <td>0</td>\n      <td>0</td>\n      <td>0</td>\n      <td>0</td>\n      <td>0</td>\n      <td>0</td>\n      <td>0</td>\n      <td>0</td>\n    </tr>\n    <tr>\n      <th>5228</th>\n      <td>-30.584487</td>\n      <td>132286.5725</td>\n      <td>-150.561849</td>\n      <td>131634.6675</td>\n      <td>89.438712</td>\n      <td>132336.7191</td>\n      <td>-24.986689</td>\n      <td>265.50950</td>\n      <td>-149.318531</td>\n      <td>279.42586</td>\n      <td>...</td>\n      <td>0</td>\n      <td>0</td>\n      <td>0</td>\n      <td>0</td>\n      <td>0</td>\n      <td>0</td>\n      <td>0</td>\n      <td>0</td>\n      <td>0</td>\n      <td>1</td>\n    </tr>\n    <tr>\n      <th>28</th>\n      <td>159.580205</td>\n      <td>134668.5332</td>\n      <td>39.579924</td>\n      <td>134016.6282</td>\n      <td>-80.414627</td>\n      <td>134718.6797</td>\n      <td>158.056137</td>\n      <td>296.63820</td>\n      <td>38.113153</td>\n      <td>296.45509</td>\n      <td>...</td>\n      <td>0</td>\n      <td>0</td>\n      <td>0</td>\n      <td>0</td>\n      <td>0</td>\n      <td>0</td>\n      <td>0</td>\n      <td>0</td>\n      <td>0</td>\n      <td>1</td>\n    </tr>\n    <tr>\n      <th>28431</th>\n      <td>-88.831377</td>\n      <td>131083.0556</td>\n      <td>151.174914</td>\n      <td>130456.2238</td>\n      <td>31.197552</td>\n      <td>131158.2754</td>\n      <td>-93.157208</td>\n      <td>474.80423</td>\n      <td>146.734491</td>\n      <td>476.45222</td>\n      <td>...</td>\n      <td>0</td>\n      <td>0</td>\n      <td>0</td>\n      <td>0</td>\n      <td>0</td>\n      <td>0</td>\n      <td>0</td>\n      <td>0</td>\n      <td>0</td>\n      <td>0</td>\n    </tr>\n  </tbody>\n</table>\n<p>5 rows × 129 columns</p>\n</div>"
     },
     "execution_count": 125,
     "metadata": {},
     "output_type": "execute_result"
    }
   ],
   "source": [
    "test_df.head()"
   ],
   "metadata": {
    "collapsed": false,
    "pycharm": {
     "name": "#%%\n"
    }
   }
  },
  {
   "cell_type": "code",
   "execution_count": 126,
   "outputs": [],
   "source": [
    "train_df, label_train_df = data_label_split(train_df)"
   ],
   "metadata": {
    "collapsed": false,
    "pycharm": {
     "name": "#%%\n"
    }
   }
  },
  {
   "cell_type": "code",
   "execution_count": 127,
   "outputs": [
    {
     "data": {
      "text/plain": "        R1-PA1:VH     R1-PM1:V   R1-PA2:VH     R1-PM2:V   R1-PA3:VH  \\\n8088   115.640072  133590.3826   -4.360209  132963.5508 -124.331842   \n8415   -60.240783  132386.8656  179.765508  131760.0339   59.776687   \n32172 -173.067632  131183.3486   66.961578  131158.2754  -53.038703   \n32154  102.553716  130882.4694  -17.412187  130832.3229 -137.423927   \n29935 -128.480056  127923.8235  111.526235  127296.9918   -8.451127   \n\n          R1-PM3:V   R1-PA4:IH    R1-PM4:I   R1-PA5:IH    R1-PM5:I  ...  \\\n8088   133690.6756  108.890629   440.19644  -11.184136   440.92888  ...   \n8415   132437.0121  -59.278213   261.84730 -179.106607   262.03041  ...   \n32172  131258.5685 -174.912556   439.46400   63.185786   448.07017  ...   \n32154  130957.6892   99.631631   483.59351  -22.064605   490.18547  ...   \n29935  127973.9701 -145.491173  1035.12083   94.199991  1038.78303  ...   \n\n       control_panel_log3  control_panel_log4  relay1_log  relay2_log  \\\n8088                    0                   0           0           0   \n8415                    0                   0           0           0   \n32172                   0                   0           0           0   \n32154                   0                   0           0           0   \n29935                   0                   0           0           0   \n\n       relay3_log  relay4_log  snort_log1  snort_log2  snort_log3  snort_log4  \n8088            0           0           0           0           0           0  \n8415            0           0           0           0           0           0  \n32172           0           0           0           0           0           0  \n32154           0           0           0           0           0           0  \n29935           1           1           0           0           0           0  \n\n[5 rows x 128 columns]",
      "text/html": "<div>\n<style scoped>\n    .dataframe tbody tr th:only-of-type {\n        vertical-align: middle;\n    }\n\n    .dataframe tbody tr th {\n        vertical-align: top;\n    }\n\n    .dataframe thead th {\n        text-align: right;\n    }\n</style>\n<table border=\"1\" class=\"dataframe\">\n  <thead>\n    <tr style=\"text-align: right;\">\n      <th></th>\n      <th>R1-PA1:VH</th>\n      <th>R1-PM1:V</th>\n      <th>R1-PA2:VH</th>\n      <th>R1-PM2:V</th>\n      <th>R1-PA3:VH</th>\n      <th>R1-PM3:V</th>\n      <th>R1-PA4:IH</th>\n      <th>R1-PM4:I</th>\n      <th>R1-PA5:IH</th>\n      <th>R1-PM5:I</th>\n      <th>...</th>\n      <th>control_panel_log3</th>\n      <th>control_panel_log4</th>\n      <th>relay1_log</th>\n      <th>relay2_log</th>\n      <th>relay3_log</th>\n      <th>relay4_log</th>\n      <th>snort_log1</th>\n      <th>snort_log2</th>\n      <th>snort_log3</th>\n      <th>snort_log4</th>\n    </tr>\n  </thead>\n  <tbody>\n    <tr>\n      <th>8088</th>\n      <td>115.640072</td>\n      <td>133590.3826</td>\n      <td>-4.360209</td>\n      <td>132963.5508</td>\n      <td>-124.331842</td>\n      <td>133690.6756</td>\n      <td>108.890629</td>\n      <td>440.19644</td>\n      <td>-11.184136</td>\n      <td>440.92888</td>\n      <td>...</td>\n      <td>0</td>\n      <td>0</td>\n      <td>0</td>\n      <td>0</td>\n      <td>0</td>\n      <td>0</td>\n      <td>0</td>\n      <td>0</td>\n      <td>0</td>\n      <td>0</td>\n    </tr>\n    <tr>\n      <th>8415</th>\n      <td>-60.240783</td>\n      <td>132386.8656</td>\n      <td>179.765508</td>\n      <td>131760.0339</td>\n      <td>59.776687</td>\n      <td>132437.0121</td>\n      <td>-59.278213</td>\n      <td>261.84730</td>\n      <td>-179.106607</td>\n      <td>262.03041</td>\n      <td>...</td>\n      <td>0</td>\n      <td>0</td>\n      <td>0</td>\n      <td>0</td>\n      <td>0</td>\n      <td>0</td>\n      <td>0</td>\n      <td>0</td>\n      <td>0</td>\n      <td>0</td>\n    </tr>\n    <tr>\n      <th>32172</th>\n      <td>-173.067632</td>\n      <td>131183.3486</td>\n      <td>66.961578</td>\n      <td>131158.2754</td>\n      <td>-53.038703</td>\n      <td>131258.5685</td>\n      <td>-174.912556</td>\n      <td>439.46400</td>\n      <td>63.185786</td>\n      <td>448.07017</td>\n      <td>...</td>\n      <td>0</td>\n      <td>0</td>\n      <td>0</td>\n      <td>0</td>\n      <td>0</td>\n      <td>0</td>\n      <td>0</td>\n      <td>0</td>\n      <td>0</td>\n      <td>0</td>\n    </tr>\n    <tr>\n      <th>32154</th>\n      <td>102.553716</td>\n      <td>130882.4694</td>\n      <td>-17.412187</td>\n      <td>130832.3229</td>\n      <td>-137.423927</td>\n      <td>130957.6892</td>\n      <td>99.631631</td>\n      <td>483.59351</td>\n      <td>-22.064605</td>\n      <td>490.18547</td>\n      <td>...</td>\n      <td>0</td>\n      <td>0</td>\n      <td>0</td>\n      <td>0</td>\n      <td>0</td>\n      <td>0</td>\n      <td>0</td>\n      <td>0</td>\n      <td>0</td>\n      <td>0</td>\n    </tr>\n    <tr>\n      <th>29935</th>\n      <td>-128.480056</td>\n      <td>127923.8235</td>\n      <td>111.526235</td>\n      <td>127296.9918</td>\n      <td>-8.451127</td>\n      <td>127973.9701</td>\n      <td>-145.491173</td>\n      <td>1035.12083</td>\n      <td>94.199991</td>\n      <td>1038.78303</td>\n      <td>...</td>\n      <td>0</td>\n      <td>0</td>\n      <td>0</td>\n      <td>0</td>\n      <td>1</td>\n      <td>1</td>\n      <td>0</td>\n      <td>0</td>\n      <td>0</td>\n      <td>0</td>\n    </tr>\n  </tbody>\n</table>\n<p>5 rows × 128 columns</p>\n</div>"
     },
     "execution_count": 127,
     "metadata": {},
     "output_type": "execute_result"
    }
   ],
   "source": [
    "train_df.head()"
   ],
   "metadata": {
    "collapsed": false,
    "pycharm": {
     "name": "#%%\n"
    }
   }
  },
  {
   "cell_type": "code",
   "execution_count": 128,
   "outputs": [
    {
     "data": {
      "text/plain": "8088     1\n8415     1\n32172    0\n32154    0\n29935    0\nName: marker, dtype: int64"
     },
     "execution_count": 128,
     "metadata": {},
     "output_type": "execute_result"
    }
   ],
   "source": [
    "label_train_df.head()"
   ],
   "metadata": {
    "collapsed": false,
    "pycharm": {
     "name": "#%%\n"
    }
   }
  },
  {
   "cell_type": "code",
   "execution_count": 129,
   "outputs": [],
   "source": [
    "test_df, label_test_df = data_label_split(test_df)"
   ],
   "metadata": {
    "collapsed": false,
    "pycharm": {
     "name": "#%%\n"
    }
   }
  },
  {
   "cell_type": "code",
   "execution_count": 130,
   "outputs": [
    {
     "data": {
      "text/plain": "        R1-PA1:VH     R1-PM1:V   R1-PA2:VH     R1-PM2:V  R1-PA3:VH  \\\n26251  -86.390576  132035.8398  153.655822  131985.6933  33.638352   \n30245 -124.492270  132211.3527  115.525480  131559.4477  -4.474800   \n5228   -30.584487  132286.5725 -150.561849  131634.6675  89.438712   \n28     159.580205  134668.5332   39.579924  134016.6282 -80.414627   \n28431  -88.831377  131083.0556  151.174914  130456.2238  31.197552   \n\n          R1-PM3:V   R1-PA4:IH   R1-PM4:I   R1-PA5:IH   R1-PM5:I  ...  \\\n26251  132085.9864  -86.178582  318.06207  153.644362  320.44250  ...   \n30245  132261.4993 -124.755830  303.04705  115.479644  302.13150  ...   \n5228   132336.7191  -24.986689  265.50950 -149.318531  279.42586  ...   \n28     134718.6797  158.056137  296.63820   38.113153  296.45509  ...   \n28431  131158.2754  -93.157208  474.80423  146.734491  476.45222  ...   \n\n       control_panel_log3  control_panel_log4  relay1_log  relay2_log  \\\n26251                   0                   0           0           0   \n30245                   0                   0           0           0   \n5228                    0                   0           0           0   \n28                      0                   0           0           0   \n28431                   0                   0           0           0   \n\n       relay3_log  relay4_log  snort_log1  snort_log2  snort_log3  snort_log4  \n26251           0           0           0           0           0           0  \n30245           0           0           0           0           0           0  \n5228            0           0           0           0           0           0  \n28              0           0           0           0           0           0  \n28431           0           0           0           0           0           0  \n\n[5 rows x 128 columns]",
      "text/html": "<div>\n<style scoped>\n    .dataframe tbody tr th:only-of-type {\n        vertical-align: middle;\n    }\n\n    .dataframe tbody tr th {\n        vertical-align: top;\n    }\n\n    .dataframe thead th {\n        text-align: right;\n    }\n</style>\n<table border=\"1\" class=\"dataframe\">\n  <thead>\n    <tr style=\"text-align: right;\">\n      <th></th>\n      <th>R1-PA1:VH</th>\n      <th>R1-PM1:V</th>\n      <th>R1-PA2:VH</th>\n      <th>R1-PM2:V</th>\n      <th>R1-PA3:VH</th>\n      <th>R1-PM3:V</th>\n      <th>R1-PA4:IH</th>\n      <th>R1-PM4:I</th>\n      <th>R1-PA5:IH</th>\n      <th>R1-PM5:I</th>\n      <th>...</th>\n      <th>control_panel_log3</th>\n      <th>control_panel_log4</th>\n      <th>relay1_log</th>\n      <th>relay2_log</th>\n      <th>relay3_log</th>\n      <th>relay4_log</th>\n      <th>snort_log1</th>\n      <th>snort_log2</th>\n      <th>snort_log3</th>\n      <th>snort_log4</th>\n    </tr>\n  </thead>\n  <tbody>\n    <tr>\n      <th>26251</th>\n      <td>-86.390576</td>\n      <td>132035.8398</td>\n      <td>153.655822</td>\n      <td>131985.6933</td>\n      <td>33.638352</td>\n      <td>132085.9864</td>\n      <td>-86.178582</td>\n      <td>318.06207</td>\n      <td>153.644362</td>\n      <td>320.44250</td>\n      <td>...</td>\n      <td>0</td>\n      <td>0</td>\n      <td>0</td>\n      <td>0</td>\n      <td>0</td>\n      <td>0</td>\n      <td>0</td>\n      <td>0</td>\n      <td>0</td>\n      <td>0</td>\n    </tr>\n    <tr>\n      <th>30245</th>\n      <td>-124.492270</td>\n      <td>132211.3527</td>\n      <td>115.525480</td>\n      <td>131559.4477</td>\n      <td>-4.474800</td>\n      <td>132261.4993</td>\n      <td>-124.755830</td>\n      <td>303.04705</td>\n      <td>115.479644</td>\n      <td>302.13150</td>\n      <td>...</td>\n      <td>0</td>\n      <td>0</td>\n      <td>0</td>\n      <td>0</td>\n      <td>0</td>\n      <td>0</td>\n      <td>0</td>\n      <td>0</td>\n      <td>0</td>\n      <td>0</td>\n    </tr>\n    <tr>\n      <th>5228</th>\n      <td>-30.584487</td>\n      <td>132286.5725</td>\n      <td>-150.561849</td>\n      <td>131634.6675</td>\n      <td>89.438712</td>\n      <td>132336.7191</td>\n      <td>-24.986689</td>\n      <td>265.50950</td>\n      <td>-149.318531</td>\n      <td>279.42586</td>\n      <td>...</td>\n      <td>0</td>\n      <td>0</td>\n      <td>0</td>\n      <td>0</td>\n      <td>0</td>\n      <td>0</td>\n      <td>0</td>\n      <td>0</td>\n      <td>0</td>\n      <td>0</td>\n    </tr>\n    <tr>\n      <th>28</th>\n      <td>159.580205</td>\n      <td>134668.5332</td>\n      <td>39.579924</td>\n      <td>134016.6282</td>\n      <td>-80.414627</td>\n      <td>134718.6797</td>\n      <td>158.056137</td>\n      <td>296.63820</td>\n      <td>38.113153</td>\n      <td>296.45509</td>\n      <td>...</td>\n      <td>0</td>\n      <td>0</td>\n      <td>0</td>\n      <td>0</td>\n      <td>0</td>\n      <td>0</td>\n      <td>0</td>\n      <td>0</td>\n      <td>0</td>\n      <td>0</td>\n    </tr>\n    <tr>\n      <th>28431</th>\n      <td>-88.831377</td>\n      <td>131083.0556</td>\n      <td>151.174914</td>\n      <td>130456.2238</td>\n      <td>31.197552</td>\n      <td>131158.2754</td>\n      <td>-93.157208</td>\n      <td>474.80423</td>\n      <td>146.734491</td>\n      <td>476.45222</td>\n      <td>...</td>\n      <td>0</td>\n      <td>0</td>\n      <td>0</td>\n      <td>0</td>\n      <td>0</td>\n      <td>0</td>\n      <td>0</td>\n      <td>0</td>\n      <td>0</td>\n      <td>0</td>\n    </tr>\n  </tbody>\n</table>\n<p>5 rows × 128 columns</p>\n</div>"
     },
     "execution_count": 130,
     "metadata": {},
     "output_type": "execute_result"
    }
   ],
   "source": [
    "test_df.head()"
   ],
   "metadata": {
    "collapsed": false,
    "pycharm": {
     "name": "#%%\n"
    }
   }
  },
  {
   "cell_type": "code",
   "execution_count": 131,
   "outputs": [
    {
     "data": {
      "text/plain": "26251    0\n30245    0\n5228     1\n28       1\n28431    0\nName: marker, dtype: int64"
     },
     "execution_count": 131,
     "metadata": {},
     "output_type": "execute_result"
    }
   ],
   "source": [
    "label_test_df.head()"
   ],
   "metadata": {
    "collapsed": false,
    "pycharm": {
     "name": "#%%\n"
    }
   }
  },
  {
   "cell_type": "code",
   "execution_count": 132,
   "outputs": [
    {
     "name": "stdout",
     "output_type": "stream",
     "text": [
      "Training time = 18.71s\n",
      "Testing time = 0.3s\n",
      "              precision    recall  f1-score   support\n",
      "\n",
      "           0       0.92      0.98      0.94      6805\n",
      "           1       0.93      0.79      0.85      2884\n",
      "\n",
      "    accuracy                           0.92      9689\n",
      "   macro avg       0.92      0.88      0.90      9689\n",
      "weighted avg       0.92      0.92      0.92      9689\n",
      "\n"
     ]
    }
   ],
   "source": [
    "rf = training(train_df, label_train_df, classifier=\"Random Forest\")\n",
    "testing(test_df, label_test_df, rf)"
   ],
   "metadata": {
    "collapsed": false,
    "pycharm": {
     "name": "#%%\n"
    }
   }
  },
  {
   "cell_type": "code",
   "execution_count": 133,
   "outputs": [
    {
     "name": "stdout",
     "output_type": "stream",
     "text": [
      "Training time = 301.3s\n",
      "Testing time = 9.64s\n",
      "              precision    recall  f1-score   support\n",
      "\n",
      "           0       0.70      0.99      0.82      6805\n",
      "           1       0.47      0.02      0.03      2884\n",
      "\n",
      "    accuracy                           0.70      9689\n",
      "   macro avg       0.59      0.50      0.43      9689\n",
      "weighted avg       0.64      0.70      0.59      9689\n",
      "\n"
     ]
    }
   ],
   "source": [
    "svm = training(train_df, label_train_df, classifier=\"SVM\")\n",
    "testing(test_df, label_test_df, svm)"
   ],
   "metadata": {
    "collapsed": false,
    "pycharm": {
     "name": "#%%\n"
    }
   }
  },
  {
   "cell_type": "code",
   "execution_count": 134,
   "outputs": [
    {
     "name": "stdout",
     "output_type": "stream",
     "text": [
      "Training time = 0.73s\n",
      "Testing time = 0.01s\n",
      "              precision    recall  f1-score   support\n",
      "\n",
      "           0       0.70      1.00      0.83      6805\n",
      "           1       0.60      0.01      0.03      2884\n",
      "\n",
      "    accuracy                           0.70      9689\n",
      "   macro avg       0.65      0.50      0.43      9689\n",
      "weighted avg       0.67      0.70      0.59      9689\n",
      "\n"
     ]
    },
    {
     "name": "stderr",
     "output_type": "stream",
     "text": [
      "C:\\Users\\brenn\\PycharmProjects\\False-Data-Injection-Detection-for-Smart-Grid-Systems\\lib\\site-packages\\sklearn\\linear_model\\_logistic.py:814: ConvergenceWarning: lbfgs failed to converge (status=1):\n",
      "STOP: TOTAL NO. of ITERATIONS REACHED LIMIT.\n",
      "\n",
      "Increase the number of iterations (max_iter) or scale the data as shown in:\n",
      "    https://scikit-learn.org/stable/modules/preprocessing.html\n",
      "Please also refer to the documentation for alternative solver options:\n",
      "    https://scikit-learn.org/stable/modules/linear_model.html#logistic-regression\n",
      "  n_iter_i = _check_optimize_result(\n"
     ]
    }
   ],
   "source": [
    "lr = training(train_df, label_train_df, classifier=\"Logistic Regression\")\n",
    "testing(test_df, label_test_df, lr)"
   ],
   "metadata": {
    "collapsed": false,
    "pycharm": {
     "name": "#%%\n"
    }
   }
  },
  {
   "cell_type": "code",
   "execution_count": 135,
   "outputs": [
    {
     "name": "stdout",
     "output_type": "stream",
     "text": [
      "Training time = 0.07s\n",
      "Testing time = 0.04s\n",
      "              precision    recall  f1-score   support\n",
      "\n",
      "           0       0.70      0.98      0.82      6805\n",
      "           1       0.33      0.02      0.04      2884\n",
      "\n",
      "    accuracy                           0.70      9689\n",
      "   macro avg       0.52      0.50      0.43      9689\n",
      "weighted avg       0.59      0.70      0.59      9689\n",
      "\n"
     ]
    }
   ],
   "source": [
    "nb = training(train_df, label_train_df, classifier=\"Naive Bayes\")\n",
    "testing(test_df, label_test_df, nb)"
   ],
   "metadata": {
    "collapsed": false,
    "pycharm": {
     "name": "#%%\n"
    }
   }
  },
  {
   "cell_type": "code",
   "execution_count": 136,
   "outputs": [
    {
     "name": "stdout",
     "output_type": "stream",
     "text": [
      "Training time = 0.02s\n",
      "Testing time = 9.57s\n",
      "              precision    recall  f1-score   support\n",
      "\n",
      "           0       0.83      0.91      0.87      6805\n",
      "           1       0.72      0.57      0.63      2884\n",
      "\n",
      "    accuracy                           0.80      9689\n",
      "   macro avg       0.78      0.74      0.75      9689\n",
      "weighted avg       0.80      0.80      0.80      9689\n",
      "\n"
     ]
    }
   ],
   "source": [
    "knn = training(train_df, label_train_df, classifier=\"KNN\")\n",
    "testing(test_df, label_test_df, knn)"
   ],
   "metadata": {
    "collapsed": false,
    "pycharm": {
     "name": "#%%\n"
    }
   }
  },
  {
   "cell_type": "code",
   "execution_count": 137,
   "outputs": [
    {
     "name": "stdout",
     "output_type": "stream",
     "text": [
      "Training time = 0.69s\n",
      "Testing time = 0.02s\n",
      "              precision    recall  f1-score   support\n",
      "\n",
      "           0       0.71      1.00      0.83      6805\n",
      "           1       0.91      0.02      0.04      2884\n",
      "\n",
      "    accuracy                           0.71      9689\n",
      "   macro avg       0.81      0.51      0.43      9689\n",
      "weighted avg       0.77      0.71      0.59      9689\n",
      "\n"
     ]
    }
   ],
   "source": [
    "dt = training(train_df, label_train_df, classifier=\"Decision Tree\")\n",
    "testing(test_df, label_test_df, dt)"
   ],
   "metadata": {
    "collapsed": false,
    "pycharm": {
     "name": "#%%\n"
    }
   }
  },
  {
   "cell_type": "code",
   "execution_count": 138,
   "outputs": [
    {
     "name": "stdout",
     "output_type": "stream",
     "text": [
      "Training time = 13.78s\n",
      "Testing time = 0.32s\n",
      "              precision    recall  f1-score   support\n",
      "\n",
      "           0       0.72      0.96      0.82      6805\n",
      "           1       0.54      0.11      0.18      2884\n",
      "\n",
      "    accuracy                           0.71      9689\n",
      "   macro avg       0.63      0.54      0.50      9689\n",
      "weighted avg       0.67      0.71      0.63      9689\n",
      "\n"
     ]
    }
   ],
   "source": [
    "ada = training(train_df, label_train_df, classifier=\"AdaBoost\")\n",
    "testing(test_df, label_test_df, ada)"
   ],
   "metadata": {
    "collapsed": false,
    "pycharm": {
     "name": "#%%\n"
    }
   }
  },
  {
   "cell_type": "code",
   "execution_count": 139,
   "outputs": [
    {
     "name": "stdout",
     "output_type": "stream",
     "text": [
      "Training time = 68.72s\n",
      "Testing time = 0.13s\n",
      "              precision    recall  f1-score   support\n",
      "\n",
      "           0       0.72      0.99      0.84      6805\n",
      "           1       0.79      0.11      0.19      2884\n",
      "\n",
      "    accuracy                           0.73      9689\n",
      "   macro avg       0.76      0.55      0.51      9689\n",
      "weighted avg       0.74      0.73      0.64      9689\n",
      "\n"
     ]
    },
    {
     "ename": "KeyboardInterrupt",
     "evalue": "",
     "output_type": "error",
     "traceback": [
      "\u001B[1;31m---------------------------------------------------------------------------\u001B[0m",
      "\u001B[1;31mKeyboardInterrupt\u001B[0m                         Traceback (most recent call last)",
      "Input \u001B[1;32mIn [139]\u001B[0m, in \u001B[0;36m<cell line: 4>\u001B[1;34m()\u001B[0m\n\u001B[0;32m      1\u001B[0m gb \u001B[38;5;241m=\u001B[39m training(train_df, label_train_df, classifier\u001B[38;5;241m=\u001B[39m\u001B[38;5;124m\"\u001B[39m\u001B[38;5;124mGradient Boosting\u001B[39m\u001B[38;5;124m\"\u001B[39m)\n\u001B[0;32m      2\u001B[0m testing(test_df, label_test_df, gb)\n\u001B[1;32m----> 4\u001B[0m bag \u001B[38;5;241m=\u001B[39m \u001B[43mtraining\u001B[49m\u001B[43m(\u001B[49m\u001B[43mtrain_df\u001B[49m\u001B[43m,\u001B[49m\u001B[43m \u001B[49m\u001B[43mlabel_train_df\u001B[49m\u001B[43m,\u001B[49m\u001B[43m \u001B[49m\u001B[43mclassifier\u001B[49m\u001B[38;5;241;43m=\u001B[39;49m\u001B[38;5;124;43m\"\u001B[39;49m\u001B[38;5;124;43mBagging\u001B[39;49m\u001B[38;5;124;43m\"\u001B[39;49m\u001B[43m)\u001B[49m\n\u001B[0;32m      5\u001B[0m testing(test_df, label_test_df, bag)\n",
      "File \u001B[1;32m~\\Documents\\School\\M.A.Sc\\CISC 850\\False-Data-Injection-Detection-for-Smart-Grid-Systems\\py\\classifier_functions.py:104\u001B[0m, in \u001B[0;36mtraining\u001B[1;34m(train_df, label_train_df, classifier)\u001B[0m\n\u001B[0;32m    102\u001B[0m # Training time\n\u001B[0;32m    103\u001B[0m start = time.time()\n\u001B[1;32m--> 104\u001B[0m # Fit model to data\n\u001B[0;32m    105\u001B[0m classifier_model.fit(train_df, label_train_df)\n\u001B[0;32m    106\u001B[0m end = time.time()\n",
      "File \u001B[1;32m~\\PycharmProjects\\False-Data-Injection-Detection-for-Smart-Grid-Systems\\lib\\site-packages\\sklearn\\ensemble\\_bagging.py:269\u001B[0m, in \u001B[0;36mBaseBagging.fit\u001B[1;34m(self, X, y, sample_weight)\u001B[0m\n\u001B[0;32m    260\u001B[0m \u001B[38;5;66;03m# Convert data (X is required to be 2d and indexable)\u001B[39;00m\n\u001B[0;32m    261\u001B[0m X, y \u001B[38;5;241m=\u001B[39m \u001B[38;5;28mself\u001B[39m\u001B[38;5;241m.\u001B[39m_validate_data(\n\u001B[0;32m    262\u001B[0m     X,\n\u001B[0;32m    263\u001B[0m     y,\n\u001B[1;32m   (...)\u001B[0m\n\u001B[0;32m    267\u001B[0m     multi_output\u001B[38;5;241m=\u001B[39m\u001B[38;5;28;01mTrue\u001B[39;00m,\n\u001B[0;32m    268\u001B[0m )\n\u001B[1;32m--> 269\u001B[0m \u001B[38;5;28;01mreturn\u001B[39;00m \u001B[38;5;28;43mself\u001B[39;49m\u001B[38;5;241;43m.\u001B[39;49m\u001B[43m_fit\u001B[49m\u001B[43m(\u001B[49m\u001B[43mX\u001B[49m\u001B[43m,\u001B[49m\u001B[43m \u001B[49m\u001B[43my\u001B[49m\u001B[43m,\u001B[49m\u001B[43m \u001B[49m\u001B[38;5;28;43mself\u001B[39;49m\u001B[38;5;241;43m.\u001B[39;49m\u001B[43mmax_samples\u001B[49m\u001B[43m,\u001B[49m\u001B[43m \u001B[49m\u001B[43msample_weight\u001B[49m\u001B[38;5;241;43m=\u001B[39;49m\u001B[43msample_weight\u001B[49m\u001B[43m)\u001B[49m\n",
      "File \u001B[1;32m~\\PycharmProjects\\False-Data-Injection-Detection-for-Smart-Grid-Systems\\lib\\site-packages\\sklearn\\ensemble\\_bagging.py:394\u001B[0m, in \u001B[0;36mBaseBagging._fit\u001B[1;34m(self, X, y, max_samples, max_depth, sample_weight)\u001B[0m\n\u001B[0;32m    391\u001B[0m seeds \u001B[38;5;241m=\u001B[39m random_state\u001B[38;5;241m.\u001B[39mrandint(MAX_INT, size\u001B[38;5;241m=\u001B[39mn_more_estimators)\n\u001B[0;32m    392\u001B[0m \u001B[38;5;28mself\u001B[39m\u001B[38;5;241m.\u001B[39m_seeds \u001B[38;5;241m=\u001B[39m seeds\n\u001B[1;32m--> 394\u001B[0m all_results \u001B[38;5;241m=\u001B[39m \u001B[43mParallel\u001B[49m\u001B[43m(\u001B[49m\n\u001B[0;32m    395\u001B[0m \u001B[43m    \u001B[49m\u001B[43mn_jobs\u001B[49m\u001B[38;5;241;43m=\u001B[39;49m\u001B[43mn_jobs\u001B[49m\u001B[43m,\u001B[49m\u001B[43m \u001B[49m\u001B[43mverbose\u001B[49m\u001B[38;5;241;43m=\u001B[39;49m\u001B[38;5;28;43mself\u001B[39;49m\u001B[38;5;241;43m.\u001B[39;49m\u001B[43mverbose\u001B[49m\u001B[43m,\u001B[49m\u001B[43m \u001B[49m\u001B[38;5;241;43m*\u001B[39;49m\u001B[38;5;241;43m*\u001B[39;49m\u001B[38;5;28;43mself\u001B[39;49m\u001B[38;5;241;43m.\u001B[39;49m\u001B[43m_parallel_args\u001B[49m\u001B[43m(\u001B[49m\u001B[43m)\u001B[49m\n\u001B[0;32m    396\u001B[0m \u001B[43m\u001B[49m\u001B[43m)\u001B[49m\u001B[43m(\u001B[49m\n\u001B[0;32m    397\u001B[0m \u001B[43m    \u001B[49m\u001B[43mdelayed\u001B[49m\u001B[43m(\u001B[49m\u001B[43m_parallel_build_estimators\u001B[49m\u001B[43m)\u001B[49m\u001B[43m(\u001B[49m\n\u001B[0;32m    398\u001B[0m \u001B[43m        \u001B[49m\u001B[43mn_estimators\u001B[49m\u001B[43m[\u001B[49m\u001B[43mi\u001B[49m\u001B[43m]\u001B[49m\u001B[43m,\u001B[49m\n\u001B[0;32m    399\u001B[0m \u001B[43m        \u001B[49m\u001B[38;5;28;43mself\u001B[39;49m\u001B[43m,\u001B[49m\n\u001B[0;32m    400\u001B[0m \u001B[43m        \u001B[49m\u001B[43mX\u001B[49m\u001B[43m,\u001B[49m\n\u001B[0;32m    401\u001B[0m \u001B[43m        \u001B[49m\u001B[43my\u001B[49m\u001B[43m,\u001B[49m\n\u001B[0;32m    402\u001B[0m \u001B[43m        \u001B[49m\u001B[43msample_weight\u001B[49m\u001B[43m,\u001B[49m\n\u001B[0;32m    403\u001B[0m \u001B[43m        \u001B[49m\u001B[43mseeds\u001B[49m\u001B[43m[\u001B[49m\u001B[43mstarts\u001B[49m\u001B[43m[\u001B[49m\u001B[43mi\u001B[49m\u001B[43m]\u001B[49m\u001B[43m \u001B[49m\u001B[43m:\u001B[49m\u001B[43m \u001B[49m\u001B[43mstarts\u001B[49m\u001B[43m[\u001B[49m\u001B[43mi\u001B[49m\u001B[43m \u001B[49m\u001B[38;5;241;43m+\u001B[39;49m\u001B[43m \u001B[49m\u001B[38;5;241;43m1\u001B[39;49m\u001B[43m]\u001B[49m\u001B[43m]\u001B[49m\u001B[43m,\u001B[49m\n\u001B[0;32m    404\u001B[0m \u001B[43m        \u001B[49m\u001B[43mtotal_n_estimators\u001B[49m\u001B[43m,\u001B[49m\n\u001B[0;32m    405\u001B[0m \u001B[43m        \u001B[49m\u001B[43mverbose\u001B[49m\u001B[38;5;241;43m=\u001B[39;49m\u001B[38;5;28;43mself\u001B[39;49m\u001B[38;5;241;43m.\u001B[39;49m\u001B[43mverbose\u001B[49m\u001B[43m,\u001B[49m\n\u001B[0;32m    406\u001B[0m \u001B[43m    \u001B[49m\u001B[43m)\u001B[49m\n\u001B[0;32m    407\u001B[0m \u001B[43m    \u001B[49m\u001B[38;5;28;43;01mfor\u001B[39;49;00m\u001B[43m \u001B[49m\u001B[43mi\u001B[49m\u001B[43m \u001B[49m\u001B[38;5;129;43;01min\u001B[39;49;00m\u001B[43m \u001B[49m\u001B[38;5;28;43mrange\u001B[39;49m\u001B[43m(\u001B[49m\u001B[43mn_jobs\u001B[49m\u001B[43m)\u001B[49m\n\u001B[0;32m    408\u001B[0m \u001B[43m\u001B[49m\u001B[43m)\u001B[49m\n\u001B[0;32m    410\u001B[0m \u001B[38;5;66;03m# Reduce\u001B[39;00m\n\u001B[0;32m    411\u001B[0m \u001B[38;5;28mself\u001B[39m\u001B[38;5;241m.\u001B[39mestimators_ \u001B[38;5;241m+\u001B[39m\u001B[38;5;241m=\u001B[39m \u001B[38;5;28mlist\u001B[39m(\n\u001B[0;32m    412\u001B[0m     itertools\u001B[38;5;241m.\u001B[39mchain\u001B[38;5;241m.\u001B[39mfrom_iterable(t[\u001B[38;5;241m0\u001B[39m] \u001B[38;5;28;01mfor\u001B[39;00m t \u001B[38;5;129;01min\u001B[39;00m all_results)\n\u001B[0;32m    413\u001B[0m )\n",
      "File \u001B[1;32m~\\PycharmProjects\\False-Data-Injection-Detection-for-Smart-Grid-Systems\\lib\\site-packages\\joblib\\parallel.py:1043\u001B[0m, in \u001B[0;36mParallel.__call__\u001B[1;34m(self, iterable)\u001B[0m\n\u001B[0;32m   1034\u001B[0m \u001B[38;5;28;01mtry\u001B[39;00m:\n\u001B[0;32m   1035\u001B[0m     \u001B[38;5;66;03m# Only set self._iterating to True if at least a batch\u001B[39;00m\n\u001B[0;32m   1036\u001B[0m     \u001B[38;5;66;03m# was dispatched. In particular this covers the edge\u001B[39;00m\n\u001B[1;32m   (...)\u001B[0m\n\u001B[0;32m   1040\u001B[0m     \u001B[38;5;66;03m# was very quick and its callback already dispatched all the\u001B[39;00m\n\u001B[0;32m   1041\u001B[0m     \u001B[38;5;66;03m# remaining jobs.\u001B[39;00m\n\u001B[0;32m   1042\u001B[0m     \u001B[38;5;28mself\u001B[39m\u001B[38;5;241m.\u001B[39m_iterating \u001B[38;5;241m=\u001B[39m \u001B[38;5;28;01mFalse\u001B[39;00m\n\u001B[1;32m-> 1043\u001B[0m     \u001B[38;5;28;01mif\u001B[39;00m \u001B[38;5;28;43mself\u001B[39;49m\u001B[38;5;241;43m.\u001B[39;49m\u001B[43mdispatch_one_batch\u001B[49m\u001B[43m(\u001B[49m\u001B[43miterator\u001B[49m\u001B[43m)\u001B[49m:\n\u001B[0;32m   1044\u001B[0m         \u001B[38;5;28mself\u001B[39m\u001B[38;5;241m.\u001B[39m_iterating \u001B[38;5;241m=\u001B[39m \u001B[38;5;28mself\u001B[39m\u001B[38;5;241m.\u001B[39m_original_iterator \u001B[38;5;129;01mis\u001B[39;00m \u001B[38;5;129;01mnot\u001B[39;00m \u001B[38;5;28;01mNone\u001B[39;00m\n\u001B[0;32m   1046\u001B[0m     \u001B[38;5;28;01mwhile\u001B[39;00m \u001B[38;5;28mself\u001B[39m\u001B[38;5;241m.\u001B[39mdispatch_one_batch(iterator):\n",
      "File \u001B[1;32m~\\PycharmProjects\\False-Data-Injection-Detection-for-Smart-Grid-Systems\\lib\\site-packages\\joblib\\parallel.py:861\u001B[0m, in \u001B[0;36mParallel.dispatch_one_batch\u001B[1;34m(self, iterator)\u001B[0m\n\u001B[0;32m    859\u001B[0m     \u001B[38;5;28;01mreturn\u001B[39;00m \u001B[38;5;28;01mFalse\u001B[39;00m\n\u001B[0;32m    860\u001B[0m \u001B[38;5;28;01melse\u001B[39;00m:\n\u001B[1;32m--> 861\u001B[0m     \u001B[38;5;28;43mself\u001B[39;49m\u001B[38;5;241;43m.\u001B[39;49m\u001B[43m_dispatch\u001B[49m\u001B[43m(\u001B[49m\u001B[43mtasks\u001B[49m\u001B[43m)\u001B[49m\n\u001B[0;32m    862\u001B[0m     \u001B[38;5;28;01mreturn\u001B[39;00m \u001B[38;5;28;01mTrue\u001B[39;00m\n",
      "File \u001B[1;32m~\\PycharmProjects\\False-Data-Injection-Detection-for-Smart-Grid-Systems\\lib\\site-packages\\joblib\\parallel.py:779\u001B[0m, in \u001B[0;36mParallel._dispatch\u001B[1;34m(self, batch)\u001B[0m\n\u001B[0;32m    777\u001B[0m \u001B[38;5;28;01mwith\u001B[39;00m \u001B[38;5;28mself\u001B[39m\u001B[38;5;241m.\u001B[39m_lock:\n\u001B[0;32m    778\u001B[0m     job_idx \u001B[38;5;241m=\u001B[39m \u001B[38;5;28mlen\u001B[39m(\u001B[38;5;28mself\u001B[39m\u001B[38;5;241m.\u001B[39m_jobs)\n\u001B[1;32m--> 779\u001B[0m     job \u001B[38;5;241m=\u001B[39m \u001B[38;5;28;43mself\u001B[39;49m\u001B[38;5;241;43m.\u001B[39;49m\u001B[43m_backend\u001B[49m\u001B[38;5;241;43m.\u001B[39;49m\u001B[43mapply_async\u001B[49m\u001B[43m(\u001B[49m\u001B[43mbatch\u001B[49m\u001B[43m,\u001B[49m\u001B[43m \u001B[49m\u001B[43mcallback\u001B[49m\u001B[38;5;241;43m=\u001B[39;49m\u001B[43mcb\u001B[49m\u001B[43m)\u001B[49m\n\u001B[0;32m    780\u001B[0m     \u001B[38;5;66;03m# A job can complete so quickly than its callback is\u001B[39;00m\n\u001B[0;32m    781\u001B[0m     \u001B[38;5;66;03m# called before we get here, causing self._jobs to\u001B[39;00m\n\u001B[0;32m    782\u001B[0m     \u001B[38;5;66;03m# grow. To ensure correct results ordering, .insert is\u001B[39;00m\n\u001B[0;32m    783\u001B[0m     \u001B[38;5;66;03m# used (rather than .append) in the following line\u001B[39;00m\n\u001B[0;32m    784\u001B[0m     \u001B[38;5;28mself\u001B[39m\u001B[38;5;241m.\u001B[39m_jobs\u001B[38;5;241m.\u001B[39minsert(job_idx, job)\n",
      "File \u001B[1;32m~\\PycharmProjects\\False-Data-Injection-Detection-for-Smart-Grid-Systems\\lib\\site-packages\\joblib\\_parallel_backends.py:208\u001B[0m, in \u001B[0;36mSequentialBackend.apply_async\u001B[1;34m(self, func, callback)\u001B[0m\n\u001B[0;32m    206\u001B[0m \u001B[38;5;28;01mdef\u001B[39;00m \u001B[38;5;21mapply_async\u001B[39m(\u001B[38;5;28mself\u001B[39m, func, callback\u001B[38;5;241m=\u001B[39m\u001B[38;5;28;01mNone\u001B[39;00m):\n\u001B[0;32m    207\u001B[0m     \u001B[38;5;124;03m\"\"\"Schedule a func to be run\"\"\"\u001B[39;00m\n\u001B[1;32m--> 208\u001B[0m     result \u001B[38;5;241m=\u001B[39m \u001B[43mImmediateResult\u001B[49m\u001B[43m(\u001B[49m\u001B[43mfunc\u001B[49m\u001B[43m)\u001B[49m\n\u001B[0;32m    209\u001B[0m     \u001B[38;5;28;01mif\u001B[39;00m callback:\n\u001B[0;32m    210\u001B[0m         callback(result)\n",
      "File \u001B[1;32m~\\PycharmProjects\\False-Data-Injection-Detection-for-Smart-Grid-Systems\\lib\\site-packages\\joblib\\_parallel_backends.py:572\u001B[0m, in \u001B[0;36mImmediateResult.__init__\u001B[1;34m(self, batch)\u001B[0m\n\u001B[0;32m    569\u001B[0m \u001B[38;5;28;01mdef\u001B[39;00m \u001B[38;5;21m__init__\u001B[39m(\u001B[38;5;28mself\u001B[39m, batch):\n\u001B[0;32m    570\u001B[0m     \u001B[38;5;66;03m# Don't delay the application, to avoid keeping the input\u001B[39;00m\n\u001B[0;32m    571\u001B[0m     \u001B[38;5;66;03m# arguments in memory\u001B[39;00m\n\u001B[1;32m--> 572\u001B[0m     \u001B[38;5;28mself\u001B[39m\u001B[38;5;241m.\u001B[39mresults \u001B[38;5;241m=\u001B[39m \u001B[43mbatch\u001B[49m\u001B[43m(\u001B[49m\u001B[43m)\u001B[49m\n",
      "File \u001B[1;32m~\\PycharmProjects\\False-Data-Injection-Detection-for-Smart-Grid-Systems\\lib\\site-packages\\joblib\\parallel.py:262\u001B[0m, in \u001B[0;36mBatchedCalls.__call__\u001B[1;34m(self)\u001B[0m\n\u001B[0;32m    258\u001B[0m \u001B[38;5;28;01mdef\u001B[39;00m \u001B[38;5;21m__call__\u001B[39m(\u001B[38;5;28mself\u001B[39m):\n\u001B[0;32m    259\u001B[0m     \u001B[38;5;66;03m# Set the default nested backend to self._backend but do not set the\u001B[39;00m\n\u001B[0;32m    260\u001B[0m     \u001B[38;5;66;03m# change the default number of processes to -1\u001B[39;00m\n\u001B[0;32m    261\u001B[0m     \u001B[38;5;28;01mwith\u001B[39;00m parallel_backend(\u001B[38;5;28mself\u001B[39m\u001B[38;5;241m.\u001B[39m_backend, n_jobs\u001B[38;5;241m=\u001B[39m\u001B[38;5;28mself\u001B[39m\u001B[38;5;241m.\u001B[39m_n_jobs):\n\u001B[1;32m--> 262\u001B[0m         \u001B[38;5;28;01mreturn\u001B[39;00m [func(\u001B[38;5;241m*\u001B[39margs, \u001B[38;5;241m*\u001B[39m\u001B[38;5;241m*\u001B[39mkwargs)\n\u001B[0;32m    263\u001B[0m                 \u001B[38;5;28;01mfor\u001B[39;00m func, args, kwargs \u001B[38;5;129;01min\u001B[39;00m \u001B[38;5;28mself\u001B[39m\u001B[38;5;241m.\u001B[39mitems]\n",
      "File \u001B[1;32m~\\PycharmProjects\\False-Data-Injection-Detection-for-Smart-Grid-Systems\\lib\\site-packages\\joblib\\parallel.py:262\u001B[0m, in \u001B[0;36m<listcomp>\u001B[1;34m(.0)\u001B[0m\n\u001B[0;32m    258\u001B[0m \u001B[38;5;28;01mdef\u001B[39;00m \u001B[38;5;21m__call__\u001B[39m(\u001B[38;5;28mself\u001B[39m):\n\u001B[0;32m    259\u001B[0m     \u001B[38;5;66;03m# Set the default nested backend to self._backend but do not set the\u001B[39;00m\n\u001B[0;32m    260\u001B[0m     \u001B[38;5;66;03m# change the default number of processes to -1\u001B[39;00m\n\u001B[0;32m    261\u001B[0m     \u001B[38;5;28;01mwith\u001B[39;00m parallel_backend(\u001B[38;5;28mself\u001B[39m\u001B[38;5;241m.\u001B[39m_backend, n_jobs\u001B[38;5;241m=\u001B[39m\u001B[38;5;28mself\u001B[39m\u001B[38;5;241m.\u001B[39m_n_jobs):\n\u001B[1;32m--> 262\u001B[0m         \u001B[38;5;28;01mreturn\u001B[39;00m [func(\u001B[38;5;241m*\u001B[39margs, \u001B[38;5;241m*\u001B[39m\u001B[38;5;241m*\u001B[39mkwargs)\n\u001B[0;32m    263\u001B[0m                 \u001B[38;5;28;01mfor\u001B[39;00m func, args, kwargs \u001B[38;5;129;01min\u001B[39;00m \u001B[38;5;28mself\u001B[39m\u001B[38;5;241m.\u001B[39mitems]\n",
      "File \u001B[1;32m~\\PycharmProjects\\False-Data-Injection-Detection-for-Smart-Grid-Systems\\lib\\site-packages\\sklearn\\utils\\fixes.py:216\u001B[0m, in \u001B[0;36m_FuncWrapper.__call__\u001B[1;34m(self, *args, **kwargs)\u001B[0m\n\u001B[0;32m    214\u001B[0m \u001B[38;5;28;01mdef\u001B[39;00m \u001B[38;5;21m__call__\u001B[39m(\u001B[38;5;28mself\u001B[39m, \u001B[38;5;241m*\u001B[39margs, \u001B[38;5;241m*\u001B[39m\u001B[38;5;241m*\u001B[39mkwargs):\n\u001B[0;32m    215\u001B[0m     \u001B[38;5;28;01mwith\u001B[39;00m config_context(\u001B[38;5;241m*\u001B[39m\u001B[38;5;241m*\u001B[39m\u001B[38;5;28mself\u001B[39m\u001B[38;5;241m.\u001B[39mconfig):\n\u001B[1;32m--> 216\u001B[0m         \u001B[38;5;28;01mreturn\u001B[39;00m \u001B[38;5;28mself\u001B[39m\u001B[38;5;241m.\u001B[39mfunction(\u001B[38;5;241m*\u001B[39margs, \u001B[38;5;241m*\u001B[39m\u001B[38;5;241m*\u001B[39mkwargs)\n",
      "File \u001B[1;32m~\\PycharmProjects\\False-Data-Injection-Detection-for-Smart-Grid-Systems\\lib\\site-packages\\sklearn\\ensemble\\_bagging.py:123\u001B[0m, in \u001B[0;36m_parallel_build_estimators\u001B[1;34m(n_estimators, ensemble, X, y, sample_weight, seeds, total_n_estimators, verbose)\u001B[0m\n\u001B[0;32m    120\u001B[0m         not_indices_mask \u001B[38;5;241m=\u001B[39m \u001B[38;5;241m~\u001B[39mindices_to_mask(indices, n_samples)\n\u001B[0;32m    121\u001B[0m         curr_sample_weight[not_indices_mask] \u001B[38;5;241m=\u001B[39m \u001B[38;5;241m0\u001B[39m\n\u001B[1;32m--> 123\u001B[0m     \u001B[43mestimator\u001B[49m\u001B[38;5;241;43m.\u001B[39;49m\u001B[43mfit\u001B[49m\u001B[43m(\u001B[49m\u001B[43mX\u001B[49m\u001B[43m[\u001B[49m\u001B[43m:\u001B[49m\u001B[43m,\u001B[49m\u001B[43m \u001B[49m\u001B[43mfeatures\u001B[49m\u001B[43m]\u001B[49m\u001B[43m,\u001B[49m\u001B[43m \u001B[49m\u001B[43my\u001B[49m\u001B[43m,\u001B[49m\u001B[43m \u001B[49m\u001B[43msample_weight\u001B[49m\u001B[38;5;241;43m=\u001B[39;49m\u001B[43mcurr_sample_weight\u001B[49m\u001B[43m)\u001B[49m\n\u001B[0;32m    125\u001B[0m \u001B[38;5;28;01melse\u001B[39;00m:\n\u001B[0;32m    126\u001B[0m     estimator\u001B[38;5;241m.\u001B[39mfit((X[indices])[:, features], y[indices])\n",
      "File \u001B[1;32m~\\PycharmProjects\\False-Data-Injection-Detection-for-Smart-Grid-Systems\\lib\\site-packages\\sklearn\\svm\\_base.py:255\u001B[0m, in \u001B[0;36mBaseLibSVM.fit\u001B[1;34m(self, X, y, sample_weight)\u001B[0m\n\u001B[0;32m    252\u001B[0m     \u001B[38;5;28mprint\u001B[39m(\u001B[38;5;124m\"\u001B[39m\u001B[38;5;124m[LibSVM]\u001B[39m\u001B[38;5;124m\"\u001B[39m, end\u001B[38;5;241m=\u001B[39m\u001B[38;5;124m\"\u001B[39m\u001B[38;5;124m\"\u001B[39m)\n\u001B[0;32m    254\u001B[0m seed \u001B[38;5;241m=\u001B[39m rnd\u001B[38;5;241m.\u001B[39mrandint(np\u001B[38;5;241m.\u001B[39miinfo(\u001B[38;5;124m\"\u001B[39m\u001B[38;5;124mi\u001B[39m\u001B[38;5;124m\"\u001B[39m)\u001B[38;5;241m.\u001B[39mmax)\n\u001B[1;32m--> 255\u001B[0m \u001B[43mfit\u001B[49m\u001B[43m(\u001B[49m\u001B[43mX\u001B[49m\u001B[43m,\u001B[49m\u001B[43m \u001B[49m\u001B[43my\u001B[49m\u001B[43m,\u001B[49m\u001B[43m \u001B[49m\u001B[43msample_weight\u001B[49m\u001B[43m,\u001B[49m\u001B[43m \u001B[49m\u001B[43msolver_type\u001B[49m\u001B[43m,\u001B[49m\u001B[43m \u001B[49m\u001B[43mkernel\u001B[49m\u001B[43m,\u001B[49m\u001B[43m \u001B[49m\u001B[43mrandom_seed\u001B[49m\u001B[38;5;241;43m=\u001B[39;49m\u001B[43mseed\u001B[49m\u001B[43m)\u001B[49m\n\u001B[0;32m    256\u001B[0m \u001B[38;5;66;03m# see comment on the other call to np.iinfo in this file\u001B[39;00m\n\u001B[0;32m    258\u001B[0m \u001B[38;5;28mself\u001B[39m\u001B[38;5;241m.\u001B[39mshape_fit_ \u001B[38;5;241m=\u001B[39m X\u001B[38;5;241m.\u001B[39mshape \u001B[38;5;28;01mif\u001B[39;00m \u001B[38;5;28mhasattr\u001B[39m(X, \u001B[38;5;124m\"\u001B[39m\u001B[38;5;124mshape\u001B[39m\u001B[38;5;124m\"\u001B[39m) \u001B[38;5;28;01melse\u001B[39;00m (n_samples,)\n",
      "File \u001B[1;32m~\\PycharmProjects\\False-Data-Injection-Detection-for-Smart-Grid-Systems\\lib\\site-packages\\sklearn\\svm\\_base.py:315\u001B[0m, in \u001B[0;36mBaseLibSVM._dense_fit\u001B[1;34m(self, X, y, sample_weight, solver_type, kernel, random_seed)\u001B[0m\n\u001B[0;32m    302\u001B[0m libsvm\u001B[38;5;241m.\u001B[39mset_verbosity_wrap(\u001B[38;5;28mself\u001B[39m\u001B[38;5;241m.\u001B[39mverbose)\n\u001B[0;32m    304\u001B[0m \u001B[38;5;66;03m# we don't pass **self.get_params() to allow subclasses to\u001B[39;00m\n\u001B[0;32m    305\u001B[0m \u001B[38;5;66;03m# add other parameters to __init__\u001B[39;00m\n\u001B[0;32m    306\u001B[0m (\n\u001B[0;32m    307\u001B[0m     \u001B[38;5;28mself\u001B[39m\u001B[38;5;241m.\u001B[39msupport_,\n\u001B[0;32m    308\u001B[0m     \u001B[38;5;28mself\u001B[39m\u001B[38;5;241m.\u001B[39msupport_vectors_,\n\u001B[0;32m    309\u001B[0m     \u001B[38;5;28mself\u001B[39m\u001B[38;5;241m.\u001B[39m_n_support,\n\u001B[0;32m    310\u001B[0m     \u001B[38;5;28mself\u001B[39m\u001B[38;5;241m.\u001B[39mdual_coef_,\n\u001B[0;32m    311\u001B[0m     \u001B[38;5;28mself\u001B[39m\u001B[38;5;241m.\u001B[39mintercept_,\n\u001B[0;32m    312\u001B[0m     \u001B[38;5;28mself\u001B[39m\u001B[38;5;241m.\u001B[39m_probA,\n\u001B[0;32m    313\u001B[0m     \u001B[38;5;28mself\u001B[39m\u001B[38;5;241m.\u001B[39m_probB,\n\u001B[0;32m    314\u001B[0m     \u001B[38;5;28mself\u001B[39m\u001B[38;5;241m.\u001B[39mfit_status_,\n\u001B[1;32m--> 315\u001B[0m ) \u001B[38;5;241m=\u001B[39m \u001B[43mlibsvm\u001B[49m\u001B[38;5;241;43m.\u001B[39;49m\u001B[43mfit\u001B[49m\u001B[43m(\u001B[49m\n\u001B[0;32m    316\u001B[0m \u001B[43m    \u001B[49m\u001B[43mX\u001B[49m\u001B[43m,\u001B[49m\n\u001B[0;32m    317\u001B[0m \u001B[43m    \u001B[49m\u001B[43my\u001B[49m\u001B[43m,\u001B[49m\n\u001B[0;32m    318\u001B[0m \u001B[43m    \u001B[49m\u001B[43msvm_type\u001B[49m\u001B[38;5;241;43m=\u001B[39;49m\u001B[43msolver_type\u001B[49m\u001B[43m,\u001B[49m\n\u001B[0;32m    319\u001B[0m \u001B[43m    \u001B[49m\u001B[43msample_weight\u001B[49m\u001B[38;5;241;43m=\u001B[39;49m\u001B[43msample_weight\u001B[49m\u001B[43m,\u001B[49m\n\u001B[0;32m    320\u001B[0m \u001B[43m    \u001B[49m\u001B[43mclass_weight\u001B[49m\u001B[38;5;241;43m=\u001B[39;49m\u001B[38;5;28;43mself\u001B[39;49m\u001B[38;5;241;43m.\u001B[39;49m\u001B[43mclass_weight_\u001B[49m\u001B[43m,\u001B[49m\n\u001B[0;32m    321\u001B[0m \u001B[43m    \u001B[49m\u001B[43mkernel\u001B[49m\u001B[38;5;241;43m=\u001B[39;49m\u001B[43mkernel\u001B[49m\u001B[43m,\u001B[49m\n\u001B[0;32m    322\u001B[0m \u001B[43m    \u001B[49m\u001B[43mC\u001B[49m\u001B[38;5;241;43m=\u001B[39;49m\u001B[38;5;28;43mself\u001B[39;49m\u001B[38;5;241;43m.\u001B[39;49m\u001B[43mC\u001B[49m\u001B[43m,\u001B[49m\n\u001B[0;32m    323\u001B[0m \u001B[43m    \u001B[49m\u001B[43mnu\u001B[49m\u001B[38;5;241;43m=\u001B[39;49m\u001B[38;5;28;43mself\u001B[39;49m\u001B[38;5;241;43m.\u001B[39;49m\u001B[43mnu\u001B[49m\u001B[43m,\u001B[49m\n\u001B[0;32m    324\u001B[0m \u001B[43m    \u001B[49m\u001B[43mprobability\u001B[49m\u001B[38;5;241;43m=\u001B[39;49m\u001B[38;5;28;43mself\u001B[39;49m\u001B[38;5;241;43m.\u001B[39;49m\u001B[43mprobability\u001B[49m\u001B[43m,\u001B[49m\n\u001B[0;32m    325\u001B[0m \u001B[43m    \u001B[49m\u001B[43mdegree\u001B[49m\u001B[38;5;241;43m=\u001B[39;49m\u001B[38;5;28;43mself\u001B[39;49m\u001B[38;5;241;43m.\u001B[39;49m\u001B[43mdegree\u001B[49m\u001B[43m,\u001B[49m\n\u001B[0;32m    326\u001B[0m \u001B[43m    \u001B[49m\u001B[43mshrinking\u001B[49m\u001B[38;5;241;43m=\u001B[39;49m\u001B[38;5;28;43mself\u001B[39;49m\u001B[38;5;241;43m.\u001B[39;49m\u001B[43mshrinking\u001B[49m\u001B[43m,\u001B[49m\n\u001B[0;32m    327\u001B[0m \u001B[43m    \u001B[49m\u001B[43mtol\u001B[49m\u001B[38;5;241;43m=\u001B[39;49m\u001B[38;5;28;43mself\u001B[39;49m\u001B[38;5;241;43m.\u001B[39;49m\u001B[43mtol\u001B[49m\u001B[43m,\u001B[49m\n\u001B[0;32m    328\u001B[0m \u001B[43m    \u001B[49m\u001B[43mcache_size\u001B[49m\u001B[38;5;241;43m=\u001B[39;49m\u001B[38;5;28;43mself\u001B[39;49m\u001B[38;5;241;43m.\u001B[39;49m\u001B[43mcache_size\u001B[49m\u001B[43m,\u001B[49m\n\u001B[0;32m    329\u001B[0m \u001B[43m    \u001B[49m\u001B[43mcoef0\u001B[49m\u001B[38;5;241;43m=\u001B[39;49m\u001B[38;5;28;43mself\u001B[39;49m\u001B[38;5;241;43m.\u001B[39;49m\u001B[43mcoef0\u001B[49m\u001B[43m,\u001B[49m\n\u001B[0;32m    330\u001B[0m \u001B[43m    \u001B[49m\u001B[43mgamma\u001B[49m\u001B[38;5;241;43m=\u001B[39;49m\u001B[38;5;28;43mself\u001B[39;49m\u001B[38;5;241;43m.\u001B[39;49m\u001B[43m_gamma\u001B[49m\u001B[43m,\u001B[49m\n\u001B[0;32m    331\u001B[0m \u001B[43m    \u001B[49m\u001B[43mepsilon\u001B[49m\u001B[38;5;241;43m=\u001B[39;49m\u001B[38;5;28;43mself\u001B[39;49m\u001B[38;5;241;43m.\u001B[39;49m\u001B[43mepsilon\u001B[49m\u001B[43m,\u001B[49m\n\u001B[0;32m    332\u001B[0m \u001B[43m    \u001B[49m\u001B[43mmax_iter\u001B[49m\u001B[38;5;241;43m=\u001B[39;49m\u001B[38;5;28;43mself\u001B[39;49m\u001B[38;5;241;43m.\u001B[39;49m\u001B[43mmax_iter\u001B[49m\u001B[43m,\u001B[49m\n\u001B[0;32m    333\u001B[0m \u001B[43m    \u001B[49m\u001B[43mrandom_seed\u001B[49m\u001B[38;5;241;43m=\u001B[39;49m\u001B[43mrandom_seed\u001B[49m\u001B[43m,\u001B[49m\n\u001B[0;32m    334\u001B[0m \u001B[43m\u001B[49m\u001B[43m)\u001B[49m\n\u001B[0;32m    336\u001B[0m \u001B[38;5;28mself\u001B[39m\u001B[38;5;241m.\u001B[39m_warn_from_fit_status()\n",
      "\u001B[1;31mKeyboardInterrupt\u001B[0m: "
     ]
    }
   ],
   "source": [
    "gb = training(train_df, label_train_df, classifier=\"Gradient Boosting\")\n",
    "testing(test_df, label_test_df, gb)\n",
    "\n",
    "bag = training(train_df, label_train_df, classifier=\"Bagging\")\n",
    "testing(test_df, label_test_df, bag)\n",
    "\n"
   ],
   "metadata": {
    "collapsed": false,
    "pycharm": {
     "name": "#%%\n"
    }
   }
  }
 ],
 "metadata": {
  "kernelspec": {
   "display_name": "Python 3",
   "language": "python",
   "name": "python3"
  },
  "language_info": {
   "codemirror_mode": {
    "name": "ipython",
    "version": 2
   },
   "file_extension": ".py",
   "mimetype": "text/x-python",
   "name": "python",
   "nbconvert_exporter": "python",
   "pygments_lexer": "ipython2",
   "version": "2.7.6"
  }
 },
 "nbformat": 4,
 "nbformat_minor": 0
}