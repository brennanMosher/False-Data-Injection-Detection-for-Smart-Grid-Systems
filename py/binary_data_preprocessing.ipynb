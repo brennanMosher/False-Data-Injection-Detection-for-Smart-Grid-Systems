{
 "cells": [
  {
   "cell_type": "code",
   "execution_count": 63,
   "metadata": {
    "collapsed": true
   },
   "outputs": [],
   "source": [
    "import pandas as pd\n",
    "import numpy as np\n",
    "import os"
   ]
  },
  {
   "cell_type": "code",
   "execution_count": 64,
   "outputs": [],
   "source": [
    "data_path = \"../binaryAllNaturalPlusNormalVsAttacks/\"\n",
    "appended_data = []\n",
    "\n",
    "# Create Dataframe from the 14 .csv files\n",
    "for file in os.listdir(data_path):\n",
    "    temp_df = pd.read_csv(data_path + file)\n",
    "    appended_data.append(temp_df)\n",
    "\n",
    "df = pd.concat(appended_data)"
   ],
   "metadata": {
    "collapsed": false,
    "pycharm": {
     "name": "#%%\n"
    }
   }
  },
  {
   "cell_type": "code",
   "execution_count": 65,
   "outputs": [
    {
     "data": {
      "text/plain": "   R1-PA1:VH     R1-PM1:V  R1-PA2:VH     R1-PM2:V   R1-PA3:VH     R1-PM3:V  \\\n0  70.399324  127673.0908 -49.572308  127648.0176 -169.578319  127723.2374   \n1  73.688102  130280.7109 -46.300719  130255.6377 -166.278082  130355.9307   \n2  73.733939  130305.7842 -46.254883  130280.7109 -166.232245  130381.0040   \n3  74.083443  130581.5902 -45.899649  130556.5169 -165.882741  130656.8100   \n4  74.553268  131083.0556 -45.424094  131057.9823 -165.424375  131158.2754   \n\n   R1-PA4:IH   R1-PM4:I  R1-PA5:IH   R1-PM5:I  ...  control_panel_log4  \\\n0  65.689611  605.91099 -57.003571  626.78553  ...                   0   \n1  71.831719  483.59351 -50.947407  500.98896  ...                   0   \n2  71.808800  483.59351 -50.913030  500.98896  ...                   0   \n3  72.152575  482.86107 -50.437475  499.15786  ...                   0   \n4  72.118198  484.50906 -50.013486  497.69298  ...                   0   \n\n   relay1_log  relay2_log  relay3_log  relay4_log  snort_log1  snort_log2  \\\n0           0           0           0           0           0           0   \n1           0           0           0           0           0           0   \n2           0           0           0           0           0           0   \n3           0           0           0           0           0           0   \n4           0           0           0           0           0           0   \n\n   snort_log3  snort_log4   marker  \n0           0           0  Natural  \n1           0           0  Natural  \n2           0           0  Natural  \n3           0           0  Natural  \n4           0           0  Natural  \n\n[5 rows x 129 columns]",
      "text/html": "<div>\n<style scoped>\n    .dataframe tbody tr th:only-of-type {\n        vertical-align: middle;\n    }\n\n    .dataframe tbody tr th {\n        vertical-align: top;\n    }\n\n    .dataframe thead th {\n        text-align: right;\n    }\n</style>\n<table border=\"1\" class=\"dataframe\">\n  <thead>\n    <tr style=\"text-align: right;\">\n      <th></th>\n      <th>R1-PA1:VH</th>\n      <th>R1-PM1:V</th>\n      <th>R1-PA2:VH</th>\n      <th>R1-PM2:V</th>\n      <th>R1-PA3:VH</th>\n      <th>R1-PM3:V</th>\n      <th>R1-PA4:IH</th>\n      <th>R1-PM4:I</th>\n      <th>R1-PA5:IH</th>\n      <th>R1-PM5:I</th>\n      <th>...</th>\n      <th>control_panel_log4</th>\n      <th>relay1_log</th>\n      <th>relay2_log</th>\n      <th>relay3_log</th>\n      <th>relay4_log</th>\n      <th>snort_log1</th>\n      <th>snort_log2</th>\n      <th>snort_log3</th>\n      <th>snort_log4</th>\n      <th>marker</th>\n    </tr>\n  </thead>\n  <tbody>\n    <tr>\n      <th>0</th>\n      <td>70.399324</td>\n      <td>127673.0908</td>\n      <td>-49.572308</td>\n      <td>127648.0176</td>\n      <td>-169.578319</td>\n      <td>127723.2374</td>\n      <td>65.689611</td>\n      <td>605.91099</td>\n      <td>-57.003571</td>\n      <td>626.78553</td>\n      <td>...</td>\n      <td>0</td>\n      <td>0</td>\n      <td>0</td>\n      <td>0</td>\n      <td>0</td>\n      <td>0</td>\n      <td>0</td>\n      <td>0</td>\n      <td>0</td>\n      <td>Natural</td>\n    </tr>\n    <tr>\n      <th>1</th>\n      <td>73.688102</td>\n      <td>130280.7109</td>\n      <td>-46.300719</td>\n      <td>130255.6377</td>\n      <td>-166.278082</td>\n      <td>130355.9307</td>\n      <td>71.831719</td>\n      <td>483.59351</td>\n      <td>-50.947407</td>\n      <td>500.98896</td>\n      <td>...</td>\n      <td>0</td>\n      <td>0</td>\n      <td>0</td>\n      <td>0</td>\n      <td>0</td>\n      <td>0</td>\n      <td>0</td>\n      <td>0</td>\n      <td>0</td>\n      <td>Natural</td>\n    </tr>\n    <tr>\n      <th>2</th>\n      <td>73.733939</td>\n      <td>130305.7842</td>\n      <td>-46.254883</td>\n      <td>130280.7109</td>\n      <td>-166.232245</td>\n      <td>130381.0040</td>\n      <td>71.808800</td>\n      <td>483.59351</td>\n      <td>-50.913030</td>\n      <td>500.98896</td>\n      <td>...</td>\n      <td>0</td>\n      <td>0</td>\n      <td>0</td>\n      <td>0</td>\n      <td>0</td>\n      <td>0</td>\n      <td>0</td>\n      <td>0</td>\n      <td>0</td>\n      <td>Natural</td>\n    </tr>\n    <tr>\n      <th>3</th>\n      <td>74.083443</td>\n      <td>130581.5902</td>\n      <td>-45.899649</td>\n      <td>130556.5169</td>\n      <td>-165.882741</td>\n      <td>130656.8100</td>\n      <td>72.152575</td>\n      <td>482.86107</td>\n      <td>-50.437475</td>\n      <td>499.15786</td>\n      <td>...</td>\n      <td>0</td>\n      <td>0</td>\n      <td>0</td>\n      <td>0</td>\n      <td>0</td>\n      <td>0</td>\n      <td>0</td>\n      <td>0</td>\n      <td>0</td>\n      <td>Natural</td>\n    </tr>\n    <tr>\n      <th>4</th>\n      <td>74.553268</td>\n      <td>131083.0556</td>\n      <td>-45.424094</td>\n      <td>131057.9823</td>\n      <td>-165.424375</td>\n      <td>131158.2754</td>\n      <td>72.118198</td>\n      <td>484.50906</td>\n      <td>-50.013486</td>\n      <td>497.69298</td>\n      <td>...</td>\n      <td>0</td>\n      <td>0</td>\n      <td>0</td>\n      <td>0</td>\n      <td>0</td>\n      <td>0</td>\n      <td>0</td>\n      <td>0</td>\n      <td>0</td>\n      <td>Natural</td>\n    </tr>\n  </tbody>\n</table>\n<p>5 rows × 129 columns</p>\n</div>"
     },
     "execution_count": 65,
     "metadata": {},
     "output_type": "execute_result"
    }
   ],
   "source": [
    "df.head()"
   ],
   "metadata": {
    "collapsed": false,
    "pycharm": {
     "name": "#%%\n"
    }
   }
  },
  {
   "cell_type": "code",
   "execution_count": 66,
   "outputs": [
    {
     "data": {
      "text/plain": "(78377, 129)"
     },
     "execution_count": 66,
     "metadata": {},
     "output_type": "execute_result"
    }
   ],
   "source": [
    "df.shape"
   ],
   "metadata": {
    "collapsed": false,
    "pycharm": {
     "name": "#%%\n"
    }
   }
  },
  {
   "cell_type": "code",
   "execution_count": 67,
   "outputs": [
    {
     "data": {
      "text/plain": "(78377, 129)"
     },
     "execution_count": 67,
     "metadata": {},
     "output_type": "execute_result"
    }
   ],
   "source": [
    "# Remove duplicates\n",
    "df.drop_duplicates()\n",
    "# No actual duplicates just a check\n",
    "df.shape"
   ],
   "metadata": {
    "collapsed": false,
    "pycharm": {
     "name": "#%%\n"
    }
   }
  },
  {
   "cell_type": "code",
   "execution_count": 68,
   "outputs": [
    {
     "data": {
      "text/plain": "2"
     },
     "execution_count": 68,
     "metadata": {},
     "output_type": "execute_result"
    }
   ],
   "source": [
    "# Count unique markers\n",
    "df['marker'].nunique()\n",
    "# Only two markers Attack & Natural\n"
   ],
   "metadata": {
    "collapsed": false,
    "pycharm": {
     "name": "#%%\n"
    }
   }
  }
 ],
 "metadata": {
  "kernelspec": {
   "display_name": "Python 3",
   "language": "python",
   "name": "python3"
  },
  "language_info": {
   "codemirror_mode": {
    "name": "ipython",
    "version": 2
   },
   "file_extension": ".py",
   "mimetype": "text/x-python",
   "name": "python",
   "nbconvert_exporter": "python",
   "pygments_lexer": "ipython2",
   "version": "2.7.6"
  }
 },
 "nbformat": 4,
 "nbformat_minor": 0
}