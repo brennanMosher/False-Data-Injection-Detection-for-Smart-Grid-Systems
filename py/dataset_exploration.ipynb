{
 "cells": [
  {
   "cell_type": "code",
   "execution_count": 2,
   "metadata": {
    "collapsed": true
   },
   "outputs": [],
   "source": [
    "# Simple script to format the dataset in a pandas dataframe for easy visualization\n",
    "# SKlearn is compatible with pandas so can be simple to use\n",
    "# Pandas also provides additional tools for splicing or utilizing data that lists do not"
   ]
  },
  {
   "cell_type": "code",
   "execution_count": 39,
   "outputs": [],
   "source": [
    "import pandas as pd\n",
    "import numpy as np\n",
    "from sklearn.model_selection import train_test_split\n",
    "from sklearn.svm import SVC\n",
    "from sklearn.metrics import classification_report, confusion_matrix\n",
    "from sklearn.tree import DecisionTreeClassifier\n",
    "from sklearn.ensemble import RandomForestClassifier\n",
    "from sklearn.linear_model import LogisticRegression\n",
    "from sklearn.naive_bayes import GaussianNB\n",
    "from sklearn.neighbors import KNeighborsClassifier\n",
    "from sklearn.ensemble import AdaBoostClassifier\n",
    "from sklearn.ensemble import GradientBoostingClassifier\n",
    "from sklearn.ensemble import BaggingClassifier"
   ],
   "metadata": {
    "collapsed": false,
    "pycharm": {
     "name": "#%%\n"
    }
   }
  },
  {
   "cell_type": "code",
   "execution_count": 4,
   "outputs": [],
   "source": [
    "# Read the original dataset\n",
    "data_path = \"../dataset/Original/data_injection_and_normal_events_dataset.csv\"\n",
    "df = pd.read_csv(data_path)\n"
   ],
   "metadata": {
    "collapsed": false,
    "pycharm": {
     "name": "#%%\n"
    }
   }
  },
  {
   "cell_type": "code",
   "execution_count": 5,
   "outputs": [
    {
     "data": {
      "text/plain": "   R1-PA1:VH     R1-PM1:V  R1-PA2:VH     R1-PM2:V   R1-PA3:VH     R1-PM3:V  \\\n0  90.578898  130456.2238 -29.415653  129804.3188 -149.410204  130506.3704   \n1  90.573168  130506.3704 -29.421383  129854.4653 -149.410204  130556.5169   \n2  90.504413  130807.2496 -29.472949  130180.4178 -149.467500  130857.3961   \n3  90.429929  130932.6159 -29.553163  130330.8575 -149.536255  131007.8358   \n4  90.378363  130982.7625 -29.610459  130355.9307 -149.599280  131057.9823   \n\n   R1-PA4:IH   R1-PM4:I  R1-PA5:IH   R1-PM5:I  ...  control_panel_log4  \\\n0  88.986075  471.50825 -33.644082  486.15705  ...                   0   \n1  88.951698  471.50825 -33.644082  485.79083  ...                   0   \n2  88.367281  473.70557 -33.781592  484.69217  ...                   0   \n3  87.782864  476.26911 -33.970668  485.05839  ...                   0   \n4  87.433360  477.73399 -34.068071  485.24150  ...                   0   \n\n   relay1_log  relay2_log  relay3_log  relay4_log  snort_log1  snort_log2  \\\n0           0           0           0           0           0           0   \n1           0           0           0           0           0           0   \n2           0           0           0           0           0           0   \n3           0           0           0           0           0           0   \n4           0           0           0           0           0           0   \n\n   snort_log3  snort_log4  marker  \n0           0           0       1  \n1           0           0       1  \n2           0           0       1  \n3           0           0       1  \n4           0           0       1  \n\n[5 rows x 129 columns]",
      "text/html": "<div>\n<style scoped>\n    .dataframe tbody tr th:only-of-type {\n        vertical-align: middle;\n    }\n\n    .dataframe tbody tr th {\n        vertical-align: top;\n    }\n\n    .dataframe thead th {\n        text-align: right;\n    }\n</style>\n<table border=\"1\" class=\"dataframe\">\n  <thead>\n    <tr style=\"text-align: right;\">\n      <th></th>\n      <th>R1-PA1:VH</th>\n      <th>R1-PM1:V</th>\n      <th>R1-PA2:VH</th>\n      <th>R1-PM2:V</th>\n      <th>R1-PA3:VH</th>\n      <th>R1-PM3:V</th>\n      <th>R1-PA4:IH</th>\n      <th>R1-PM4:I</th>\n      <th>R1-PA5:IH</th>\n      <th>R1-PM5:I</th>\n      <th>...</th>\n      <th>control_panel_log4</th>\n      <th>relay1_log</th>\n      <th>relay2_log</th>\n      <th>relay3_log</th>\n      <th>relay4_log</th>\n      <th>snort_log1</th>\n      <th>snort_log2</th>\n      <th>snort_log3</th>\n      <th>snort_log4</th>\n      <th>marker</th>\n    </tr>\n  </thead>\n  <tbody>\n    <tr>\n      <th>0</th>\n      <td>90.578898</td>\n      <td>130456.2238</td>\n      <td>-29.415653</td>\n      <td>129804.3188</td>\n      <td>-149.410204</td>\n      <td>130506.3704</td>\n      <td>88.986075</td>\n      <td>471.50825</td>\n      <td>-33.644082</td>\n      <td>486.15705</td>\n      <td>...</td>\n      <td>0</td>\n      <td>0</td>\n      <td>0</td>\n      <td>0</td>\n      <td>0</td>\n      <td>0</td>\n      <td>0</td>\n      <td>0</td>\n      <td>0</td>\n      <td>1</td>\n    </tr>\n    <tr>\n      <th>1</th>\n      <td>90.573168</td>\n      <td>130506.3704</td>\n      <td>-29.421383</td>\n      <td>129854.4653</td>\n      <td>-149.410204</td>\n      <td>130556.5169</td>\n      <td>88.951698</td>\n      <td>471.50825</td>\n      <td>-33.644082</td>\n      <td>485.79083</td>\n      <td>...</td>\n      <td>0</td>\n      <td>0</td>\n      <td>0</td>\n      <td>0</td>\n      <td>0</td>\n      <td>0</td>\n      <td>0</td>\n      <td>0</td>\n      <td>0</td>\n      <td>1</td>\n    </tr>\n    <tr>\n      <th>2</th>\n      <td>90.504413</td>\n      <td>130807.2496</td>\n      <td>-29.472949</td>\n      <td>130180.4178</td>\n      <td>-149.467500</td>\n      <td>130857.3961</td>\n      <td>88.367281</td>\n      <td>473.70557</td>\n      <td>-33.781592</td>\n      <td>484.69217</td>\n      <td>...</td>\n      <td>0</td>\n      <td>0</td>\n      <td>0</td>\n      <td>0</td>\n      <td>0</td>\n      <td>0</td>\n      <td>0</td>\n      <td>0</td>\n      <td>0</td>\n      <td>1</td>\n    </tr>\n    <tr>\n      <th>3</th>\n      <td>90.429929</td>\n      <td>130932.6159</td>\n      <td>-29.553163</td>\n      <td>130330.8575</td>\n      <td>-149.536255</td>\n      <td>131007.8358</td>\n      <td>87.782864</td>\n      <td>476.26911</td>\n      <td>-33.970668</td>\n      <td>485.05839</td>\n      <td>...</td>\n      <td>0</td>\n      <td>0</td>\n      <td>0</td>\n      <td>0</td>\n      <td>0</td>\n      <td>0</td>\n      <td>0</td>\n      <td>0</td>\n      <td>0</td>\n      <td>1</td>\n    </tr>\n    <tr>\n      <th>4</th>\n      <td>90.378363</td>\n      <td>130982.7625</td>\n      <td>-29.610459</td>\n      <td>130355.9307</td>\n      <td>-149.599280</td>\n      <td>131057.9823</td>\n      <td>87.433360</td>\n      <td>477.73399</td>\n      <td>-34.068071</td>\n      <td>485.24150</td>\n      <td>...</td>\n      <td>0</td>\n      <td>0</td>\n      <td>0</td>\n      <td>0</td>\n      <td>0</td>\n      <td>0</td>\n      <td>0</td>\n      <td>0</td>\n      <td>0</td>\n      <td>1</td>\n    </tr>\n  </tbody>\n</table>\n<p>5 rows × 129 columns</p>\n</div>"
     },
     "execution_count": 5,
     "metadata": {},
     "output_type": "execute_result"
    }
   ],
   "source": [
    "# Print out the dataframe in viewable format\n",
    "df.head()"
   ],
   "metadata": {
    "collapsed": false,
    "pycharm": {
     "name": "#%%\n"
    }
   }
  },
  {
   "cell_type": "code",
   "execution_count": 6,
   "outputs": [
    {
     "data": {
      "text/plain": "(32296, 129)"
     },
     "execution_count": 6,
     "metadata": {},
     "output_type": "execute_result"
    }
   ],
   "source": [
    "df.shape # (Number of sample, Number of features)\n"
   ],
   "metadata": {
    "collapsed": false,
    "pycharm": {
     "name": "#%%\n"
    }
   }
  },
  {
   "cell_type": "code",
   "execution_count": 7,
   "outputs": [],
   "source": [
    "# inf values in dataset cause issue with sklearn\n",
    "# Replace with zero\n",
    "df.replace([np.inf, -np.inf], 0, inplace=True)"
   ],
   "metadata": {
    "collapsed": false,
    "pycharm": {
     "name": "#%%\n"
    }
   }
  },
  {
   "cell_type": "code",
   "execution_count": 8,
   "outputs": [],
   "source": [
    "# Split into attack and natural to check size\n",
    "df_attack =  df[df.marker == 1]\n",
    "\n",
    "df_natural = df[df.marker == 0]"
   ],
   "metadata": {
    "collapsed": false,
    "pycharm": {
     "name": "#%%\n"
    }
   }
  },
  {
   "cell_type": "code",
   "execution_count": 9,
   "outputs": [
    {
     "data": {
      "text/plain": "   R1-PA1:VH     R1-PM1:V  R1-PA2:VH     R1-PM2:V   R1-PA3:VH     R1-PM3:V  \\\n0  90.578898  130456.2238 -29.415653  129804.3188 -149.410204  130506.3704   \n1  90.573168  130506.3704 -29.421383  129854.4653 -149.410204  130556.5169   \n2  90.504413  130807.2496 -29.472949  130180.4178 -149.467500  130857.3961   \n3  90.429929  130932.6159 -29.553163  130330.8575 -149.536255  131007.8358   \n4  90.378363  130982.7625 -29.610459  130355.9307 -149.599280  131057.9823   \n\n   R1-PA4:IH   R1-PM4:I  R1-PA5:IH   R1-PM5:I  ...  control_panel_log4  \\\n0  88.986075  471.50825 -33.644082  486.15705  ...                   0   \n1  88.951698  471.50825 -33.644082  485.79083  ...                   0   \n2  88.367281  473.70557 -33.781592  484.69217  ...                   0   \n3  87.782864  476.26911 -33.970668  485.05839  ...                   0   \n4  87.433360  477.73399 -34.068071  485.24150  ...                   0   \n\n   relay1_log  relay2_log  relay3_log  relay4_log  snort_log1  snort_log2  \\\n0           0           0           0           0           0           0   \n1           0           0           0           0           0           0   \n2           0           0           0           0           0           0   \n3           0           0           0           0           0           0   \n4           0           0           0           0           0           0   \n\n   snort_log3  snort_log4  marker  \n0           0           0       1  \n1           0           0       1  \n2           0           0       1  \n3           0           0       1  \n4           0           0       1  \n\n[5 rows x 129 columns]",
      "text/html": "<div>\n<style scoped>\n    .dataframe tbody tr th:only-of-type {\n        vertical-align: middle;\n    }\n\n    .dataframe tbody tr th {\n        vertical-align: top;\n    }\n\n    .dataframe thead th {\n        text-align: right;\n    }\n</style>\n<table border=\"1\" class=\"dataframe\">\n  <thead>\n    <tr style=\"text-align: right;\">\n      <th></th>\n      <th>R1-PA1:VH</th>\n      <th>R1-PM1:V</th>\n      <th>R1-PA2:VH</th>\n      <th>R1-PM2:V</th>\n      <th>R1-PA3:VH</th>\n      <th>R1-PM3:V</th>\n      <th>R1-PA4:IH</th>\n      <th>R1-PM4:I</th>\n      <th>R1-PA5:IH</th>\n      <th>R1-PM5:I</th>\n      <th>...</th>\n      <th>control_panel_log4</th>\n      <th>relay1_log</th>\n      <th>relay2_log</th>\n      <th>relay3_log</th>\n      <th>relay4_log</th>\n      <th>snort_log1</th>\n      <th>snort_log2</th>\n      <th>snort_log3</th>\n      <th>snort_log4</th>\n      <th>marker</th>\n    </tr>\n  </thead>\n  <tbody>\n    <tr>\n      <th>0</th>\n      <td>90.578898</td>\n      <td>130456.2238</td>\n      <td>-29.415653</td>\n      <td>129804.3188</td>\n      <td>-149.410204</td>\n      <td>130506.3704</td>\n      <td>88.986075</td>\n      <td>471.50825</td>\n      <td>-33.644082</td>\n      <td>486.15705</td>\n      <td>...</td>\n      <td>0</td>\n      <td>0</td>\n      <td>0</td>\n      <td>0</td>\n      <td>0</td>\n      <td>0</td>\n      <td>0</td>\n      <td>0</td>\n      <td>0</td>\n      <td>1</td>\n    </tr>\n    <tr>\n      <th>1</th>\n      <td>90.573168</td>\n      <td>130506.3704</td>\n      <td>-29.421383</td>\n      <td>129854.4653</td>\n      <td>-149.410204</td>\n      <td>130556.5169</td>\n      <td>88.951698</td>\n      <td>471.50825</td>\n      <td>-33.644082</td>\n      <td>485.79083</td>\n      <td>...</td>\n      <td>0</td>\n      <td>0</td>\n      <td>0</td>\n      <td>0</td>\n      <td>0</td>\n      <td>0</td>\n      <td>0</td>\n      <td>0</td>\n      <td>0</td>\n      <td>1</td>\n    </tr>\n    <tr>\n      <th>2</th>\n      <td>90.504413</td>\n      <td>130807.2496</td>\n      <td>-29.472949</td>\n      <td>130180.4178</td>\n      <td>-149.467500</td>\n      <td>130857.3961</td>\n      <td>88.367281</td>\n      <td>473.70557</td>\n      <td>-33.781592</td>\n      <td>484.69217</td>\n      <td>...</td>\n      <td>0</td>\n      <td>0</td>\n      <td>0</td>\n      <td>0</td>\n      <td>0</td>\n      <td>0</td>\n      <td>0</td>\n      <td>0</td>\n      <td>0</td>\n      <td>1</td>\n    </tr>\n    <tr>\n      <th>3</th>\n      <td>90.429929</td>\n      <td>130932.6159</td>\n      <td>-29.553163</td>\n      <td>130330.8575</td>\n      <td>-149.536255</td>\n      <td>131007.8358</td>\n      <td>87.782864</td>\n      <td>476.26911</td>\n      <td>-33.970668</td>\n      <td>485.05839</td>\n      <td>...</td>\n      <td>0</td>\n      <td>0</td>\n      <td>0</td>\n      <td>0</td>\n      <td>0</td>\n      <td>0</td>\n      <td>0</td>\n      <td>0</td>\n      <td>0</td>\n      <td>1</td>\n    </tr>\n    <tr>\n      <th>4</th>\n      <td>90.378363</td>\n      <td>130982.7625</td>\n      <td>-29.610459</td>\n      <td>130355.9307</td>\n      <td>-149.599280</td>\n      <td>131057.9823</td>\n      <td>87.433360</td>\n      <td>477.73399</td>\n      <td>-34.068071</td>\n      <td>485.24150</td>\n      <td>...</td>\n      <td>0</td>\n      <td>0</td>\n      <td>0</td>\n      <td>0</td>\n      <td>0</td>\n      <td>0</td>\n      <td>0</td>\n      <td>0</td>\n      <td>0</td>\n      <td>1</td>\n    </tr>\n  </tbody>\n</table>\n<p>5 rows × 129 columns</p>\n</div>"
     },
     "execution_count": 9,
     "metadata": {},
     "output_type": "execute_result"
    }
   ],
   "source": [
    "df_attack.head()"
   ],
   "metadata": {
    "collapsed": false,
    "pycharm": {
     "name": "#%%\n"
    }
   }
  },
  {
   "cell_type": "code",
   "execution_count": 10,
   "outputs": [
    {
     "data": {
      "text/plain": "(9582, 129)"
     },
     "execution_count": 10,
     "metadata": {},
     "output_type": "execute_result"
    }
   ],
   "source": [
    "df_attack.shape"
   ],
   "metadata": {
    "collapsed": false,
    "pycharm": {
     "name": "#%%\n"
    }
   }
  },
  {
   "cell_type": "code",
   "execution_count": 11,
   "outputs": [
    {
     "data": {
      "text/plain": "       R1-PA1:VH     R1-PM1:V   R1-PA2:VH     R1-PM2:V  R1-PA3:VH  \\\n9582 -139.612626  131885.4002  100.410854  131835.2537 -19.572238   \n9583 -140.174125  131383.9348   99.855085  131358.8615 -20.133737   \n9584 -140.603843  131057.9823   99.419637  131007.8358 -20.574914   \n9585 -140.684057  130982.7625   99.322234  130932.6159 -20.660858   \n9586 -141.990401  130130.2713   98.033079  130105.1980 -21.961472   \n\n         R1-PM3:V   R1-PA4:IH   R1-PM4:I  R1-PA5:IH   R1-PM5:I  ...  \\\n9582  131960.6200 -137.767702  430.49161  96.153777  462.71897  ...   \n9583  131459.1546 -138.655786  433.23826  95.506335  464.18385  ...   \n9584  131133.2021 -139.194367  435.06936  95.185479  465.28251  ...   \n9585  131057.9823 -139.383443  436.16802  95.145371  465.64873  ...   \n9586  130205.4911 -141.320040  442.21065  94.131236  466.74739  ...   \n\n      control_panel_log4  relay1_log  relay2_log  relay3_log  relay4_log  \\\n9582                   0           0           0           0           0   \n9583                   0           0           0           0           0   \n9584                   0           0           0           0           0   \n9585                   0           0           0           0           0   \n9586                   0           0           0           0           0   \n\n      snort_log1  snort_log2  snort_log3  snort_log4  marker  \n9582           0           0           0           0       0  \n9583           0           0           0           0       0  \n9584           0           0           0           0       0  \n9585           0           0           0           0       0  \n9586           0           0           0           0       0  \n\n[5 rows x 129 columns]",
      "text/html": "<div>\n<style scoped>\n    .dataframe tbody tr th:only-of-type {\n        vertical-align: middle;\n    }\n\n    .dataframe tbody tr th {\n        vertical-align: top;\n    }\n\n    .dataframe thead th {\n        text-align: right;\n    }\n</style>\n<table border=\"1\" class=\"dataframe\">\n  <thead>\n    <tr style=\"text-align: right;\">\n      <th></th>\n      <th>R1-PA1:VH</th>\n      <th>R1-PM1:V</th>\n      <th>R1-PA2:VH</th>\n      <th>R1-PM2:V</th>\n      <th>R1-PA3:VH</th>\n      <th>R1-PM3:V</th>\n      <th>R1-PA4:IH</th>\n      <th>R1-PM4:I</th>\n      <th>R1-PA5:IH</th>\n      <th>R1-PM5:I</th>\n      <th>...</th>\n      <th>control_panel_log4</th>\n      <th>relay1_log</th>\n      <th>relay2_log</th>\n      <th>relay3_log</th>\n      <th>relay4_log</th>\n      <th>snort_log1</th>\n      <th>snort_log2</th>\n      <th>snort_log3</th>\n      <th>snort_log4</th>\n      <th>marker</th>\n    </tr>\n  </thead>\n  <tbody>\n    <tr>\n      <th>9582</th>\n      <td>-139.612626</td>\n      <td>131885.4002</td>\n      <td>100.410854</td>\n      <td>131835.2537</td>\n      <td>-19.572238</td>\n      <td>131960.6200</td>\n      <td>-137.767702</td>\n      <td>430.49161</td>\n      <td>96.153777</td>\n      <td>462.71897</td>\n      <td>...</td>\n      <td>0</td>\n      <td>0</td>\n      <td>0</td>\n      <td>0</td>\n      <td>0</td>\n      <td>0</td>\n      <td>0</td>\n      <td>0</td>\n      <td>0</td>\n      <td>0</td>\n    </tr>\n    <tr>\n      <th>9583</th>\n      <td>-140.174125</td>\n      <td>131383.9348</td>\n      <td>99.855085</td>\n      <td>131358.8615</td>\n      <td>-20.133737</td>\n      <td>131459.1546</td>\n      <td>-138.655786</td>\n      <td>433.23826</td>\n      <td>95.506335</td>\n      <td>464.18385</td>\n      <td>...</td>\n      <td>0</td>\n      <td>0</td>\n      <td>0</td>\n      <td>0</td>\n      <td>0</td>\n      <td>0</td>\n      <td>0</td>\n      <td>0</td>\n      <td>0</td>\n      <td>0</td>\n    </tr>\n    <tr>\n      <th>9584</th>\n      <td>-140.603843</td>\n      <td>131057.9823</td>\n      <td>99.419637</td>\n      <td>131007.8358</td>\n      <td>-20.574914</td>\n      <td>131133.2021</td>\n      <td>-139.194367</td>\n      <td>435.06936</td>\n      <td>95.185479</td>\n      <td>465.28251</td>\n      <td>...</td>\n      <td>0</td>\n      <td>0</td>\n      <td>0</td>\n      <td>0</td>\n      <td>0</td>\n      <td>0</td>\n      <td>0</td>\n      <td>0</td>\n      <td>0</td>\n      <td>0</td>\n    </tr>\n    <tr>\n      <th>9585</th>\n      <td>-140.684057</td>\n      <td>130982.7625</td>\n      <td>99.322234</td>\n      <td>130932.6159</td>\n      <td>-20.660858</td>\n      <td>131057.9823</td>\n      <td>-139.383443</td>\n      <td>436.16802</td>\n      <td>95.145371</td>\n      <td>465.64873</td>\n      <td>...</td>\n      <td>0</td>\n      <td>0</td>\n      <td>0</td>\n      <td>0</td>\n      <td>0</td>\n      <td>0</td>\n      <td>0</td>\n      <td>0</td>\n      <td>0</td>\n      <td>0</td>\n    </tr>\n    <tr>\n      <th>9586</th>\n      <td>-141.990401</td>\n      <td>130130.2713</td>\n      <td>98.033079</td>\n      <td>130105.1980</td>\n      <td>-21.961472</td>\n      <td>130205.4911</td>\n      <td>-141.320040</td>\n      <td>442.21065</td>\n      <td>94.131236</td>\n      <td>466.74739</td>\n      <td>...</td>\n      <td>0</td>\n      <td>0</td>\n      <td>0</td>\n      <td>0</td>\n      <td>0</td>\n      <td>0</td>\n      <td>0</td>\n      <td>0</td>\n      <td>0</td>\n      <td>0</td>\n    </tr>\n  </tbody>\n</table>\n<p>5 rows × 129 columns</p>\n</div>"
     },
     "execution_count": 11,
     "metadata": {},
     "output_type": "execute_result"
    }
   ],
   "source": [
    "df_natural.head()"
   ],
   "metadata": {
    "collapsed": false,
    "pycharm": {
     "name": "#%%\n"
    }
   }
  },
  {
   "cell_type": "code",
   "execution_count": 12,
   "outputs": [
    {
     "data": {
      "text/plain": "(22714, 129)"
     },
     "execution_count": 12,
     "metadata": {},
     "output_type": "execute_result"
    }
   ],
   "source": [
    "df_natural.shape"
   ],
   "metadata": {
    "collapsed": false,
    "pycharm": {
     "name": "#%%\n"
    }
   }
  },
  {
   "cell_type": "code",
   "execution_count": 13,
   "outputs": [],
   "source": [
    "# Split original dataset into training/testing\n",
    "train_df, test_df = train_test_split(df, test_size=0.3) # 70/30 split"
   ],
   "metadata": {
    "collapsed": false,
    "pycharm": {
     "name": "#%%\n"
    }
   }
  },
  {
   "cell_type": "code",
   "execution_count": 14,
   "outputs": [
    {
     "data": {
      "text/plain": "(22607, 129)"
     },
     "execution_count": 14,
     "metadata": {},
     "output_type": "execute_result"
    }
   ],
   "source": [
    "train_df.shape"
   ],
   "metadata": {
    "collapsed": false,
    "pycharm": {
     "name": "#%%\n"
    }
   }
  },
  {
   "cell_type": "code",
   "execution_count": 15,
   "outputs": [
    {
     "data": {
      "text/plain": "(9689, 129)"
     },
     "execution_count": 15,
     "metadata": {},
     "output_type": "execute_result"
    }
   ],
   "source": [
    "test_df.shape"
   ],
   "metadata": {
    "collapsed": false,
    "pycharm": {
     "name": "#%%\n"
    }
   }
  },
  {
   "cell_type": "code",
   "execution_count": 16,
   "outputs": [],
   "source": [
    "# Check for types in dataframe to be compatible with SKlearn\n",
    "for column in train_df:\n",
    "    if df[column].dtype != 'int64' and df[column].dtype != 'float64':\n",
    "        print(column)\n"
   ],
   "metadata": {
    "collapsed": false,
    "pycharm": {
     "name": "#%%\n"
    }
   }
  },
  {
   "cell_type": "code",
   "execution_count": 17,
   "outputs": [],
   "source": [
    "# Break off the last column to act as the label for ML models\n",
    "# There is probably a built in pandas function to do this more elegantly\n",
    "\n",
    "label_train_df = train_df['marker']\n",
    "train_df.drop('marker', axis=1, inplace=True)"
   ],
   "metadata": {
    "collapsed": false,
    "pycharm": {
     "name": "#%%\n"
    }
   }
  },
  {
   "cell_type": "code",
   "execution_count": 18,
   "outputs": [
    {
     "data": {
      "text/plain": "        R1-PA1:VH     R1-PM1:V   R1-PA2:VH     R1-PM2:V   R1-PA3:VH  \\\n25305  -38.955400  132712.8181 -158.949952  132060.9131   81.073528   \n660     75.888260  131133.2021  -44.094832  130506.3704 -164.089383   \n2573    37.225068  132386.8656  -82.769483  131734.9606  157.236808   \n27285  -56.992112  130130.2713 -176.963745  130130.2713   63.048276   \n25377 -150.825410  131383.9348   89.209529  131383.9348  -30.785022   \n\n          R1-PM3:V   R1-PA4:IH   R1-PM4:I   R1-PA5:IH   R1-PM5:I  ...  \\\n25305  132762.9647  -37.225068  285.65160 -158.073326  289.13069  ...   \n660    131183.3486   72.811477  463.63452  -48.311801  468.76160  ...   \n2573   132437.0121   38.817891  261.48108  -80.729753  260.74864  ...   \n27285  130205.4911  -59.157892  469.86026 -178.350303  466.93050  ...   \n25377  131484.2279 -153.575607  419.32190   86.631219  420.60367  ...   \n\n       control_panel_log3  control_panel_log4  relay1_log  relay2_log  \\\n25305                   0                   0           0           0   \n660                     0                   0           0           0   \n2573                    0                   0           0           0   \n27285                   0                   0           0           0   \n25377                   0                   0           0           0   \n\n       relay3_log  relay4_log  snort_log1  snort_log2  snort_log3  snort_log4  \n25305           0           0           0           0           0           0  \n660             0           0           0           0           0           0  \n2573            0           0           0           0           0           0  \n27285           0           0           0           0           0           0  \n25377           0           0           0           0           0           0  \n\n[5 rows x 128 columns]",
      "text/html": "<div>\n<style scoped>\n    .dataframe tbody tr th:only-of-type {\n        vertical-align: middle;\n    }\n\n    .dataframe tbody tr th {\n        vertical-align: top;\n    }\n\n    .dataframe thead th {\n        text-align: right;\n    }\n</style>\n<table border=\"1\" class=\"dataframe\">\n  <thead>\n    <tr style=\"text-align: right;\">\n      <th></th>\n      <th>R1-PA1:VH</th>\n      <th>R1-PM1:V</th>\n      <th>R1-PA2:VH</th>\n      <th>R1-PM2:V</th>\n      <th>R1-PA3:VH</th>\n      <th>R1-PM3:V</th>\n      <th>R1-PA4:IH</th>\n      <th>R1-PM4:I</th>\n      <th>R1-PA5:IH</th>\n      <th>R1-PM5:I</th>\n      <th>...</th>\n      <th>control_panel_log3</th>\n      <th>control_panel_log4</th>\n      <th>relay1_log</th>\n      <th>relay2_log</th>\n      <th>relay3_log</th>\n      <th>relay4_log</th>\n      <th>snort_log1</th>\n      <th>snort_log2</th>\n      <th>snort_log3</th>\n      <th>snort_log4</th>\n    </tr>\n  </thead>\n  <tbody>\n    <tr>\n      <th>25305</th>\n      <td>-38.955400</td>\n      <td>132712.8181</td>\n      <td>-158.949952</td>\n      <td>132060.9131</td>\n      <td>81.073528</td>\n      <td>132762.9647</td>\n      <td>-37.225068</td>\n      <td>285.65160</td>\n      <td>-158.073326</td>\n      <td>289.13069</td>\n      <td>...</td>\n      <td>0</td>\n      <td>0</td>\n      <td>0</td>\n      <td>0</td>\n      <td>0</td>\n      <td>0</td>\n      <td>0</td>\n      <td>0</td>\n      <td>0</td>\n      <td>0</td>\n    </tr>\n    <tr>\n      <th>660</th>\n      <td>75.888260</td>\n      <td>131133.2021</td>\n      <td>-44.094832</td>\n      <td>130506.3704</td>\n      <td>-164.089383</td>\n      <td>131183.3486</td>\n      <td>72.811477</td>\n      <td>463.63452</td>\n      <td>-48.311801</td>\n      <td>468.76160</td>\n      <td>...</td>\n      <td>0</td>\n      <td>0</td>\n      <td>0</td>\n      <td>0</td>\n      <td>0</td>\n      <td>0</td>\n      <td>0</td>\n      <td>0</td>\n      <td>0</td>\n      <td>0</td>\n    </tr>\n    <tr>\n      <th>2573</th>\n      <td>37.225068</td>\n      <td>132386.8656</td>\n      <td>-82.769483</td>\n      <td>131734.9606</td>\n      <td>157.236808</td>\n      <td>132437.0121</td>\n      <td>38.817891</td>\n      <td>261.48108</td>\n      <td>-80.729753</td>\n      <td>260.74864</td>\n      <td>...</td>\n      <td>0</td>\n      <td>0</td>\n      <td>0</td>\n      <td>0</td>\n      <td>0</td>\n      <td>0</td>\n      <td>0</td>\n      <td>0</td>\n      <td>0</td>\n      <td>0</td>\n    </tr>\n    <tr>\n      <th>27285</th>\n      <td>-56.992112</td>\n      <td>130130.2713</td>\n      <td>-176.963745</td>\n      <td>130130.2713</td>\n      <td>63.048276</td>\n      <td>130205.4911</td>\n      <td>-59.157892</td>\n      <td>469.86026</td>\n      <td>-178.350303</td>\n      <td>466.93050</td>\n      <td>...</td>\n      <td>0</td>\n      <td>0</td>\n      <td>0</td>\n      <td>0</td>\n      <td>0</td>\n      <td>0</td>\n      <td>0</td>\n      <td>0</td>\n      <td>0</td>\n      <td>0</td>\n    </tr>\n    <tr>\n      <th>25377</th>\n      <td>-150.825410</td>\n      <td>131383.9348</td>\n      <td>89.209529</td>\n      <td>131383.9348</td>\n      <td>-30.785022</td>\n      <td>131484.2279</td>\n      <td>-153.575607</td>\n      <td>419.32190</td>\n      <td>86.631219</td>\n      <td>420.60367</td>\n      <td>...</td>\n      <td>0</td>\n      <td>0</td>\n      <td>0</td>\n      <td>0</td>\n      <td>0</td>\n      <td>0</td>\n      <td>0</td>\n      <td>0</td>\n      <td>0</td>\n      <td>0</td>\n    </tr>\n  </tbody>\n</table>\n<p>5 rows × 128 columns</p>\n</div>"
     },
     "execution_count": 18,
     "metadata": {},
     "output_type": "execute_result"
    }
   ],
   "source": [
    "train_df.head()"
   ],
   "metadata": {
    "collapsed": false,
    "pycharm": {
     "name": "#%%\n"
    }
   }
  },
  {
   "cell_type": "code",
   "execution_count": 19,
   "outputs": [
    {
     "data": {
      "text/plain": "(22607,)"
     },
     "execution_count": 19,
     "metadata": {},
     "output_type": "execute_result"
    }
   ],
   "source": [
    "label_train_df.shape"
   ],
   "metadata": {
    "collapsed": false,
    "pycharm": {
     "name": "#%%\n"
    }
   }
  },
  {
   "cell_type": "code",
   "execution_count": 20,
   "outputs": [],
   "source": [
    "test_labels = test_df['marker']\n",
    "test_df.drop('marker', axis=1, inplace=True)"
   ],
   "metadata": {
    "collapsed": false,
    "pycharm": {
     "name": "#%%\n"
    }
   }
  },
  {
   "cell_type": "code",
   "execution_count": 21,
   "outputs": [
    {
     "name": "stdout",
     "output_type": "stream",
     "text": [
      "              precision    recall  f1-score   support\n",
      "\n",
      "           0       0.91      0.97      0.94      6794\n",
      "           1       0.92      0.76      0.84      2895\n",
      "\n",
      "    accuracy                           0.91      9689\n",
      "   macro avg       0.92      0.87      0.89      9689\n",
      "weighted avg       0.91      0.91      0.91      9689\n",
      "\n"
     ]
    }
   ],
   "source": [
    "rf_classifier = RandomForestClassifier()\n",
    "rf_classifier.fit(train_df, label_train_df)\n",
    "\n",
    "model_prediction = rf_classifier.predict(test_df)\n",
    "\n",
    "print(classification_report(test_labels, model_prediction))"
   ],
   "metadata": {
    "collapsed": false,
    "pycharm": {
     "name": "#%%\n"
    }
   }
  },
  {
   "cell_type": "code",
   "execution_count": 22,
   "outputs": [
    {
     "name": "stdout",
     "output_type": "stream",
     "text": [
      "              precision    recall  f1-score   support\n",
      "\n",
      "           0       0.70      0.98      0.82      6794\n",
      "           1       0.47      0.03      0.06      2895\n",
      "\n",
      "    accuracy                           0.70      9689\n",
      "   macro avg       0.59      0.51      0.44      9689\n",
      "weighted avg       0.64      0.70      0.59      9689\n",
      "\n"
     ]
    }
   ],
   "source": [
    "# Train SVM classifier\n",
    "svm_classifier = SVC(kernel='linear')\n",
    "\n",
    "svm_classifier.fit(train_df, label_train_df)\n",
    "\n",
    "model_prediction = svm_classifier.predict(test_df)\n",
    "\n",
    "print(classification_report(test_labels, model_prediction))"
   ],
   "metadata": {
    "collapsed": false,
    "pycharm": {
     "name": "#%%\n"
    }
   }
  },
  {
   "cell_type": "code",
   "execution_count": 40,
   "outputs": [
    {
     "name": "stdout",
     "output_type": "stream",
     "text": [
      "              precision    recall  f1-score   support\n",
      "\n",
      "           0       0.70      0.99      0.82      6794\n",
      "           1       0.46      0.01      0.02      2895\n",
      "\n",
      "    accuracy                           0.70      9689\n",
      "   macro avg       0.58      0.50      0.42      9689\n",
      "weighted avg       0.63      0.70      0.58      9689\n",
      "\n"
     ]
    },
    {
     "name": "stderr",
     "output_type": "stream",
     "text": [
      "C:\\Users\\brenn\\PycharmProjects\\False-Data-Injection-Detection-for-Smart-Grid-Systems\\lib\\site-packages\\sklearn\\linear_model\\_logistic.py:814: ConvergenceWarning: lbfgs failed to converge (status=1):\n",
      "STOP: TOTAL NO. of ITERATIONS REACHED LIMIT.\n",
      "\n",
      "Increase the number of iterations (max_iter) or scale the data as shown in:\n",
      "    https://scikit-learn.org/stable/modules/preprocessing.html\n",
      "Please also refer to the documentation for alternative solver options:\n",
      "    https://scikit-learn.org/stable/modules/linear_model.html#logistic-regression\n",
      "  n_iter_i = _check_optimize_result(\n"
     ]
    }
   ],
   "source": [
    "#TODO: Convert to float64 to int64 for this classifier\n",
    "lr_classifier = LogisticRegression()\n",
    "lr_classifier.fit(train_df, label_train_df)\n",
    "\n",
    "model_prediction = lr_classifier.predict(test_df)\n",
    "print(classification_report(test_labels, model_prediction))"
   ],
   "metadata": {
    "collapsed": false,
    "pycharm": {
     "name": "#%%\n"
    }
   }
  },
  {
   "cell_type": "code",
   "execution_count": 24,
   "outputs": [
    {
     "name": "stdout",
     "output_type": "stream",
     "text": [
      "              precision    recall  f1-score   support\n",
      "\n",
      "           0       0.70      0.98      0.82      6794\n",
      "           1       0.34      0.02      0.04      2895\n",
      "\n",
      "    accuracy                           0.70      9689\n",
      "   macro avg       0.52      0.50      0.43      9689\n",
      "weighted avg       0.59      0.70      0.59      9689\n",
      "\n"
     ]
    }
   ],
   "source": [
    "nb_classifier = GaussianNB()\n",
    "nb_classifier.fit(train_df, label_train_df)\n",
    "\n",
    "model_prediction = nb_classifier.predict(test_df)\n",
    "print(classification_report(test_labels, model_prediction))\n"
   ],
   "metadata": {
    "collapsed": false,
    "pycharm": {
     "name": "#%%\n"
    }
   }
  },
  {
   "cell_type": "code",
   "execution_count": 25,
   "outputs": [
    {
     "name": "stdout",
     "output_type": "stream",
     "text": [
      "              precision    recall  f1-score   support\n",
      "\n",
      "           0       0.83      0.90      0.86      6794\n",
      "           1       0.71      0.57      0.63      2895\n",
      "\n",
      "    accuracy                           0.80      9689\n",
      "   macro avg       0.77      0.74      0.75      9689\n",
      "weighted avg       0.80      0.80      0.80      9689\n",
      "\n"
     ]
    }
   ],
   "source": [
    "knn_classifier = KNeighborsClassifier(n_neighbors=7)\n",
    "knn_classifier.fit(train_df, label_train_df)\n",
    "\n",
    "model_prediction = knn_classifier.predict(test_df)\n",
    "print(classification_report(test_labels, model_prediction))\n"
   ],
   "metadata": {
    "collapsed": false,
    "pycharm": {
     "name": "#%%\n"
    }
   }
  },
  {
   "cell_type": "code",
   "execution_count": 26,
   "outputs": [
    {
     "name": "stdout",
     "output_type": "stream",
     "text": [
      "              precision    recall  f1-score   support\n",
      "\n",
      "           0       0.71      1.00      0.83      6794\n",
      "           1       0.75      0.02      0.05      2895\n",
      "\n",
      "    accuracy                           0.71      9689\n",
      "   macro avg       0.73      0.51      0.44      9689\n",
      "weighted avg       0.72      0.71      0.59      9689\n",
      "\n"
     ]
    }
   ],
   "source": [
    "dt_classifier = DecisionTreeClassifier(max_depth=3)\n",
    "dt_classifier.fit(train_df, label_train_df)\n",
    "\n",
    "model_prediction = dt_classifier.predict(test_df)\n",
    "\n",
    "print(classification_report(test_labels, model_prediction))"
   ],
   "metadata": {
    "collapsed": false,
    "pycharm": {
     "name": "#%%\n"
    }
   }
  },
  {
   "cell_type": "code",
   "execution_count": 27,
   "outputs": [
    {
     "name": "stdout",
     "output_type": "stream",
     "text": [
      "              precision    recall  f1-score   support\n",
      "\n",
      "           0       0.72      0.96      0.82      6794\n",
      "           1       0.54      0.10      0.17      2895\n",
      "\n",
      "    accuracy                           0.71      9689\n",
      "   macro avg       0.63      0.53      0.50      9689\n",
      "weighted avg       0.66      0.71      0.63      9689\n",
      "\n"
     ]
    }
   ],
   "source": [
    "ada_classifier = AdaBoostClassifier()\n",
    "ada_classifier.fit(train_df, label_train_df)\n",
    "\n",
    "model_prediction = ada_classifier.predict(test_df)\n",
    "print(classification_report(test_labels, model_prediction))"
   ],
   "metadata": {
    "collapsed": false,
    "pycharm": {
     "name": "#%%\n"
    }
   }
  },
  {
   "cell_type": "code",
   "execution_count": 28,
   "outputs": [
    {
     "name": "stdout",
     "output_type": "stream",
     "text": [
      "              precision    recall  f1-score   support\n",
      "\n",
      "           0       0.72      0.99      0.84      6794\n",
      "           1       0.81      0.12      0.21      2895\n",
      "\n",
      "    accuracy                           0.73      9689\n",
      "   macro avg       0.77      0.55      0.52      9689\n",
      "weighted avg       0.75      0.73      0.65      9689\n",
      "\n"
     ]
    }
   ],
   "source": [
    "gb_classifier = GradientBoostingClassifier()\n",
    "gb_classifier.fit(train_df, label_train_df)\n",
    "\n",
    "model_prediction = gb_classifier.predict(test_df)\n",
    "print(classification_report(test_labels, model_prediction))"
   ],
   "metadata": {
    "collapsed": false,
    "pycharm": {
     "name": "#%%\n"
    }
   }
  },
  {
   "cell_type": "code",
   "execution_count": 29,
   "outputs": [
    {
     "name": "stdout",
     "output_type": "stream",
     "text": [
      "              precision    recall  f1-score   support\n",
      "\n",
      "           0       0.70      1.00      0.82      6794\n",
      "           1       0.00      0.00      0.00      2895\n",
      "\n",
      "    accuracy                           0.70      9689\n",
      "   macro avg       0.35      0.50      0.41      9689\n",
      "weighted avg       0.49      0.70      0.58      9689\n",
      "\n"
     ]
    },
    {
     "name": "stderr",
     "output_type": "stream",
     "text": [
      "C:\\Users\\brenn\\PycharmProjects\\False-Data-Injection-Detection-for-Smart-Grid-Systems\\lib\\site-packages\\sklearn\\metrics\\_classification.py:1318: UndefinedMetricWarning: Precision and F-score are ill-defined and being set to 0.0 in labels with no predicted samples. Use `zero_division` parameter to control this behavior.\n",
      "  _warn_prf(average, modifier, msg_start, len(result))\n",
      "C:\\Users\\brenn\\PycharmProjects\\False-Data-Injection-Detection-for-Smart-Grid-Systems\\lib\\site-packages\\sklearn\\metrics\\_classification.py:1318: UndefinedMetricWarning: Precision and F-score are ill-defined and being set to 0.0 in labels with no predicted samples. Use `zero_division` parameter to control this behavior.\n",
      "  _warn_prf(average, modifier, msg_start, len(result))\n",
      "C:\\Users\\brenn\\PycharmProjects\\False-Data-Injection-Detection-for-Smart-Grid-Systems\\lib\\site-packages\\sklearn\\metrics\\_classification.py:1318: UndefinedMetricWarning: Precision and F-score are ill-defined and being set to 0.0 in labels with no predicted samples. Use `zero_division` parameter to control this behavior.\n",
      "  _warn_prf(average, modifier, msg_start, len(result))\n"
     ]
    }
   ],
   "source": [
    "b_svc_classifier = BaggingClassifier(base_estimator=SVC(),\n",
    "                                     n_estimators=10)\n",
    "b_svc_classifier.fit(train_df, label_train_df)\n",
    "\n",
    "model_prediction = b_svc_classifier.predict(test_df)\n",
    "print(classification_report(test_labels, model_prediction))"
   ],
   "metadata": {
    "collapsed": false,
    "pycharm": {
     "name": "#%%\n"
    }
   }
  }
 ],
 "metadata": {
  "kernelspec": {
   "display_name": "Python 3",
   "language": "python",
   "name": "python3"
  },
  "language_info": {
   "codemirror_mode": {
    "name": "ipython",
    "version": 2
   },
   "file_extension": ".py",
   "mimetype": "text/x-python",
   "name": "python",
   "nbconvert_exporter": "python",
   "pygments_lexer": "ipython2",
   "version": "2.7.6"
  }
 },
 "nbformat": 4,
 "nbformat_minor": 0
}